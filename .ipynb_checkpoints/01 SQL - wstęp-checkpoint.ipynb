{
 "cells": [
  {
   "cell_type": "markdown",
   "metadata": {
    "slideshow": {
     "slide_type": "slide"
    }
   },
   "source": [
    "![](https://media-exp1.licdn.com/dms/image/C4D0BAQHUQWhqV2rl1g/company-logo_200_200/0/1550502396615?e=2159024400&v=beta&t=_mM0D3cbDu8DL3MUvcb75g65zJ-c4Wd0nrguJGoW_gE)"
   ]
  },
  {
   "cell_type": "markdown",
   "metadata": {},
   "source": [
    "# SQL - Wstęp"
   ]
  },
  {
   "cell_type": "markdown",
   "metadata": {},
   "source": [
    "_Mikołaj Leszczuk_"
   ]
  },
  {
   "cell_type": "markdown",
   "metadata": {
    "slideshow": {
     "slide_type": "slide"
    }
   },
   "source": [
    "## Konspekt"
   ]
  },
  {
   "cell_type": "markdown",
   "metadata": {
    "slideshow": {
     "slide_type": "fragment"
    }
   },
   "source": [
    "* Wstęp do kursu języka SQL\n",
    "* Schemat (diagram) bazy danych\n",
    "* Język SQL"
   ]
  },
  {
   "cell_type": "markdown",
   "metadata": {
    "slideshow": {
     "slide_type": "slide"
    }
   },
   "source": [
    "## Wstęp do kursu języka SQL"
   ]
  },
  {
   "cell_type": "markdown",
   "metadata": {
    "slideshow": {
     "slide_type": "slide"
    }
   },
   "source": [
    "### Jak podzielony jest kurs"
   ]
  },
  {
   "cell_type": "markdown",
   "metadata": {
    "slideshow": {
     "slide_type": "fragment"
    }
   },
   "source": [
    "1. Wstęp – o kursie, schemat bazy użytej w przykładach, ogólny opis języka SQL\n",
    "1. Poziom początkujący – początkujący poziom trudności zagadnień i zadań\n",
    "1. Poziom podstawowy – podstawowy poziom trudności zagadnień i zadań\n",
    "1. Stringi i joiny\n",
    "1. Interfejs Pythona dla baz danych SQLite\n",
    "1. (Poziom zaawansowany – podzapytania – zaawansowany poziom trudności zagadnień i zadań)"
   ]
  },
  {
   "cell_type": "markdown",
   "metadata": {
    "slideshow": {
     "slide_type": "slide"
    }
   },
   "source": [
    "## Schemat (diagram) bazy danych"
   ]
  },
  {
   "cell_type": "markdown",
   "metadata": {
    "slideshow": {
     "slide_type": "slide"
    }
   },
   "source": [
    "W celu przygotowania przykładów oraz zadań stworzona została prosta baza danych na wzór sklepu internetowego, który jest doskonałym przykładem użytecznego wykorzystania bazy w aplikacjach www.\n",
    "\n",
    "Składa się ona z 4 tabel, w których zapisane są:\n",
    "1. **`Product`** (Produkty) – identyfikator, nazwa, cena, dostępna liczba, data dodania\n",
    "2. **`Customer`** (Klienci) – identyfikator, imię, miejsce zamieszkania, data dodania\n",
    "3. **`Orders`** (Zamówienia) - identyfikator, identyfikator klienta który złożył zamówienie, całkowita wartość zamówienia (nie będzie używana)\n",
    "4. **`Order_product`** (Przypisanie zamówienie-produkt) – identyfikator zamówienia, identyfikator produktu, liczba tych produktów"
   ]
  },
  {
   "cell_type": "markdown",
   "metadata": {
    "slideshow": {
     "slide_type": "slide"
    }
   },
   "source": [
    "Oto wizualny diagram bazy danych:"
   ]
  },
  {
   "cell_type": "markdown",
   "metadata": {
    "slideshow": {
     "slide_type": "fragment"
    }
   },
   "source": [
    "![](https://raw.githubusercontent.com/miklesz/Courses/main/SQL/dbdiagram.png)"
   ]
  },
  {
   "cell_type": "markdown",
   "metadata": {
    "slideshow": {
     "slide_type": "fragment"
    }
   },
   "source": [
    "**PK** – Primary Key (klucz główny) - kolumna (kolumny) której wartości jednoznacznie identyfikują wiersze tabeli."
   ]
  },
  {
   "cell_type": "markdown",
   "metadata": {
    "slideshow": {
     "slide_type": "slide"
    }
   },
   "source": [
    "**Tabele wypełnione zostały danymi.**"
   ]
  },
  {
   "cell_type": "markdown",
   "metadata": {
    "slideshow": {
     "slide_type": "fragment"
    }
   },
   "source": [
    "Tabela **`Product`**:"
   ]
  },
  {
   "cell_type": "markdown",
   "metadata": {
    "slideshow": {
     "slide_type": "fragment"
    }
   },
   "source": [
    "| id |   name  | price | amount |    date    |\n",
    "|:--:|:-------:|:-----:|:------:|:----------:|\n",
    "| 5  | Spodnie | 100   | 5      | 2011-02-01 |\n",
    "| 6  | Bluza   | 60    | 2      | 2011-02-12 |"
   ]
  },
  {
   "cell_type": "markdown",
   "metadata": {
    "slideshow": {
     "slide_type": "slide"
    }
   },
   "source": [
    "Tabela **`Customer`**:"
   ]
  },
  {
   "cell_type": "markdown",
   "metadata": {
    "slideshow": {
     "slide_type": "fragment"
    }
   },
   "source": [
    "| id |    name   |   city   |    date    |\n",
    "|:--:|:---------:|:--------:|:----------:|\n",
    "| 1  | Adam      | Lublin   | 2011-02-05 |\n",
    "| 2  | Monika    | Gdynia   | 2011-02-19 |\n",
    "| 3  | Natalia   | Zakopane | 2011-02-23 |\n",
    "| 4  | Katarzyna | Lublin   | 2011-02-23 |\n",
    "| 5  | Marcin    | Warszawa | 2011-03-21 |"
   ]
  },
  {
   "cell_type": "markdown",
   "metadata": {
    "slideshow": {
     "slide_type": "slide"
    }
   },
   "source": [
    "Tabela **`Order_product`**:"
   ]
  },
  {
   "cell_type": "markdown",
   "metadata": {
    "slideshow": {
     "slide_type": "fragment"
    }
   },
   "source": [
    "| order_id | product_id | amount |\n",
    "|:--------:|:----------:|:------:|\n",
    "| 1        | 2          | 2      |\n",
    "| 1        | 4          | 1      |\n",
    "| 2        | 6          | 1      |\n",
    "| 2        | 8          | 1      |\n",
    "| 2        | 5          | 2      |\n",
    "| 3        | 5          | 1      |\n",
    "| 3        | 7          | 2      |\n",
    "| 4        | 5          | 1      |\n",
    "| 4        | 2          | 1      |\n",
    "| 4        | 7          | 2      |\n",
    "| 5        | 4          | 1      |\n",
    "| 6        | 6          | 1      |"
   ]
  },
  {
   "cell_type": "markdown",
   "metadata": {
    "slideshow": {
     "slide_type": "slide"
    }
   },
   "source": [
    "## Język SQL"
   ]
  },
  {
   "cell_type": "markdown",
   "metadata": {
    "slideshow": {
     "slide_type": "fragment"
    }
   },
   "source": [
    "**Język SQL** to strukturalny język zapytań (ang. _Structured Query Language_ wym. /ɛskjuːˈɛl/).\n",
    "\n",
    "Jest to bardzo powszechny i standaryzowany język dostępu do systemów zarządzania relacyjnymi bazami danych.\n",
    "\n",
    "Służy do tworzenia i modyfikowania baz danych oraz do pobierania i zapisywania danych z i do bazy.\n",
    "\n",
    "Decyzję o sposobie przechowywania i pobrania danych pozostawia się **systemowi zarządzania bazą danych** (ang. _Database Management System_, DBMS)."
   ]
  },
  {
   "cell_type": "markdown",
   "metadata": {
    "slideshow": {
     "slide_type": "slide"
    }
   },
   "source": [
    "### Historia"
   ]
  },
  {
   "cell_type": "markdown",
   "metadata": {
    "slideshow": {
     "slide_type": "fragment"
    }
   },
   "source": [
    "SQL został opracowany w latach 70. w firmie **IBM**. Stał się **standardem** w komunikacji z **serwerami** relacyjnych **baz danych**. "
   ]
  },
  {
   "cell_type": "markdown",
   "metadata": {},
   "source": [
    "![](https://upload.wikimedia.org/wikipedia/commons/5/51/IBM_logo.svg)"
   ]
  },
  {
   "cell_type": "markdown",
   "metadata": {
    "slideshow": {
     "slide_type": "slide"
    }
   },
   "source": [
    "Wiele współczesnych systemów relacyjnych baz danych używa do komunikacji z użytkownikiem SQL, dlatego potocznie mówi się, że korzystanie z relacyjnych baz danych to korzystanie z SQL-a."
   ]
  },
  {
   "cell_type": "markdown",
   "metadata": {
    "slideshow": {
     "slide_type": "fragment"
    }
   },
   "source": [
    "Pierwszą firmą, która włączyła SQL do swojego produktu komercyjnego, był **Oracle**."
   ]
  },
  {
   "cell_type": "markdown",
   "metadata": {},
   "source": [
    "![](https://upload.wikimedia.org/wikipedia/commons/5/50/Oracle_logo.svg)"
   ]
  },
  {
   "cell_type": "markdown",
   "metadata": {
    "slideshow": {
     "slide_type": "slide"
    }
   },
   "source": [
    "Dalsze wprowadzanie SQL-a, w produktach innych firm, wiązało się nierozłącznie z wprowadzaniem modyfikacji pierwotnego języka. \n",
    "\n",
    "Wkrótce utrzymanie dalszej jednolitości języka wymagało wprowadzenia standardu."
   ]
  },
  {
   "cell_type": "markdown",
   "metadata": {
    "slideshow": {
     "slide_type": "slide"
    }
   },
   "source": [
    "Pierwotną nazwą języka miał być **_SEQUEL_**, jednakże okazało się, że nazwa ta była już zastrzeżona przez brytyjską wytwórnię lotniczą **Hawker Siddeley**."
   ]
  },
  {
   "cell_type": "markdown",
   "metadata": {},
   "source": [
    "![](https://upload.wikimedia.org/wikipedia/en/6/69/Hawker_Siddeley.png)"
   ]
  },
  {
   "cell_type": "markdown",
   "metadata": {
    "slideshow": {
     "slide_type": "slide"
    }
   },
   "source": [
    "**SQL** rozpoznawany jest przez wszystkie najpopularniejsze DBMS takie jak np. SQLite, MySQL, PostgreSQL, Microsoft SQL Server, Oracle, DB2.\n",
    "\n",
    "Język SQL w przeciwieństwie do języków programowania nie służy do tworzenia programów, ale tylko do operacji na danych zawartych w bazie. Jest więc nazywany pod-językiem danych."
   ]
  },
  {
   "cell_type": "markdown",
   "metadata": {
    "slideshow": {
     "slide_type": "slide"
    }
   },
   "source": [
    "### Składnia SQL"
   ]
  },
  {
   "cell_type": "markdown",
   "metadata": {
    "slideshow": {
     "slide_type": "fragment"
    }
   },
   "source": [
    "Użycie SQL, zgodnie z jego nazwą, polega na zadawaniu zapytań (query) do bazy danych i przekazywaniu użytkownikowi żądanych danych. Zapytania można zaliczyć do jednego z czterech głównych podzbiorów:\n",
    "\n",
    "* **SQL DML** (ang. _Data Manipulation Language_ – „język manipulacji danymi”),\n",
    "* **SQL DDL** (ang. _Data Definition Language_ – „język definicji danych”),\n",
    "* **SQL DCL** (ang. _Data Control Language_ – „język kontroli nad danymi”).\n",
    "* **SQL DQL** (ang. _Data Query Language_ – „język definiowania zapytań”)."
   ]
  },
  {
   "cell_type": "markdown",
   "metadata": {
    "slideshow": {
     "slide_type": "slide"
    }
   },
   "source": [
    "Instrukcje SQL w obrębie zapytań tradycyjnie zapisywane są wielkimi literami, jednak nie jest to wymóg. Każde zapytanie w SQL-u musi kończyć się znakiem średnika (`;`).\n",
    "\n",
    "Dodatkowo, niektóre programy do łączenia się z silnikiem bazy danych (np. **`psql`** w przypadku PostgreSQL), używają swoich własnych instrukcji, spoza standardu SQL, które służą np. do połączenia się z bazą, wyświetlenia dokumentacji itp."
   ]
  },
  {
   "cell_type": "markdown",
   "metadata": {
    "slideshow": {
     "slide_type": "fragment"
    }
   },
   "source": [
    "![](https://wikimedia.org/api/rest_v1/media/math/render/svg/b83ad563285f7b0ebb325226d91f25ca0bffa7cd)"
   ]
  },
  {
   "cell_type": "markdown",
   "metadata": {
    "slideshow": {
     "slide_type": "slide"
    }
   },
   "source": [
    "### Dobre zwyczaje w posługiwaniu się językiem SQL i bazami danych"
   ]
  },
  {
   "cell_type": "markdown",
   "metadata": {},
   "source": [
    "![](https://upload.wikimedia.org/wikipedia/commons/thumb/c/c0/Good_Manners.JPG/329px-Good_Manners.JPG)"
   ]
  },
  {
   "cell_type": "markdown",
   "metadata": {
    "slideshow": {
     "slide_type": "slide"
    }
   },
   "source": [
    "Na początku pracy z bazą danych oraz językiem, warto wybrać sposób w jaki będzie się zapisywać nazwy tabeli, zapytania, warunki itd."
   ]
  },
  {
   "cell_type": "markdown",
   "metadata": {
    "slideshow": {
     "slide_type": "slide"
    }
   },
   "source": [
    "Zasady przyjęte w tym kursie to m.in.:\n",
    "\n",
    "* nazwy tabeli zapisywane są z wielkiej litery (w zapytaniach z małej) oraz składają się tylko z liter i znaku “`_`”\n",
    "* słowa kluczowe w zapytaniach są pisane wielkimi literami w odróżnieniu od np. nazw kolumn czy warunków\n",
    "\n",
    "Szczególnie drugi z powyższych przykładów jest dobrym zwyczajem w pisaniu zapytań przestrzeganym przez większość osób posługujących się SQL-em.\n",
    "\n",
    "Warto już na początku wypracować pewne nawyki, aby później móc z automatyzmem i łatwością odczytywać swoje zapytania i tworzyć nowe.\n"
   ]
  },
  {
   "cell_type": "markdown",
   "metadata": {
    "slideshow": {
     "slide_type": "slide"
    }
   },
   "source": [
    "### SQLite"
   ]
  },
  {
   "cell_type": "markdown",
   "metadata": {},
   "source": [
    "![](https://upload.wikimedia.org/wikipedia/commons/3/38/SQLite370.svg)"
   ]
  },
  {
   "cell_type": "markdown",
   "metadata": {
    "slideshow": {
     "slide_type": "subslide"
    }
   },
   "source": [
    "**SQLite** – **DBMS** oraz **biblioteka C implementująca** taki system, obsługująca język **SQL**. Została stworzona przez **Richarda Hippa** i jest dostępna na **licencji public domain**. Projekt został rozpoczęty w roku 2000.\n",
    "\n",
    "SQLite posiada również **API** do innych niż C **języków programowania**, a mianowicie: **ActionScript**, **Perl**, **PHP**, **Ruby**, **C++**, **Delphi**, **Python**, **Java**, **Tcl**, **Visual Basic**, platformy **.NET** i wielu innych; a także interfejs **powłokowy**.\n",
    "\n",
    "Zawartość bazy danych przetrzymywana jest w jednym **pliku** (do 140 **TB**)."
   ]
  },
  {
   "cell_type": "markdown",
   "metadata": {
    "slideshow": {
     "slide_type": "slide"
    }
   },
   "source": [
    "### MySQL"
   ]
  },
  {
   "cell_type": "markdown",
   "metadata": {},
   "source": [
    "![](https://upload.wikimedia.org/wikipedia/en/d/dd/MySQL_logo.svg)"
   ]
  },
  {
   "cell_type": "markdown",
   "metadata": {
    "slideshow": {
     "slide_type": "subslide"
    }
   },
   "source": [
    "**MySQL (maɪɛskjuːˈɛl) – wolnodostępny, otwartoźródłowy system zarządzania relacyjnymi bazami danych.**\n",
    "\n",
    "MySQL rozwijany jest przez firmę **Oracle**. Wcześniej przez większość czasu jego tworzeniem zajmowała się **szwedzka** firma **MySQL AB**. MySQL AB została kupiona 16 stycznia 2008 roku przez **Sun Microsystems**, a ten 27 stycznia 2010 roku przez Oracle. W międzyczasie Monty Widenius (współtwórca MySQL) stworzył **MariaDB – forka** (alternatywną wersję) opartego na licencji GPL. MariaDB jest oparta na tym samym kodzie bazowym co MySQL i dąży do utrzymania kompatybilności z jej poprzednimi wersjami."
   ]
  },
  {
   "cell_type": "markdown",
   "metadata": {
    "slideshow": {
     "slide_type": "slide"
    }
   },
   "source": [
    "### PostgreSQL"
   ]
  },
  {
   "cell_type": "markdown",
   "metadata": {},
   "source": [
    "![](https://upload.wikimedia.org/wikipedia/commons/2/29/Postgresql_elephant.svg)"
   ]
  },
  {
   "cell_type": "markdown",
   "metadata": {
    "slideshow": {
     "slide_type": "subslide"
    }
   },
   "source": [
    "**PostgreSQL** (/poːst ɡɹɛs kjuː ɛl/), także **Postgres** – obok **MySQL** i **SQLite**, jeden z trzech najpopularniejszych **otwartych** systemów zarządzania **relacyjnymi bazami danych**. Początkowo opracowywany na **Uniwersytecie Kalifornijskim w Berkeley** i opublikowany pod nazwą Ingres. W miarę rozwoju i zwiększania funkcjonalności, **baza danych** otrzymała nazwy Postgres95 i ostatecznie PostgreSQL, aby upamiętnić pierwowzór oraz zaznaczyć zgodność ze **standardem SQL**. Aktualnie baza implementuje większość standardu SQL:2011.\n",
    "\n",
    "Większość dystrybucji Linuksa zawiera pakiety umożliwiające instalację bazy PostgreSQL. **MacOS**, od wersji Lion, posiada pakiety instalacyjne bazy w wersji serwerowej systemu operacyjnego oraz narzędzia klienckie w wersji desktopowej."
   ]
  },
  {
   "cell_type": "markdown",
   "metadata": {
    "slideshow": {
     "slide_type": "slide"
    }
   },
   "source": [
    "### Bezpieczeństwo"
   ]
  },
  {
   "cell_type": "markdown",
   "metadata": {
    "slideshow": {
     "slide_type": "fragment"
    }
   },
   "source": [
    "Ponieważ SQL jest językiem interpretowanym, istnieje możliwość nadużyć w przypadku konstruowania zapytań z wykorzystaniem parametrów pochodzących z zewnątrz aplikacji. \n",
    "\n",
    "Szczególnie podatne na ten typ ataku są tworzone dynamicznie w oparciu o SQL-ową bazę danych serwisy internetowe. \n",
    "\n",
    "Jeśli twórca aplikacji nie zadba o sprawdzenie poprawności (tzw. **walidację**) danych wejściowych stanowiących część zapytania, atakujący może dopisać do zapytania („wstrzyknąć”) dodatkowe komendy lub zmienić ich sposób działania. \n",
    "\n",
    "Atak taki nosi nazwę **SQL injection** (wstrzyknięcie kodu za pomocą SQL)."
   ]
  },
  {
   "cell_type": "code",
   "execution_count": null,
   "metadata": {
    "slideshow": {
     "slide_type": "skip"
    }
   },
   "outputs": [],
   "source": []
  }
 ],
 "metadata": {
  "celltoolbar": "Slideshow",
  "kernelspec": {
   "display_name": "Python 3 (ipykernel)",
   "language": "python",
   "name": "python3"
  },
  "language_info": {
   "codemirror_mode": {
    "name": "ipython",
    "version": 3
   },
   "file_extension": ".py",
   "mimetype": "text/x-python",
   "name": "python",
   "nbconvert_exporter": "python",
   "pygments_lexer": "ipython3",
   "version": "3.13.0"
  }
 },
 "nbformat": 4,
 "nbformat_minor": 4
}
