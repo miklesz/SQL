{
 "cells": [
  {
   "cell_type": "markdown",
   "metadata": {
    "slideshow": {
     "slide_type": "slide"
    }
   },
   "source": [
    "![](https://media-exp1.licdn.com/dms/image/C4D0BAQHUQWhqV2rl1g/company-logo_200_200/0/1550502396615?e=2159024400&v=beta&t=_mM0D3cbDu8DL3MUvcb75g65zJ-c4Wd0nrguJGoW_gE)"
   ]
  },
  {
   "cell_type": "markdown",
   "metadata": {},
   "source": [
    "# SQL - Początkujący"
   ]
  },
  {
   "cell_type": "markdown",
   "metadata": {},
   "source": [
    "_Mikołaj Leszczuk_"
   ]
  },
  {
   "cell_type": "markdown",
   "metadata": {
    "slideshow": {
     "slide_type": "slide"
    }
   },
   "source": [
    "## Konspekt"
   ]
  },
  {
   "cell_type": "markdown",
   "metadata": {
    "slideshow": {
     "slide_type": "fragment"
    }
   },
   "source": [
    "* Wybieranie rekordów – operacja `SELECT`\n",
    "* Usuwanie rekordów – operacja `DELETE`\n",
    "* Dodawanie rekordów – operacja `INSERT`\n",
    "* Zmiana rekordów – operacja `UPDATE`\n",
    "* Tworzenie i usuwanie bazy danych\n",
    "* Tworzenie tabeli w bazie danych"
   ]
  },
  {
   "cell_type": "markdown",
   "metadata": {
    "slideshow": {
     "slide_type": "slide"
    }
   },
   "source": [
    "[00 SQL - Reset.ipynb](00%20SQL%20-%20Reset.ipynb)"
   ]
  },
  {
   "cell_type": "code",
   "execution_count": 1,
   "metadata": {
    "slideshow": {
     "slide_type": "-"
    }
   },
   "outputs": [],
   "source": [
    "%LOAD CodeBrainers.db rw"
   ]
  },
  {
   "cell_type": "markdown",
   "metadata": {
    "slideshow": {
     "slide_type": "slide"
    }
   },
   "source": [
    "## Wybieranie rekordów – operacja `SELECT`"
   ]
  },
  {
   "cell_type": "markdown",
   "metadata": {
    "slideshow": {
     "slide_type": "fragment"
    }
   },
   "source": [
    "Zapytanie `SELECT` służy do wybierania z bazy danych żądanych rekordów. Jest ono podstawowym i najbardziej rozbudowanym poleceniem języka SQL gdyż często potrzebujemy zaprezentować dane w odpowiedni sposób oraz pobrać je w zależności od innych parametrów. Zapytanie składa się z:\n",
    "\n",
    "* instrukcji `SELECT` oznaczającej chęć wybrania danych z bazy\n",
    "* nazw kolumn oddzielonych przecinkami znajdujących się w tabeli (`*` - wszystkie)\n",
    "* części `FROM` w której podajemy nazwę tabeli\n",
    "\n",
    "```sqlite\n",
    "SELECT kolumna,kolumna,.. FROM tabela;\n",
    "```\n",
    "\n",
    "```sqlite\n",
    "SELECT * FROM tabela;\n",
    "```"
   ]
  },
  {
   "cell_type": "markdown",
   "metadata": {
    "slideshow": {
     "slide_type": "subslide"
    }
   },
   "source": [
    "Musimy uważać, aby wybierane kolumny istniały w tabeli oraz aby zachować pożądaną kolejność, gdyż kolumny danych będą zwrócone zgodnie z podaną kolejnością."
   ]
  },
  {
   "cell_type": "markdown",
   "metadata": {
    "slideshow": {
     "slide_type": "slide"
    }
   },
   "source": [
    "#### Przykład\n",
    "\n",
    "**Wybieramy z tabeli Customer wszystkich klientów z ich identyfikatorami, imionami oraz miastami.**\n",
    "\n",
    "Tabela **Customer**:"
   ]
  },
  {
   "cell_type": "code",
   "execution_count": 2,
   "metadata": {
    "slideshow": {
     "slide_type": "fragment"
    }
   },
   "outputs": [
    {
     "data": {
      "text/html": [
       "<table>\n",
       "<tr>\n",
       "<th>id</th>\n",
       "<th>name</th>\n",
       "<th>city</th>\n",
       "<th>date</th>\n",
       "</tr>\n",
       "<tr>\n",
       "<td>1</td>\n",
       "<td>Adam</td>\n",
       "<td>Lublin</td>\n",
       "<td>2011-02-05</td>\n",
       "</tr>\n",
       "<tr>\n",
       "<td>2</td>\n",
       "<td>Monika</td>\n",
       "<td>Gdynia</td>\n",
       "<td>2011-02-19</td>\n",
       "</tr>\n",
       "<tr>\n",
       "<td>3</td>\n",
       "<td>Natalia</td>\n",
       "<td>Zakopane</td>\n",
       "<td>2011-02-23</td>\n",
       "</tr>\n",
       "<tr>\n",
       "<td>4</td>\n",
       "<td>Katarzyna</td>\n",
       "<td>Lublin</td>\n",
       "<td>2011-03-08</td>\n",
       "</tr>\n",
       "<tr>\n",
       "<td>5</td>\n",
       "<td>Marcin</td>\n",
       "<td>Warszawa</td>\n",
       "<td>2011-03-21</td>\n",
       "</tr>\n",
       "</table>"
      ],
      "text/plain": [
       "+----+-----------+----------+------------+\n",
       "| id | name      | city     | date       |\n",
       "+----+-----------+----------+------------+\n",
       "| 1  | Adam      | Lublin   | 2011-02-05 |\n",
       "+----+-----------+----------+------------+\n",
       "| 2  | Monika    | Gdynia   | 2011-02-19 |\n",
       "+----+-----------+----------+------------+\n",
       "| 3  | Natalia   | Zakopane | 2011-02-23 |\n",
       "+----+-----------+----------+------------+\n",
       "| 4  | Katarzyna | Lublin   | 2011-03-08 |\n",
       "+----+-----------+----------+------------+\n",
       "| 5  | Marcin    | Warszawa | 2011-03-21 |\n",
       "+----+-----------+----------+------------+"
      ]
     },
     "execution_count": 2,
     "metadata": {},
     "output_type": "execute_result"
    }
   ],
   "source": [
    "SELECT * FROM customer;"
   ]
  },
  {
   "cell_type": "markdown",
   "metadata": {
    "slideshow": {
     "slide_type": "subslide"
    }
   },
   "source": [
    "Zapytanie i wynik zapytania:"
   ]
  },
  {
   "cell_type": "code",
   "execution_count": 3,
   "metadata": {
    "slideshow": {
     "slide_type": "fragment"
    }
   },
   "outputs": [
    {
     "data": {
      "text/html": [
       "<table>\n",
       "<tr>\n",
       "<th>id</th>\n",
       "<th>name</th>\n",
       "<th>city</th>\n",
       "</tr>\n",
       "<tr>\n",
       "<td>1</td>\n",
       "<td>Adam</td>\n",
       "<td>Lublin</td>\n",
       "</tr>\n",
       "<tr>\n",
       "<td>2</td>\n",
       "<td>Monika</td>\n",
       "<td>Gdynia</td>\n",
       "</tr>\n",
       "<tr>\n",
       "<td>3</td>\n",
       "<td>Natalia</td>\n",
       "<td>Zakopane</td>\n",
       "</tr>\n",
       "<tr>\n",
       "<td>4</td>\n",
       "<td>Katarzyna</td>\n",
       "<td>Lublin</td>\n",
       "</tr>\n",
       "<tr>\n",
       "<td>5</td>\n",
       "<td>Marcin</td>\n",
       "<td>Warszawa</td>\n",
       "</tr>\n",
       "</table>"
      ],
      "text/plain": [
       "+----+-----------+----------+\n",
       "| id | name      | city     |\n",
       "+----+-----------+----------+\n",
       "| 1  | Adam      | Lublin   |\n",
       "+----+-----------+----------+\n",
       "| 2  | Monika    | Gdynia   |\n",
       "+----+-----------+----------+\n",
       "| 3  | Natalia   | Zakopane |\n",
       "+----+-----------+----------+\n",
       "| 4  | Katarzyna | Lublin   |\n",
       "+----+-----------+----------+\n",
       "| 5  | Marcin    | Warszawa |\n",
       "+----+-----------+----------+"
      ]
     },
     "execution_count": 3,
     "metadata": {},
     "output_type": "execute_result"
    }
   ],
   "source": [
    "SELECT id,name,city FROM customer;"
   ]
  },
  {
   "cell_type": "markdown",
   "metadata": {
    "slideshow": {
     "slide_type": "slide"
    }
   },
   "source": [
    "#### Ćwiczenie\n",
    "\n",
    "**Wybierz wszystkie identyfikatory i nazwy produktów**\n",
    "\n",
    "Tabela **Product**:"
   ]
  },
  {
   "cell_type": "code",
   "execution_count": 4,
   "metadata": {
    "scrolled": true,
    "slideshow": {
     "slide_type": "fragment"
    }
   },
   "outputs": [
    {
     "data": {
      "text/html": [
       "<table>\n",
       "<tr>\n",
       "<th>id</th>\n",
       "<th>name</th>\n",
       "<th>price</th>\n",
       "<th>amount</th>\n",
       "<th>date</th>\n",
       "</tr>\n",
       "<tr>\n",
       "<td>5</td>\n",
       "<td>Spodnie</td>\n",
       "<td>100.0</td>\n",
       "<td>5</td>\n",
       "<td>2011-02-01</td>\n",
       "</tr>\n",
       "<tr>\n",
       "<td>6</td>\n",
       "<td>Bluza</td>\n",
       "<td>60.0</td>\n",
       "<td>2</td>\n",
       "<td>2011-02-12</td>\n",
       "</tr>\n",
       "</table>"
      ],
      "text/plain": [
       "+----+---------+-------+--------+------------+\n",
       "| id | name    | price | amount | date       |\n",
       "+----+---------+-------+--------+------------+\n",
       "| 5  | Spodnie | 100.0 | 5      | 2011-02-01 |\n",
       "+----+---------+-------+--------+------------+\n",
       "| 6  | Bluza   | 60.0  | 2      | 2011-02-12 |\n",
       "+----+---------+-------+--------+------------+"
      ]
     },
     "execution_count": 4,
     "metadata": {},
     "output_type": "execute_result"
    }
   ],
   "source": [
    "SELECT * FROM product;"
   ]
  },
  {
   "cell_type": "markdown",
   "metadata": {
    "slideshow": {
     "slide_type": "fragment"
    }
   },
   "source": [
    "Wpisz zapytanie do bazy!"
   ]
  },
  {
   "cell_type": "markdown",
   "metadata": {
    "slideshow": {
     "slide_type": "-"
    }
   },
   "source": [
    "---"
   ]
  },
  {
   "cell_type": "markdown",
   "metadata": {
    "slideshow": {
     "slide_type": "subslide"
    }
   },
   "source": [
    "Zapytanie:"
   ]
  },
  {
   "cell_type": "code",
   "execution_count": 5,
   "metadata": {
    "slideshow": {
     "slide_type": "fragment"
    }
   },
   "outputs": [
    {
     "data": {
      "text/html": [
       "<table>\n",
       "<tr>\n",
       "<th>id</th>\n",
       "<th>name</th>\n",
       "</tr>\n",
       "<tr>\n",
       "<td>5</td>\n",
       "<td>Spodnie</td>\n",
       "</tr>\n",
       "<tr>\n",
       "<td>6</td>\n",
       "<td>Bluza</td>\n",
       "</tr>\n",
       "</table>"
      ],
      "text/plain": [
       "+----+---------+\n",
       "| id | name    |\n",
       "+----+---------+\n",
       "| 5  | Spodnie |\n",
       "+----+---------+\n",
       "| 6  | Bluza   |\n",
       "+----+---------+"
      ]
     },
     "execution_count": 5,
     "metadata": {},
     "output_type": "execute_result"
    }
   ],
   "source": [
    "SELECT id,name FROM product;"
   ]
  },
  {
   "cell_type": "markdown",
   "metadata": {
    "slideshow": {
     "slide_type": "slide"
    }
   },
   "source": [
    "Zapytanie `SELECT .. ORDER BY` jest używane do posortowania wybranych danych. Sortowanie odbywa się według wartości podanej kolumny (kolumn). Możemy sortować rosnąco co oznaczamy słowem kluczowym `ASC` (ascend) lub malejąco co oznaczamy słowem `DESC` (descend).\n",
    "\n",
    "```sqlite\n",
    "SELECT kolumna1,kolumna2,.. FROM tabela ORDER BY kolumna3 DESC;\n",
    "```\n",
    "\n",
    "Sortować można również według kolumn nie wybieranych w danym zapytaniu a tylko znajdujących się w tabeli."
   ]
  },
  {
   "cell_type": "markdown",
   "metadata": {
    "slideshow": {
     "slide_type": "slide"
    }
   },
   "source": [
    "#### Przykład\n",
    "\n",
    "**Wybieramy z tabeli Product nazwę, cenę i datę dodania produktu posortowane malejąco według daty dodania.**\n",
    "\n",
    "Tabela **Product**:"
   ]
  },
  {
   "cell_type": "code",
   "execution_count": 6,
   "metadata": {
    "slideshow": {
     "slide_type": "fragment"
    }
   },
   "outputs": [
    {
     "data": {
      "text/html": [
       "<table>\n",
       "<tr>\n",
       "<th>id</th>\n",
       "<th>name</th>\n",
       "<th>price</th>\n",
       "<th>amount</th>\n",
       "<th>date</th>\n",
       "</tr>\n",
       "<tr>\n",
       "<td>5</td>\n",
       "<td>Spodnie</td>\n",
       "<td>100.0</td>\n",
       "<td>5</td>\n",
       "<td>2011-02-01</td>\n",
       "</tr>\n",
       "<tr>\n",
       "<td>6</td>\n",
       "<td>Bluza</td>\n",
       "<td>60.0</td>\n",
       "<td>2</td>\n",
       "<td>2011-02-12</td>\n",
       "</tr>\n",
       "</table>"
      ],
      "text/plain": [
       "+----+---------+-------+--------+------------+\n",
       "| id | name    | price | amount | date       |\n",
       "+----+---------+-------+--------+------------+\n",
       "| 5  | Spodnie | 100.0 | 5      | 2011-02-01 |\n",
       "+----+---------+-------+--------+------------+\n",
       "| 6  | Bluza   | 60.0  | 2      | 2011-02-12 |\n",
       "+----+---------+-------+--------+------------+"
      ]
     },
     "execution_count": 6,
     "metadata": {},
     "output_type": "execute_result"
    }
   ],
   "source": [
    "SELECT * FROM product;"
   ]
  },
  {
   "cell_type": "markdown",
   "metadata": {
    "slideshow": {
     "slide_type": "subslide"
    }
   },
   "source": [
    "Zapytanie i wynik zapytania:"
   ]
  },
  {
   "cell_type": "code",
   "execution_count": 7,
   "metadata": {
    "slideshow": {
     "slide_type": "fragment"
    }
   },
   "outputs": [
    {
     "data": {
      "text/html": [
       "<table>\n",
       "<tr>\n",
       "<th>name</th>\n",
       "<th>price</th>\n",
       "<th>date</th>\n",
       "</tr>\n",
       "<tr>\n",
       "<td>Bluza</td>\n",
       "<td>60.0</td>\n",
       "<td>2011-02-12</td>\n",
       "</tr>\n",
       "<tr>\n",
       "<td>Spodnie</td>\n",
       "<td>100.0</td>\n",
       "<td>2011-02-01</td>\n",
       "</tr>\n",
       "</table>"
      ],
      "text/plain": [
       "+---------+-------+------------+\n",
       "| name    | price | date       |\n",
       "+---------+-------+------------+\n",
       "| Bluza   | 60.0  | 2011-02-12 |\n",
       "+---------+-------+------------+\n",
       "| Spodnie | 100.0 | 2011-02-01 |\n",
       "+---------+-------+------------+"
      ]
     },
     "execution_count": 7,
     "metadata": {},
     "output_type": "execute_result"
    }
   ],
   "source": [
    "SELECT name,price,date FROM product ORDER BY date DESC;"
   ]
  },
  {
   "cell_type": "markdown",
   "metadata": {
    "slideshow": {
     "slide_type": "subslide"
    }
   },
   "source": [
    "Zapytanie `SELECT .. WHERE` stosowane jest gdy chcemy wybrać rekordy z tabeli według podanych kryteriów. Wynikiem będą tylko te, które spełniają warunek (warunki) postawiony zaraz po klauzuli `WHERE`.\n",
    "\n",
    "```sqlite\n",
    "SELECT kolumna,kolumna,.. FROM tabela WHERE kolumna='wartość';\n",
    "```\n",
    "\n",
    "Warunki logiczne mogą składać się z operatorów takich jak:\n",
    "\n",
    "* znak równości (`=`)\n",
    "* negacja (`!=`)\n",
    "* znak mniejszości (`<`) lub (`<=`)\n",
    "* znak większości (`>`) lub (`>=`)"
   ]
  },
  {
   "cell_type": "markdown",
   "metadata": {
    "slideshow": {
     "slide_type": "slide"
    }
   },
   "source": [
    "#### Przykład\n",
    "\n",
    "**Wybieramy z tabeli Customer imiona klientów którzy mieszkają w Lublinie**\n",
    "\n",
    "Tabela **Customer**:"
   ]
  },
  {
   "cell_type": "code",
   "execution_count": 8,
   "metadata": {
    "slideshow": {
     "slide_type": "fragment"
    }
   },
   "outputs": [
    {
     "data": {
      "text/html": [
       "<table>\n",
       "<tr>\n",
       "<th>id</th>\n",
       "<th>name</th>\n",
       "<th>city</th>\n",
       "<th>date</th>\n",
       "</tr>\n",
       "<tr>\n",
       "<td>1</td>\n",
       "<td>Adam</td>\n",
       "<td>Lublin</td>\n",
       "<td>2011-02-05</td>\n",
       "</tr>\n",
       "<tr>\n",
       "<td>2</td>\n",
       "<td>Monika</td>\n",
       "<td>Gdynia</td>\n",
       "<td>2011-02-19</td>\n",
       "</tr>\n",
       "<tr>\n",
       "<td>3</td>\n",
       "<td>Natalia</td>\n",
       "<td>Zakopane</td>\n",
       "<td>2011-02-23</td>\n",
       "</tr>\n",
       "<tr>\n",
       "<td>4</td>\n",
       "<td>Katarzyna</td>\n",
       "<td>Lublin</td>\n",
       "<td>2011-03-08</td>\n",
       "</tr>\n",
       "<tr>\n",
       "<td>5</td>\n",
       "<td>Marcin</td>\n",
       "<td>Warszawa</td>\n",
       "<td>2011-03-21</td>\n",
       "</tr>\n",
       "</table>"
      ],
      "text/plain": [
       "+----+-----------+----------+------------+\n",
       "| id | name      | city     | date       |\n",
       "+----+-----------+----------+------------+\n",
       "| 1  | Adam      | Lublin   | 2011-02-05 |\n",
       "+----+-----------+----------+------------+\n",
       "| 2  | Monika    | Gdynia   | 2011-02-19 |\n",
       "+----+-----------+----------+------------+\n",
       "| 3  | Natalia   | Zakopane | 2011-02-23 |\n",
       "+----+-----------+----------+------------+\n",
       "| 4  | Katarzyna | Lublin   | 2011-03-08 |\n",
       "+----+-----------+----------+------------+\n",
       "| 5  | Marcin    | Warszawa | 2011-03-21 |\n",
       "+----+-----------+----------+------------+"
      ]
     },
     "execution_count": 8,
     "metadata": {},
     "output_type": "execute_result"
    }
   ],
   "source": [
    "SELECT * FROM customer;"
   ]
  },
  {
   "cell_type": "markdown",
   "metadata": {
    "slideshow": {
     "slide_type": "subslide"
    }
   },
   "source": [
    "Zapytanie i wynik zapytania:"
   ]
  },
  {
   "cell_type": "code",
   "execution_count": 9,
   "metadata": {
    "slideshow": {
     "slide_type": "fragment"
    }
   },
   "outputs": [
    {
     "data": {
      "text/html": [
       "<table>\n",
       "<tr>\n",
       "<th>name</th>\n",
       "</tr>\n",
       "<tr>\n",
       "<td>Adam</td>\n",
       "</tr>\n",
       "<tr>\n",
       "<td>Katarzyna</td>\n",
       "</tr>\n",
       "</table>"
      ],
      "text/plain": [
       "+-----------+\n",
       "| name      |\n",
       "+-----------+\n",
       "| Adam      |\n",
       "+-----------+\n",
       "| Katarzyna |\n",
       "+-----------+"
      ]
     },
     "execution_count": 9,
     "metadata": {},
     "output_type": "execute_result"
    }
   ],
   "source": [
    "SELECT name FROM customer WHERE city='Lublin';"
   ]
  },
  {
   "cell_type": "markdown",
   "metadata": {
    "slideshow": {
     "slide_type": "slide"
    }
   },
   "source": [
    "## Usuwanie rekordów – operacja `DELETE`"
   ]
  },
  {
   "cell_type": "markdown",
   "metadata": {
    "slideshow": {
     "slide_type": "subslide"
    }
   },
   "source": [
    "Zapytanie `DELETE` służy do usuwania z bazy danych rekordów spełniających podane warunki. Jest to polecenie bardzo proste i niezbędne podczas pracy z bazą. Zapytanie składa się z:\n",
    "\n",
    "* instrukcji `DELETE` oznaczającej zapytanie usuwające\n",
    "* części `FROM` w której podajemy nazwę tabeli\n",
    "* warunku `WHERE` w którym podajemy kryteria które musi spełniać rekord aby został usunięty\n",
    "\n",
    "```sqlite\n",
    "DELETE FROM tabela WHERE warunek;\n",
    "```\n",
    "\n",
    "Przy usuwaniu rekordów musimy zwrócić szczególną uwagę na klauzulę warunkową. Musi być ona poprawna i uwzględniać tylko te rekordy które faktycznie chcemy usunąć."
   ]
  },
  {
   "cell_type": "markdown",
   "metadata": {
    "slideshow": {
     "slide_type": "slide"
    }
   },
   "source": [
    "#### Przykład\n",
    "\n",
    "**Usuwamy z tabeli Product wszystkie produkty których są dwie sztuki**\n",
    "\n",
    "Tabela **Product**:"
   ]
  },
  {
   "cell_type": "code",
   "execution_count": 10,
   "metadata": {
    "slideshow": {
     "slide_type": "fragment"
    }
   },
   "outputs": [
    {
     "data": {
      "text/html": [
       "<table>\n",
       "<tr>\n",
       "<th>id</th>\n",
       "<th>name</th>\n",
       "<th>price</th>\n",
       "<th>amount</th>\n",
       "<th>date</th>\n",
       "</tr>\n",
       "<tr>\n",
       "<td>5</td>\n",
       "<td>Spodnie</td>\n",
       "<td>100.0</td>\n",
       "<td>5</td>\n",
       "<td>2011-02-01</td>\n",
       "</tr>\n",
       "<tr>\n",
       "<td>6</td>\n",
       "<td>Bluza</td>\n",
       "<td>60.0</td>\n",
       "<td>2</td>\n",
       "<td>2011-02-12</td>\n",
       "</tr>\n",
       "</table>"
      ],
      "text/plain": [
       "+----+---------+-------+--------+------------+\n",
       "| id | name    | price | amount | date       |\n",
       "+----+---------+-------+--------+------------+\n",
       "| 5  | Spodnie | 100.0 | 5      | 2011-02-01 |\n",
       "+----+---------+-------+--------+------------+\n",
       "| 6  | Bluza   | 60.0  | 2      | 2011-02-12 |\n",
       "+----+---------+-------+--------+------------+"
      ]
     },
     "execution_count": 10,
     "metadata": {},
     "output_type": "execute_result"
    }
   ],
   "source": [
    "SELECT * FROM product;"
   ]
  },
  {
   "cell_type": "markdown",
   "metadata": {
    "slideshow": {
     "slide_type": "subslide"
    }
   },
   "source": [
    "Zapytanie:"
   ]
  },
  {
   "cell_type": "code",
   "execution_count": 11,
   "metadata": {
    "slideshow": {
     "slide_type": "fragment"
    }
   },
   "outputs": [
    {
     "data": {
      "text/html": [
       "<table>\n",
       "<tr>\n",
       "<th>id</th>\n",
       "<th>name</th>\n",
       "<th>price</th>\n",
       "<th>amount</th>\n",
       "<th>date</th>\n",
       "</tr>\n",
       "<tr>\n",
       "<td>6</td>\n",
       "<td>Bluza</td>\n",
       "<td>60.0</td>\n",
       "<td>2</td>\n",
       "<td>2011-02-12</td>\n",
       "</tr>\n",
       "</table>"
      ],
      "text/plain": [
       "+----+-------+-------+--------+------------+\n",
       "| id | name  | price | amount | date       |\n",
       "+----+-------+-------+--------+------------+\n",
       "| 6  | Bluza | 60.0  | 2      | 2011-02-12 |\n",
       "+----+-------+-------+--------+------------+"
      ]
     },
     "execution_count": 11,
     "metadata": {},
     "output_type": "execute_result"
    }
   ],
   "source": [
    "SELECT * FROM product WHERE amount='2'; "
   ]
  },
  {
   "cell_type": "code",
   "execution_count": 12,
   "metadata": {
    "slideshow": {
     "slide_type": "fragment"
    }
   },
   "outputs": [],
   "source": [
    "DELETE FROM product WHERE amount='2';"
   ]
  },
  {
   "cell_type": "markdown",
   "metadata": {
    "slideshow": {
     "slide_type": "fragment"
    }
   },
   "source": [
    "Wynik zapytania:"
   ]
  },
  {
   "cell_type": "code",
   "execution_count": 13,
   "metadata": {
    "slideshow": {
     "slide_type": "fragment"
    }
   },
   "outputs": [
    {
     "data": {
      "text/html": [
       "<table>\n",
       "<tr>\n",
       "<th>id</th>\n",
       "<th>name</th>\n",
       "<th>price</th>\n",
       "<th>amount</th>\n",
       "<th>date</th>\n",
       "</tr>\n",
       "<tr>\n",
       "<td>5</td>\n",
       "<td>Spodnie</td>\n",
       "<td>100.0</td>\n",
       "<td>5</td>\n",
       "<td>2011-02-01</td>\n",
       "</tr>\n",
       "</table>"
      ],
      "text/plain": [
       "+----+---------+-------+--------+------------+\n",
       "| id | name    | price | amount | date       |\n",
       "+----+---------+-------+--------+------------+\n",
       "| 5  | Spodnie | 100.0 | 5      | 2011-02-01 |\n",
       "+----+---------+-------+--------+------------+"
      ]
     },
     "execution_count": 13,
     "metadata": {},
     "output_type": "execute_result"
    }
   ],
   "source": [
    "SELECT * FROM product;"
   ]
  },
  {
   "cell_type": "markdown",
   "metadata": {
    "slideshow": {
     "slide_type": "slide"
    }
   },
   "source": [
    "[00 SQL - Reset.ipynb](00%20SQL%20-%20Reset.ipynb)"
   ]
  },
  {
   "cell_type": "code",
   "execution_count": 14,
   "metadata": {},
   "outputs": [],
   "source": [
    "%LOAD CodeBrainers.db rw"
   ]
  },
  {
   "cell_type": "markdown",
   "metadata": {
    "slideshow": {
     "slide_type": "slide"
    }
   },
   "source": [
    "#### Ćwiczenie\n",
    "\n",
    "**Usuń wszystkie produkty których cena jest wyższa niż 20**\n",
    "\n",
    "Tabela **Product**:"
   ]
  },
  {
   "cell_type": "code",
   "execution_count": 15,
   "metadata": {
    "slideshow": {
     "slide_type": "fragment"
    }
   },
   "outputs": [
    {
     "data": {
      "text/html": [
       "<table>\n",
       "<tr>\n",
       "<th>id</th>\n",
       "<th>name</th>\n",
       "<th>price</th>\n",
       "<th>amount</th>\n",
       "<th>date</th>\n",
       "</tr>\n",
       "<tr>\n",
       "<td>5</td>\n",
       "<td>Spodnie</td>\n",
       "<td>100.0</td>\n",
       "<td>5</td>\n",
       "<td>2011-02-01</td>\n",
       "</tr>\n",
       "<tr>\n",
       "<td>6</td>\n",
       "<td>Bluza</td>\n",
       "<td>60.0</td>\n",
       "<td>2</td>\n",
       "<td>2011-02-12</td>\n",
       "</tr>\n",
       "</table>"
      ],
      "text/plain": [
       "+----+---------+-------+--------+------------+\n",
       "| id | name    | price | amount | date       |\n",
       "+----+---------+-------+--------+------------+\n",
       "| 5  | Spodnie | 100.0 | 5      | 2011-02-01 |\n",
       "+----+---------+-------+--------+------------+\n",
       "| 6  | Bluza   | 60.0  | 2      | 2011-02-12 |\n",
       "+----+---------+-------+--------+------------+"
      ]
     },
     "execution_count": 15,
     "metadata": {},
     "output_type": "execute_result"
    }
   ],
   "source": [
    "SELECT * FROM product;"
   ]
  },
  {
   "cell_type": "markdown",
   "metadata": {
    "slideshow": {
     "slide_type": "fragment"
    }
   },
   "source": [
    "Wpisz zapytanie do bazy!"
   ]
  },
  {
   "cell_type": "markdown",
   "metadata": {},
   "source": [
    "---"
   ]
  },
  {
   "cell_type": "markdown",
   "metadata": {
    "slideshow": {
     "slide_type": "subslide"
    }
   },
   "source": [
    "Zapytanie:"
   ]
  },
  {
   "cell_type": "code",
   "execution_count": 16,
   "metadata": {
    "slideshow": {
     "slide_type": "fragment"
    }
   },
   "outputs": [],
   "source": [
    "DELETE FROM product WHERE price>20;"
   ]
  },
  {
   "cell_type": "markdown",
   "metadata": {
    "slideshow": {
     "slide_type": "fragment"
    }
   },
   "source": [
    "Wynik zapytania:"
   ]
  },
  {
   "cell_type": "code",
   "execution_count": 17,
   "metadata": {
    "slideshow": {
     "slide_type": "fragment"
    }
   },
   "outputs": [
    {
     "data": {
      "text/html": [
       "<table>\n",
       "<tr>\n",
       "<th>id</th>\n",
       "<th>name</th>\n",
       "<th>price</th>\n",
       "<th>amount</th>\n",
       "<th>date</th>\n",
       "</tr>\n",
       "</table>"
      ],
      "text/plain": [
       "+----+------+-------+--------+------+\n",
       "| id | name | price | amount | date |\n",
       "+----+------+-------+--------+------+"
      ]
     },
     "execution_count": 17,
     "metadata": {},
     "output_type": "execute_result"
    }
   ],
   "source": [
    "SELECT * FROM product;"
   ]
  },
  {
   "cell_type": "markdown",
   "metadata": {
    "slideshow": {
     "slide_type": "slide"
    }
   },
   "source": [
    "[00 SQL - Reset.ipynb](00%20SQL%20-%20Reset.ipynb)"
   ]
  },
  {
   "cell_type": "code",
   "execution_count": 18,
   "metadata": {},
   "outputs": [],
   "source": [
    "%LOAD CodeBrainers.db rw"
   ]
  },
  {
   "cell_type": "markdown",
   "metadata": {
    "slideshow": {
     "slide_type": "slide"
    }
   },
   "source": [
    "## Dodawanie rekordów – operacja `INSERT`"
   ]
  },
  {
   "cell_type": "markdown",
   "metadata": {
    "slideshow": {
     "slide_type": "fragment"
    }
   },
   "source": [
    "Zapytanie `INSERT` służy do dodawanie do tabeli nowych rekordów zawierających w odpowiednich kolumnach podane wartości. Zapytanie składa się z:\n",
    "\n",
    "* instrukcji `INSERT` która oznacza rozpoczęcie operacji wstawiania\n",
    "* części `INTO` w której podajemy nazwę tabeli\n",
    "* słowa kluczowego `VALUES`\n",
    "* listy wartości odpowiadających kolejnym kolumnom\n",
    "\n",
    "```sqlite\n",
    "INSERT INTO tabela VALUES (wartość,wartość,..);\n",
    "```"
   ]
  },
  {
   "cell_type": "markdown",
   "metadata": {
    "slideshow": {
     "slide_type": "subslide"
    }
   },
   "source": [
    "Możliwa jest również druga forma zapytania `INSERT` w której możemy określić, które kolumny chcemy wypełnić podanymi przez nas wartościami. Wartości przekazane po słowie `VALUES` zostaną wstawione do odpowiadających im kolejno kolumn. Ma ona postać:\n",
    "\n",
    "```sqlite\n",
    "INSERT INTO tabela (kolumna,kolumna,..) VALUES (wartość,wartość,..);\n",
    "```"
   ]
  },
  {
   "cell_type": "markdown",
   "metadata": {
    "slideshow": {
     "slide_type": "slide"
    }
   },
   "source": [
    "#### Przykład\n",
    "\n",
    "**Dodajemy do tabeli Product nowy przedmiot o nazwie Apaszka, cenie 35, liczba sztuk: 2 oraz dacie dodania: 2011-02-20**\n",
    "\n",
    "Tabela **Product**:"
   ]
  },
  {
   "cell_type": "code",
   "execution_count": 19,
   "metadata": {
    "slideshow": {
     "slide_type": "fragment"
    }
   },
   "outputs": [
    {
     "data": {
      "text/html": [
       "<table>\n",
       "<tr>\n",
       "<th>id</th>\n",
       "<th>name</th>\n",
       "<th>price</th>\n",
       "<th>amount</th>\n",
       "<th>date</th>\n",
       "</tr>\n",
       "<tr>\n",
       "<td>5</td>\n",
       "<td>Spodnie</td>\n",
       "<td>100.0</td>\n",
       "<td>5</td>\n",
       "<td>2011-02-01</td>\n",
       "</tr>\n",
       "<tr>\n",
       "<td>6</td>\n",
       "<td>Bluza</td>\n",
       "<td>60.0</td>\n",
       "<td>2</td>\n",
       "<td>2011-02-12</td>\n",
       "</tr>\n",
       "</table>"
      ],
      "text/plain": [
       "+----+---------+-------+--------+------------+\n",
       "| id | name    | price | amount | date       |\n",
       "+----+---------+-------+--------+------------+\n",
       "| 5  | Spodnie | 100.0 | 5      | 2011-02-01 |\n",
       "+----+---------+-------+--------+------------+\n",
       "| 6  | Bluza   | 60.0  | 2      | 2011-02-12 |\n",
       "+----+---------+-------+--------+------------+"
      ]
     },
     "execution_count": 19,
     "metadata": {},
     "output_type": "execute_result"
    }
   ],
   "source": [
    "SELECT * FROM product;"
   ]
  },
  {
   "cell_type": "markdown",
   "metadata": {
    "slideshow": {
     "slide_type": "fragment"
    }
   },
   "source": [
    "Zapytanie:"
   ]
  },
  {
   "cell_type": "code",
   "execution_count": 20,
   "metadata": {
    "slideshow": {
     "slide_type": "fragment"
    }
   },
   "outputs": [],
   "source": [
    "INSERT INTO product VALUES (9,'Apaszka',35,2,'2011-02-20');"
   ]
  },
  {
   "cell_type": "markdown",
   "metadata": {
    "slideshow": {
     "slide_type": "subslide"
    }
   },
   "source": [
    "Wynik zapytania:"
   ]
  },
  {
   "cell_type": "code",
   "execution_count": 21,
   "metadata": {
    "slideshow": {
     "slide_type": "fragment"
    }
   },
   "outputs": [
    {
     "data": {
      "text/html": [
       "<table>\n",
       "<tr>\n",
       "<th>id</th>\n",
       "<th>name</th>\n",
       "<th>price</th>\n",
       "<th>amount</th>\n",
       "<th>date</th>\n",
       "</tr>\n",
       "<tr>\n",
       "<td>5</td>\n",
       "<td>Spodnie</td>\n",
       "<td>100.0</td>\n",
       "<td>5</td>\n",
       "<td>2011-02-01</td>\n",
       "</tr>\n",
       "<tr>\n",
       "<td>6</td>\n",
       "<td>Bluza</td>\n",
       "<td>60.0</td>\n",
       "<td>2</td>\n",
       "<td>2011-02-12</td>\n",
       "</tr>\n",
       "<tr>\n",
       "<td>9</td>\n",
       "<td>Apaszka</td>\n",
       "<td>35.0</td>\n",
       "<td>2</td>\n",
       "<td>2011-02-20</td>\n",
       "</tr>\n",
       "</table>"
      ],
      "text/plain": [
       "+----+---------+-------+--------+------------+\n",
       "| id | name    | price | amount | date       |\n",
       "+----+---------+-------+--------+------------+\n",
       "| 5  | Spodnie | 100.0 | 5      | 2011-02-01 |\n",
       "+----+---------+-------+--------+------------+\n",
       "| 6  | Bluza   | 60.0  | 2      | 2011-02-12 |\n",
       "+----+---------+-------+--------+------------+\n",
       "| 9  | Apaszka | 35.0  | 2      | 2011-02-20 |\n",
       "+----+---------+-------+--------+------------+"
      ]
     },
     "execution_count": 21,
     "metadata": {},
     "output_type": "execute_result"
    }
   ],
   "source": [
    "SELECT * FROM product;"
   ]
  },
  {
   "cell_type": "markdown",
   "metadata": {
    "slideshow": {
     "slide_type": "slide"
    }
   },
   "source": [
    "[00 SQL - Reset.ipynb](00%20SQL%20-%20Reset.ipynb)"
   ]
  },
  {
   "cell_type": "code",
   "execution_count": 22,
   "metadata": {},
   "outputs": [],
   "source": [
    "%LOAD CodeBrainers.db rw"
   ]
  },
  {
   "cell_type": "markdown",
   "metadata": {
    "slideshow": {
     "slide_type": "slide"
    }
   },
   "source": [
    "#### Ćwiczenie\n",
    "\n",
    "**Dodaj do tabeli Product nowy przedmiot o nazwie Kapelusz, cenie 60, liczbie sztuk 4 oraz dacie dodania: 2011-02-28**\n",
    "\n",
    "Tabela **Product**:"
   ]
  },
  {
   "cell_type": "code",
   "execution_count": 23,
   "metadata": {
    "slideshow": {
     "slide_type": "fragment"
    }
   },
   "outputs": [
    {
     "data": {
      "text/html": [
       "<table>\n",
       "<tr>\n",
       "<th>id</th>\n",
       "<th>name</th>\n",
       "<th>price</th>\n",
       "<th>amount</th>\n",
       "<th>date</th>\n",
       "</tr>\n",
       "<tr>\n",
       "<td>5</td>\n",
       "<td>Spodnie</td>\n",
       "<td>100.0</td>\n",
       "<td>5</td>\n",
       "<td>2011-02-01</td>\n",
       "</tr>\n",
       "<tr>\n",
       "<td>6</td>\n",
       "<td>Bluza</td>\n",
       "<td>60.0</td>\n",
       "<td>2</td>\n",
       "<td>2011-02-12</td>\n",
       "</tr>\n",
       "</table>"
      ],
      "text/plain": [
       "+----+---------+-------+--------+------------+\n",
       "| id | name    | price | amount | date       |\n",
       "+----+---------+-------+--------+------------+\n",
       "| 5  | Spodnie | 100.0 | 5      | 2011-02-01 |\n",
       "+----+---------+-------+--------+------------+\n",
       "| 6  | Bluza   | 60.0  | 2      | 2011-02-12 |\n",
       "+----+---------+-------+--------+------------+"
      ]
     },
     "execution_count": 23,
     "metadata": {},
     "output_type": "execute_result"
    }
   ],
   "source": [
    "SELECT * FROM product;"
   ]
  },
  {
   "cell_type": "markdown",
   "metadata": {
    "slideshow": {
     "slide_type": "fragment"
    }
   },
   "source": [
    "Wpisz zapytanie do bazy!"
   ]
  },
  {
   "cell_type": "markdown",
   "metadata": {},
   "source": [
    "---"
   ]
  },
  {
   "cell_type": "markdown",
   "metadata": {
    "slideshow": {
     "slide_type": "subslide"
    }
   },
   "source": [
    "Zapytanie:"
   ]
  },
  {
   "cell_type": "code",
   "execution_count": 24,
   "metadata": {
    "slideshow": {
     "slide_type": "fragment"
    }
   },
   "outputs": [],
   "source": [
    "INSERT INTO product VALUES (10,'Kapelusz',60,4,'2011-02-28');"
   ]
  },
  {
   "cell_type": "markdown",
   "metadata": {
    "slideshow": {
     "slide_type": "fragment"
    }
   },
   "source": [
    "Wynik zapytania:"
   ]
  },
  {
   "cell_type": "code",
   "execution_count": 25,
   "metadata": {
    "slideshow": {
     "slide_type": "fragment"
    }
   },
   "outputs": [
    {
     "data": {
      "text/html": [
       "<table>\n",
       "<tr>\n",
       "<th>id</th>\n",
       "<th>name</th>\n",
       "<th>price</th>\n",
       "<th>amount</th>\n",
       "<th>date</th>\n",
       "</tr>\n",
       "<tr>\n",
       "<td>5</td>\n",
       "<td>Spodnie</td>\n",
       "<td>100.0</td>\n",
       "<td>5</td>\n",
       "<td>2011-02-01</td>\n",
       "</tr>\n",
       "<tr>\n",
       "<td>6</td>\n",
       "<td>Bluza</td>\n",
       "<td>60.0</td>\n",
       "<td>2</td>\n",
       "<td>2011-02-12</td>\n",
       "</tr>\n",
       "<tr>\n",
       "<td>10</td>\n",
       "<td>Kapelusz</td>\n",
       "<td>60.0</td>\n",
       "<td>4</td>\n",
       "<td>2011-02-28</td>\n",
       "</tr>\n",
       "</table>"
      ],
      "text/plain": [
       "+----+----------+-------+--------+------------+\n",
       "| id | name     | price | amount | date       |\n",
       "+----+----------+-------+--------+------------+\n",
       "| 5  | Spodnie  | 100.0 | 5      | 2011-02-01 |\n",
       "+----+----------+-------+--------+------------+\n",
       "| 6  | Bluza    | 60.0  | 2      | 2011-02-12 |\n",
       "+----+----------+-------+--------+------------+\n",
       "| 10 | Kapelusz | 60.0  | 4      | 2011-02-28 |\n",
       "+----+----------+-------+--------+------------+"
      ]
     },
     "execution_count": 25,
     "metadata": {},
     "output_type": "execute_result"
    }
   ],
   "source": [
    "SELECT * FROM product;"
   ]
  },
  {
   "cell_type": "markdown",
   "metadata": {
    "slideshow": {
     "slide_type": "slide"
    }
   },
   "source": [
    "[00 SQL - Reset.ipynb](00%20SQL%20-%20Reset.ipynb)"
   ]
  },
  {
   "cell_type": "code",
   "execution_count": 26,
   "metadata": {},
   "outputs": [],
   "source": [
    "%LOAD CodeBrainers.db rw"
   ]
  },
  {
   "cell_type": "markdown",
   "metadata": {
    "slideshow": {
     "slide_type": "slide"
    }
   },
   "source": [
    "## Zmiana rekordów – operacja `UPDATE`"
   ]
  },
  {
   "cell_type": "markdown",
   "metadata": {
    "slideshow": {
     "slide_type": "fragment"
    }
   },
   "source": [
    "Polecenia `UPDATE` służy do zmiany wartości w istniejących już rekordach w tabeli.\n",
    "\n",
    "Zapytanie składa się z :\n",
    "\n",
    "* instrukcji `UPDATE` która oznacza rozpoczęcie operacji zmiany\n",
    "* nazwy tabeli\n",
    "* słowa kluczowego `SET`\n",
    "* listy z przypisaniem kolumna=wartość w której kolumnom przypisywane są ich nowe wartości\n",
    "* warunku `WHERE` który określa który rekord zostanie zmieniony"
   ]
  },
  {
   "cell_type": "markdown",
   "metadata": {
    "slideshow": {
     "slide_type": "subslide"
    }
   },
   "source": [
    "```sqlite\n",
    "UPDATE tabela SET kolumna1=wartość1,kolumna2=wartość2,..\n",
    "WHERE kolumna=wartość;\n",
    "```"
   ]
  },
  {
   "cell_type": "markdown",
   "metadata": {
    "slideshow": {
     "slide_type": "slide"
    }
   },
   "source": [
    "## Tworzenie i usuwanie bazy danych"
   ]
  },
  {
   "cell_type": "markdown",
   "metadata": {
    "slideshow": {
     "slide_type": "fragment"
    }
   },
   "source": [
    "**Tworzenie bazy danych** jest to najprostsza czynność przy rozpoczęciu pracy w bazie danych, ale i zarazem podstawowa.\n",
    "\n",
    "Zapytanie składa się tylko z polecenia:\n",
    "\n",
    "```sqlite\n",
    "CREATE DATABASE nazwa bazy;\n",
    "```"
   ]
  },
  {
   "cell_type": "markdown",
   "metadata": {
    "slideshow": {
     "slide_type": "fragment"
    }
   },
   "source": [
    "**Usuwanie bazy danych** jest to czynność równie prosta jak tworzenie bazy, jednak niosąca za sobą poważne konsekwencje w postaci utraty wszystkich danych zawartych w jej tabelach i samych tabel. Służy do tego polecenie `DROP DATABASE`\n",
    "\n",
    "```sqlite\n",
    "DROP DATABASE nazwa bazy;\n",
    "```"
   ]
  },
  {
   "cell_type": "markdown",
   "metadata": {
    "slideshow": {
     "slide_type": "subslide"
    }
   },
   "source": [
    "![](https://niebezpiecznik.pl/wp-content/uploads/2009/10/radar-403x350.jpg)"
   ]
  },
  {
   "cell_type": "markdown",
   "metadata": {
    "slideshow": {
     "slide_type": "fragment"
    }
   },
   "source": [
    "![](https://niebezpiecznik.pl/wp-content/uploads/2009/10/radar2-450x265.jpg)"
   ]
  },
  {
   "cell_type": "markdown",
   "metadata": {
    "slideshow": {
     "slide_type": "subslide"
    }
   },
   "source": [
    "![](https://niebezpiecznik.pl/wp-content/uploads/2009/10/radar3-418x350.jpg)"
   ]
  },
  {
   "cell_type": "markdown",
   "metadata": {
    "slideshow": {
     "slide_type": "fragment"
    }
   },
   "source": [
    "[DROP TABLE users; czyli człowiek-problem na stacjach benzynowych. – Problemy Polskiej Branży IT](https://ppbit.pl/pudelek/drop-table-users-czyli-czlowiek-problem-na-stacjach-benzynowych/)"
   ]
  },
  {
   "cell_type": "markdown",
   "metadata": {
    "slideshow": {
     "slide_type": "slide"
    }
   },
   "source": [
    "## Tworzenie tabeli w bazie danych"
   ]
  },
  {
   "cell_type": "markdown",
   "metadata": {
    "slideshow": {
     "slide_type": "fragment"
    }
   },
   "source": [
    "**Tworzenie tabeli w bazie danych** jest to trochę bardziej skomplikowana czynność niż tworzenie bazy, gdyż tworząc tabelę musimy stworzyć znajdujące się w niej kolumny i zdefiniować ich właściwości jak np. typ, maksymalna długość wartości i inne.\n",
    "\n",
    "Zapytanie składa się z polecenia:\n",
    "\n",
    "* klauzuli `CREATE TABLE`\n",
    "* nazwy nowej tabeli\n",
    "* listy kolumn wraz z ich szczegółami oddzielonych przecinkiem `nazwa typ(długość)` atrybuty\n",
    "\n",
    "```sqlite\n",
    "CREATE TABLE nazwa tabeli (nazwa kolumny typ(długość) NOT NULL);\n",
    "```"
   ]
  },
  {
   "cell_type": "markdown",
   "metadata": {
    "slideshow": {
     "slide_type": "subslide"
    }
   },
   "source": [
    "Atrybuty to:\n",
    "\n",
    "* `NOT NULL` – pole musi mieć nadaną wartość, jeśli pominięte to może mieć wartość `NULL`\n",
    "* `UNSIGNED` – jeśli pole jest liczbowe to musi mieć wartości nieujemne\n",
    "* `PRIMARY KEY` – kolumna będzie kluczem podstawowym tabeli. Często występuje razem z polem `SQL AUTO INCREMENT`"
   ]
  },
  {
   "cell_type": "markdown",
   "metadata": {
    "slideshow": {
     "slide_type": "subslide"
    }
   },
   "source": [
    "**Usuwanie tabeli**\n",
    "\n",
    "Można całkowicie usunąć tabelę z bazy danych wraz z danymi w niej zawartymi używając polecenia `DROP TABLE` nazwa tabeli\n",
    "\n",
    "```sqlite\n",
    "DROP TABLE nazwa_tabeli;\n",
    "```"
   ]
  },
  {
   "cell_type": "markdown",
   "metadata": {
    "slideshow": {
     "slide_type": "fragment"
    }
   },
   "source": [
    "![](https://niebezpiecznik.pl/wp-content/uploads/2009/10/xkcd-450x147.gif)"
   ]
  },
  {
   "cell_type": "code",
   "execution_count": 27,
   "metadata": {
    "slideshow": {
     "slide_type": "subslide"
    }
   },
   "outputs": [
    {
     "data": {
      "text/plain": [
       "The table Product exists."
      ]
     },
     "execution_count": 27,
     "metadata": {},
     "output_type": "execute_result"
    }
   ],
   "source": [
    "%TABLE_EXISTS Product"
   ]
  },
  {
   "cell_type": "code",
   "execution_count": 28,
   "metadata": {
    "slideshow": {
     "slide_type": "fragment"
    }
   },
   "outputs": [
    {
     "data": {
      "text/html": [
       "<table>\n",
       "<tr>\n",
       "<th>id</th>\n",
       "<th>name</th>\n",
       "<th>price</th>\n",
       "<th>amount</th>\n",
       "<th>date</th>\n",
       "</tr>\n",
       "<tr>\n",
       "<td>5</td>\n",
       "<td>Spodnie</td>\n",
       "<td>100.0</td>\n",
       "<td>5</td>\n",
       "<td>2011-02-01</td>\n",
       "</tr>\n",
       "<tr>\n",
       "<td>6</td>\n",
       "<td>Bluza</td>\n",
       "<td>60.0</td>\n",
       "<td>2</td>\n",
       "<td>2011-02-12</td>\n",
       "</tr>\n",
       "</table>"
      ],
      "text/plain": [
       "+----+---------+-------+--------+------------+\n",
       "| id | name    | price | amount | date       |\n",
       "+----+---------+-------+--------+------------+\n",
       "| 5  | Spodnie | 100.0 | 5      | 2011-02-01 |\n",
       "+----+---------+-------+--------+------------+\n",
       "| 6  | Bluza   | 60.0  | 2      | 2011-02-12 |\n",
       "+----+---------+-------+--------+------------+"
      ]
     },
     "execution_count": 28,
     "metadata": {},
     "output_type": "execute_result"
    }
   ],
   "source": [
    "SELECT * FROM product;"
   ]
  },
  {
   "cell_type": "code",
   "execution_count": 29,
   "metadata": {
    "slideshow": {
     "slide_type": "slide"
    }
   },
   "outputs": [],
   "source": [
    "DROP TABLE product;"
   ]
  },
  {
   "cell_type": "code",
   "execution_count": 30,
   "metadata": {
    "slideshow": {
     "slide_type": "fragment"
    }
   },
   "outputs": [
    {
     "data": {
      "text/plain": [
       "The table Product doesn't exist."
      ]
     },
     "execution_count": 30,
     "metadata": {},
     "output_type": "execute_result"
    }
   ],
   "source": [
    "%TABLE_EXISTS Product"
   ]
  },
  {
   "cell_type": "code",
   "execution_count": 31,
   "metadata": {
    "slideshow": {
     "slide_type": "fragment"
    }
   },
   "outputs": [
    {
     "ename": "Error",
     "evalue": "no such table: product",
     "output_type": "error",
     "traceback": [
      "Error: no such table: product"
     ]
    }
   ],
   "source": [
    "SELECT * FROM product;"
   ]
  },
  {
   "cell_type": "markdown",
   "metadata": {
    "slideshow": {
     "slide_type": "subslide"
    }
   },
   "source": [
    "Tabelę można również tylko opróżnić tzn. usunąć wszystkie dane ale pozostawić strukturę całej tabeli. Służą do tego polecenia:\n",
    "\n",
    "* `TRUNCATE TABLE nazwa_tabeli;`\t- w: MySQL\n",
    "* `DELETE FROM nazwa_tabeli;`\t\t- w: SQLite"
   ]
  },
  {
   "cell_type": "code",
   "execution_count": 32,
   "metadata": {
    "slideshow": {
     "slide_type": "subslide"
    }
   },
   "outputs": [
    {
     "data": {
      "text/plain": [
       "The table Customer exists."
      ]
     },
     "execution_count": 32,
     "metadata": {},
     "output_type": "execute_result"
    }
   ],
   "source": [
    "%TABLE_EXISTS Customer"
   ]
  },
  {
   "cell_type": "code",
   "execution_count": 33,
   "metadata": {
    "slideshow": {
     "slide_type": "fragment"
    }
   },
   "outputs": [
    {
     "data": {
      "text/html": [
       "<table>\n",
       "<tr>\n",
       "<th>id</th>\n",
       "<th>name</th>\n",
       "<th>city</th>\n",
       "<th>date</th>\n",
       "</tr>\n",
       "<tr>\n",
       "<td>1</td>\n",
       "<td>Adam</td>\n",
       "<td>Lublin</td>\n",
       "<td>2011-02-05</td>\n",
       "</tr>\n",
       "<tr>\n",
       "<td>2</td>\n",
       "<td>Monika</td>\n",
       "<td>Gdynia</td>\n",
       "<td>2011-02-19</td>\n",
       "</tr>\n",
       "<tr>\n",
       "<td>3</td>\n",
       "<td>Natalia</td>\n",
       "<td>Zakopane</td>\n",
       "<td>2011-02-23</td>\n",
       "</tr>\n",
       "<tr>\n",
       "<td>4</td>\n",
       "<td>Katarzyna</td>\n",
       "<td>Lublin</td>\n",
       "<td>2011-03-08</td>\n",
       "</tr>\n",
       "<tr>\n",
       "<td>5</td>\n",
       "<td>Marcin</td>\n",
       "<td>Warszawa</td>\n",
       "<td>2011-03-21</td>\n",
       "</tr>\n",
       "</table>"
      ],
      "text/plain": [
       "+----+-----------+----------+------------+\n",
       "| id | name      | city     | date       |\n",
       "+----+-----------+----------+------------+\n",
       "| 1  | Adam      | Lublin   | 2011-02-05 |\n",
       "+----+-----------+----------+------------+\n",
       "| 2  | Monika    | Gdynia   | 2011-02-19 |\n",
       "+----+-----------+----------+------------+\n",
       "| 3  | Natalia   | Zakopane | 2011-02-23 |\n",
       "+----+-----------+----------+------------+\n",
       "| 4  | Katarzyna | Lublin   | 2011-03-08 |\n",
       "+----+-----------+----------+------------+\n",
       "| 5  | Marcin    | Warszawa | 2011-03-21 |\n",
       "+----+-----------+----------+------------+"
      ]
     },
     "execution_count": 33,
     "metadata": {},
     "output_type": "execute_result"
    }
   ],
   "source": [
    "SELECT * FROM customer;"
   ]
  },
  {
   "cell_type": "code",
   "execution_count": 34,
   "metadata": {
    "slideshow": {
     "slide_type": "fragment"
    }
   },
   "outputs": [],
   "source": [
    "DELETE FROM customer;"
   ]
  },
  {
   "cell_type": "code",
   "execution_count": 35,
   "metadata": {
    "slideshow": {
     "slide_type": "fragment"
    }
   },
   "outputs": [
    {
     "data": {
      "text/plain": [
       "The table Customer exists."
      ]
     },
     "execution_count": 35,
     "metadata": {},
     "output_type": "execute_result"
    }
   ],
   "source": [
    "%TABLE_EXISTS Customer"
   ]
  },
  {
   "cell_type": "code",
   "execution_count": 36,
   "metadata": {
    "slideshow": {
     "slide_type": "fragment"
    }
   },
   "outputs": [
    {
     "data": {
      "text/html": [
       "<table>\n",
       "<tr>\n",
       "<th>id</th>\n",
       "<th>name</th>\n",
       "<th>city</th>\n",
       "<th>date</th>\n",
       "</tr>\n",
       "</table>"
      ],
      "text/plain": [
       "+----+------+------+------+\n",
       "| id | name | city | date |\n",
       "+----+------+------+------+"
      ]
     },
     "execution_count": 36,
     "metadata": {},
     "output_type": "execute_result"
    }
   ],
   "source": [
    "SELECT * FROM customer;"
   ]
  },
  {
   "cell_type": "markdown",
   "metadata": {
    "slideshow": {
     "slide_type": "subslide"
    }
   },
   "source": [
    "**Przykład tworzenia tabeli Product**"
   ]
  },
  {
   "cell_type": "code",
   "execution_count": 37,
   "metadata": {
    "slideshow": {
     "slide_type": "fragment"
    }
   },
   "outputs": [],
   "source": [
    "CREATE TABLE \"Product\" (\n",
    "\t\"id\"\t\tSMALLINT UNSIGNED IDENTITY(1,1) NOT NULL,\n",
    "\t\"name\"\t\tVARCHAR(50) NOT NULL,\n",
    "\t\"price\"\t\tFLOAT NOT NULL,\n",
    "\t\"amount\"\tTINYINT(2) NOT NULL,\n",
    "\t\"date\"\t\tDATE NOT NULL,\n",
    "\tPRIMARY KEY(\"id\")\n",
    ");"
   ]
  },
  {
   "cell_type": "markdown",
   "metadata": {
    "slideshow": {
     "slide_type": "fragment"
    }
   },
   "source": [
    "| Data type |     Range                                                                                    | Storage |\n",
    "|-----------|----------------------------------------------------------------------------------------------|---------|\n",
    "| `BIGINT`  | -2<sup>63</sup> (-9,223,372,036,854,775,808) to 2<sup>63</sup>-1 (9,223,372,036,854,775,807) | 8 Bytes |\n",
    "| `INT`     | -2<sup>31</sup> (-2,147,483,648)             to 2<sup>31</sup>-1 (2,147,483,647)             | 4 Bytes |\n",
    "| `SMALLINT`| -2<sup>15</sup> (-32,768)                    to 2<sup>15</sup>-1 (32,767)                    | 2 Bytes |\n",
    "| `TINYINT` |  0                                           to 255                                          | 1 Byte  |"
   ]
  },
  {
   "cell_type": "code",
   "execution_count": 38,
   "metadata": {
    "slideshow": {
     "slide_type": "subslide"
    }
   },
   "outputs": [
    {
     "data": {
      "text/plain": [
       "The table Product exists."
      ]
     },
     "execution_count": 38,
     "metadata": {},
     "output_type": "execute_result"
    }
   ],
   "source": [
    "%TABLE_EXISTS Product"
   ]
  },
  {
   "cell_type": "code",
   "execution_count": 39,
   "metadata": {
    "slideshow": {
     "slide_type": "fragment"
    }
   },
   "outputs": [
    {
     "data": {
      "text/html": [
       "<table>\n",
       "<tr>\n",
       "<th>id</th>\n",
       "<th>name</th>\n",
       "<th>price</th>\n",
       "<th>amount</th>\n",
       "<th>date</th>\n",
       "</tr>\n",
       "</table>"
      ],
      "text/plain": [
       "+----+------+-------+--------+------+\n",
       "| id | name | price | amount | date |\n",
       "+----+------+-------+--------+------+"
      ]
     },
     "execution_count": 39,
     "metadata": {},
     "output_type": "execute_result"
    }
   ],
   "source": [
    "SELECT * FROM product;"
   ]
  },
  {
   "cell_type": "markdown",
   "metadata": {
    "slideshow": {
     "slide_type": "skip"
    }
   },
   "source": [
    "[00 SQL - Reset.ipynb](00%20SQL%20-%20Reset.ipynb)"
   ]
  },
  {
   "cell_type": "code",
   "execution_count": null,
   "metadata": {
    "slideshow": {
     "slide_type": "skip"
    }
   },
   "outputs": [],
   "source": [
    "%LOAD CodeBrainers.db rw"
   ]
  },
  {
   "cell_type": "code",
   "execution_count": null,
   "metadata": {
    "slideshow": {
     "slide_type": "skip"
    }
   },
   "outputs": [],
   "source": []
  }
 ],
 "metadata": {
  "celltoolbar": "Slideshow",
  "kernelspec": {
   "display_name": "Python 3 (ipykernel)",
   "language": "python",
   "name": "python3"
  },
  "language_info": {
   "codemirror_mode": {
    "name": "ipython",
    "version": 3
   },
   "file_extension": ".py",
   "mimetype": "text/x-python",
   "name": "python",
   "nbconvert_exporter": "python",
   "pygments_lexer": "ipython3",
   "version": "3.13.0"
  }
 },
 "nbformat": 4,
 "nbformat_minor": 4
}
