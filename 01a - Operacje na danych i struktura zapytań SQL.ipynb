{
 "cells": [
  {
   "cell_type": "markdown",
   "id": "464195dd",
   "metadata": {
    "slideshow": {
     "slide_type": "slide"
    }
   },
   "source": [
    "# Operacje na danych i struktura zapytań SQL\n",
    "\n",
    "_Mikołaj Leszczuk_"
   ]
  },
  {
   "cell_type": "markdown",
   "id": "b6d2adb1",
   "metadata": {
    "slideshow": {
     "slide_type": "slide"
    }
   },
   "source": [
    "## Konspekt"
   ]
  },
  {
   "cell_type": "markdown",
   "id": "7980a66e",
   "metadata": {
    "slideshow": {
     "slide_type": "fragment"
    }
   },
   "source": [
    "* Język SQL\n",
    "* Schemat (diagram) bazy danych\n",
    "* Wybieranie rekordów – operacja `SELECT`\n",
    "* Usuwanie rekordów – operacja `DELETE`\n",
    "* Dodawanie rekordów – operacja `INSERT`\n",
    "* Zmiana rekordów – operacja `UPDATE`\n",
    "* Warunki rozbudowane – operacja `SELECT ... WHERE`\n",
    "* Klauzula `LIMIT`\n",
    "* Funkcje grupujące\n",
    "* Klauzula `DISTINCT`\n",
    "* Klauzula `GROUP BY`\n",
    "* Tworzenie i usuwanie tabeli w bazie danych\n",
    "* Bezpieczeństwo"
   ]
  },
  {
   "cell_type": "markdown",
   "id": "078a18ef",
   "metadata": {
    "slideshow": {
     "slide_type": "slide"
    }
   },
   "source": [
    "## Język SQL"
   ]
  },
  {
   "cell_type": "markdown",
   "id": "818c8fd0",
   "metadata": {
    "slideshow": {
     "slide_type": "fragment"
    }
   },
   "source": [
    "**Język SQL** to strukturalny język zapytań (ang. _Structured Query Language_ wym. /ɛskjuːˈɛl/).\n",
    "\n",
    "Jest to bardzo powszechny i standaryzowany język dostępu do systemów zarządzania relacyjnymi bazami danych.\n",
    "\n",
    "Służy do tworzenia i modyfikowania baz danych oraz do pobierania i zapisywania danych z i do bazy.\n",
    "\n",
    "Decyzję o sposobie przechowywania i pobrania danych pozostawia się **systemowi zarządzania bazą danych** (ang. _Database Management System_, DBMS)."
   ]
  },
  {
   "cell_type": "markdown",
   "id": "d1b35c8b",
   "metadata": {
    "slideshow": {
     "slide_type": "slide"
    }
   },
   "source": [
    "### Historia"
   ]
  },
  {
   "cell_type": "markdown",
   "id": "8fe84b0b",
   "metadata": {
    "slideshow": {
     "slide_type": "fragment"
    }
   },
   "source": [
    "SQL został opracowany w latach 70. w firmie **IBM**. Stał się **standardem** w komunikacji z **serwerami** relacyjnych **baz danych**. "
   ]
  },
  {
   "cell_type": "markdown",
   "id": "9f463640",
   "metadata": {},
   "source": [
    "![](https://upload.wikimedia.org/wikipedia/commons/5/51/IBM_logo.svg)"
   ]
  },
  {
   "cell_type": "markdown",
   "id": "64e3e1cb",
   "metadata": {
    "slideshow": {
     "slide_type": "slide"
    }
   },
   "source": [
    "Wiele współczesnych systemów relacyjnych baz danych używa do komunikacji z użytkownikiem SQL, dlatego potocznie mówi się, że korzystanie z relacyjnych baz danych to korzystanie z SQL-a."
   ]
  },
  {
   "cell_type": "markdown",
   "id": "3a2aa214",
   "metadata": {
    "slideshow": {
     "slide_type": "fragment"
    }
   },
   "source": [
    "Pierwszą firmą, która włączyła SQL do swojego produktu komercyjnego, był **Oracle**."
   ]
  },
  {
   "cell_type": "markdown",
   "id": "243cddb5",
   "metadata": {},
   "source": [
    "![](https://upload.wikimedia.org/wikipedia/commons/5/50/Oracle_logo.svg)"
   ]
  },
  {
   "cell_type": "markdown",
   "id": "b91d427c",
   "metadata": {
    "slideshow": {
     "slide_type": "slide"
    }
   },
   "source": [
    "Dalsze wprowadzanie SQL-a, w produktach innych firm, wiązało się nierozłącznie z wprowadzaniem modyfikacji pierwotnego języka. \n",
    "\n",
    "Wkrótce utrzymanie dalszej jednolitości języka wymagało wprowadzenia standardu."
   ]
  },
  {
   "cell_type": "markdown",
   "id": "3057e803",
   "metadata": {
    "slideshow": {
     "slide_type": "slide"
    }
   },
   "source": [
    "Pierwotną nazwą języka miał być **_SEQUEL_**, jednakże okazało się, że nazwa ta była już zastrzeżona przez brytyjską wytwórnię lotniczą **Hawker Siddeley**."
   ]
  },
  {
   "cell_type": "markdown",
   "id": "6eb7a61a",
   "metadata": {},
   "source": [
    "![](https://upload.wikimedia.org/wikipedia/en/6/69/Hawker_Siddeley.png)"
   ]
  },
  {
   "cell_type": "markdown",
   "id": "e9a0cf28",
   "metadata": {
    "slideshow": {
     "slide_type": "slide"
    }
   },
   "source": [
    "**SQL** rozpoznawany jest przez wszystkie najpopularniejsze DBMS takie jak np. SQLite, MySQL, PostgreSQL, Microsoft SQL Server, Oracle, DB2.\n",
    "\n",
    "Język SQL w przeciwieństwie do języków programowania nie służy do tworzenia programów, ale tylko do operacji na danych zawartych w bazie. Jest więc nazywany pod-językiem danych."
   ]
  },
  {
   "cell_type": "markdown",
   "id": "6803dfe2",
   "metadata": {
    "slideshow": {
     "slide_type": "slide"
    }
   },
   "source": [
    "### Składnia SQL"
   ]
  },
  {
   "cell_type": "markdown",
   "id": "f0169afa",
   "metadata": {
    "slideshow": {
     "slide_type": "fragment"
    }
   },
   "source": [
    "Użycie SQL, zgodnie z jego nazwą, polega na zadawaniu zapytań (query) do bazy danych i przekazywaniu użytkownikowi żądanych danych. Zapytania można zaliczyć do jednego z czterech głównych podzbiorów:\n",
    "\n",
    "* **SQL DML** (ang. _Data Manipulation Language_ – „język manipulacji danymi”),\n",
    "* **SQL DDL** (ang. _Data Definition Language_ – „język definicji danych”),\n",
    "* **SQL DCL** (ang. _Data Control Language_ – „język kontroli nad danymi”).\n",
    "* **SQL DQL** (ang. _Data Query Language_ – „język definiowania zapytań”)."
   ]
  },
  {
   "cell_type": "markdown",
   "id": "f4fd7e8b",
   "metadata": {
    "slideshow": {
     "slide_type": "slide"
    }
   },
   "source": [
    "Instrukcje SQL w obrębie zapytań tradycyjnie zapisywane są wielkimi literami, jednak nie jest to wymóg. Każde zapytanie w SQL-u musi kończyć się znakiem średnika (`;`).\n",
    "\n",
    "Dodatkowo, niektóre programy do łączenia się z silnikiem bazy danych (np. **`psql`** w przypadku PostgreSQL), używają swoich własnych instrukcji, spoza standardu SQL, które służą np. do połączenia się z bazą, wyświetlenia dokumentacji itp."
   ]
  },
  {
   "cell_type": "markdown",
   "id": "231abefd",
   "metadata": {
    "slideshow": {
     "slide_type": "fragment"
    }
   },
   "source": [
    "![](https://wikimedia.org/api/rest_v1/media/math/render/svg/b83ad563285f7b0ebb325226d91f25ca0bffa7cd)"
   ]
  },
  {
   "cell_type": "markdown",
   "id": "c363df80",
   "metadata": {
    "slideshow": {
     "slide_type": "slide"
    }
   },
   "source": [
    "### Dobre zwyczaje w posługiwaniu się językiem SQL i bazami danych"
   ]
  },
  {
   "cell_type": "markdown",
   "id": "b517707d",
   "metadata": {},
   "source": [
    "![](https://upload.wikimedia.org/wikipedia/commons/thumb/c/c0/Good_Manners.JPG/329px-Good_Manners.JPG)"
   ]
  },
  {
   "cell_type": "markdown",
   "id": "dcff3d77",
   "metadata": {
    "slideshow": {
     "slide_type": "slide"
    }
   },
   "source": [
    "Na początku pracy z bazą danych oraz językiem, warto wybrać sposób w jaki będzie się zapisywać nazwy tabeli, zapytania, warunki itd."
   ]
  },
  {
   "cell_type": "markdown",
   "id": "d44e985e",
   "metadata": {
    "slideshow": {
     "slide_type": "slide"
    }
   },
   "source": [
    "Zasady przyjęte w tym kursie to m.in.:\n",
    "\n",
    "* nazwy tabeli zapisywane są z wielkiej litery (w zapytaniach z małej) oraz składają się tylko z liter i znaku “`_`”\n",
    "* słowa kluczowe w zapytaniach są pisane wielkimi literami w odróżnieniu od np. nazw kolumn czy warunków\n",
    "\n",
    "Szczególnie drugi z powyższych przykładów jest dobrym zwyczajem w pisaniu zapytań przestrzeganym przez większość osób posługujących się SQL-em.\n",
    "\n",
    "Warto już na początku wypracować pewne nawyki, aby później móc z automatyzmem i łatwością odczytywać swoje zapytania i tworzyć nowe.\n"
   ]
  },
  {
   "cell_type": "markdown",
   "id": "1ced09ad",
   "metadata": {
    "slideshow": {
     "slide_type": "slide"
    }
   },
   "source": [
    "### SQLite"
   ]
  },
  {
   "cell_type": "markdown",
   "id": "e745ee00",
   "metadata": {},
   "source": [
    "![](https://upload.wikimedia.org/wikipedia/commons/3/38/SQLite370.svg)"
   ]
  },
  {
   "cell_type": "markdown",
   "id": "ff9d1166",
   "metadata": {
    "slideshow": {
     "slide_type": "subslide"
    }
   },
   "source": [
    "**SQLite** – **DBMS** oraz **biblioteka C implementująca** taki system, obsługująca język **SQL**. Została stworzona przez **Richarda Hippa** i jest dostępna na **licencji public domain**. Projekt został rozpoczęty w roku 2000.\n",
    "\n",
    "SQLite posiada również **API** do innych niż C **języków programowania**, a mianowicie: **ActionScript**, **Perl**, **PHP**, **Ruby**, **C++**, **Delphi**, **Python**, **Java**, **Tcl**, **Visual Basic**, platformy **.NET** i wielu innych; a także interfejs **powłokowy**.\n",
    "\n",
    "Zawartość bazy danych przetrzymywana jest w jednym **pliku** (do 140 **TB**)."
   ]
  },
  {
   "cell_type": "markdown",
   "id": "92177693",
   "metadata": {
    "slideshow": {
     "slide_type": "slide"
    }
   },
   "source": [
    "### MySQL"
   ]
  },
  {
   "cell_type": "markdown",
   "id": "75d4b514",
   "metadata": {},
   "source": [
    "![](https://upload.wikimedia.org/wikipedia/en/d/dd/MySQL_logo.svg)"
   ]
  },
  {
   "cell_type": "markdown",
   "id": "9f284f8d",
   "metadata": {
    "slideshow": {
     "slide_type": "subslide"
    }
   },
   "source": [
    "**MySQL (maɪɛskjuːˈɛl) – wolnodostępny, otwartoźródłowy system zarządzania relacyjnymi bazami danych.**\n",
    "\n",
    "MySQL rozwijany jest przez firmę **Oracle**. Wcześniej przez większość czasu jego tworzeniem zajmowała się **szwedzka** firma **MySQL AB**. MySQL AB została kupiona 16 stycznia 2008 roku przez **Sun Microsystems**, a ten 27 stycznia 2010 roku przez Oracle. W międzyczasie Monty Widenius (współtwórca MySQL) stworzył **MariaDB – forka** (alternatywną wersję) opartego na licencji GPL. MariaDB jest oparta na tym samym kodzie bazowym co MySQL i dąży do utrzymania kompatybilności z jej poprzednimi wersjami."
   ]
  },
  {
   "cell_type": "markdown",
   "id": "2758f450",
   "metadata": {
    "slideshow": {
     "slide_type": "slide"
    }
   },
   "source": [
    "### PostgreSQL"
   ]
  },
  {
   "cell_type": "markdown",
   "id": "571487a0",
   "metadata": {},
   "source": [
    "![](https://upload.wikimedia.org/wikipedia/commons/2/29/Postgresql_elephant.svg)"
   ]
  },
  {
   "cell_type": "markdown",
   "id": "fcf53121",
   "metadata": {
    "slideshow": {
     "slide_type": "subslide"
    }
   },
   "source": [
    "**PostgreSQL** (/poːst ɡɹɛs kjuː ɛl/), także **Postgres** – obok **MySQL** i **SQLite**, jeden z trzech najpopularniejszych **otwartych** systemów zarządzania **relacyjnymi bazami danych**. Początkowo opracowywany na **Uniwersytecie Kalifornijskim w Berkeley** i opublikowany pod nazwą Ingres. W miarę rozwoju i zwiększania funkcjonalności, **baza danych** otrzymała nazwy Postgres95 i ostatecznie PostgreSQL, aby upamiętnić pierwowzór oraz zaznaczyć zgodność ze **standardem SQL**. Aktualnie baza implementuje większość standardu SQL:2011.\n",
    "\n",
    "Większość dystrybucji Linuksa zawiera pakiety umożliwiające instalację bazy PostgreSQL. **MacOS**, od wersji Lion, posiada pakiety instalacyjne bazy w wersji serwerowej systemu operacyjnego oraz narzędzia klienckie w wersji desktopowej."
   ]
  },
  {
   "cell_type": "markdown",
   "id": "57d8252c",
   "metadata": {
    "slideshow": {
     "slide_type": "slide"
    }
   },
   "source": [
    "### Bezpieczeństwo"
   ]
  },
  {
   "cell_type": "markdown",
   "id": "ec3ca900",
   "metadata": {
    "slideshow": {
     "slide_type": "fragment"
    }
   },
   "source": [
    "Ponieważ SQL jest językiem interpretowanym, istnieje możliwość nadużyć w przypadku konstruowania zapytań z wykorzystaniem parametrów pochodzących z zewnątrz aplikacji. \n",
    "\n",
    "Szczególnie podatne na ten typ ataku są tworzone dynamicznie w oparciu o SQL-ową bazę danych serwisy internetowe. \n",
    "\n",
    "Jeśli twórca aplikacji nie zadba o sprawdzenie poprawności (tzw. **walidację**) danych wejściowych stanowiących część zapytania, atakujący może dopisać do zapytania („wstrzyknąć”) dodatkowe komendy lub zmienić ich sposób działania. \n",
    "\n",
    "Atak taki nosi nazwę **SQL injection** (wstrzyknięcie kodu za pomocą SQL)."
   ]
  },
  {
   "cell_type": "markdown",
   "id": "5b79a546",
   "metadata": {
    "slideshow": {
     "slide_type": "slide"
    }
   },
   "source": [
    "## Schemat (diagram) bazy danych"
   ]
  },
  {
   "cell_type": "markdown",
   "id": "1d25db21",
   "metadata": {
    "slideshow": {
     "slide_type": "fragment"
    }
   },
   "source": [
    "W celu przygotowania przykładów oraz zadań stworzona została prosta baza danych na wzór biblioteki (`simple_library.db`), która jest doskonałym przykładem użytecznego wykorzystania bazy w aplikacji.\n",
    "\n",
    "Składa się ona z 1 tabeli (`simple_library`), w których zapisane są:\n",
    "\n",
    "| ID | Title                              | Author_surname | Author_name | Registration_date |\n",
    "|:--:|:----------------------------------:|:--------------:|:-----------:|:-----------------:|\n",
    "|1   |Solaris                             |Lem             |Stanisław    |2002-01-30         |\n",
    "|2   |Solaris                             |Lem             |Stanisław    |1986-03-25         |\n",
    "|... |...                                 |...             |...          |...                |\n",
    "|20  |Cyberiada                           |Lem             |Stanisław    |2007-04-29         |\n",
    "|... |...                                 |...             |...          |...                |\n",
    "|314 |Ferdydurke                          |Gombrowicz      |Witold       |1980-08-19         |\n",
    "|... |...                                 |...             |...          |...                |\n",
    "|636 |Rękopis znaleziony w smoczej jaskini|Sapkowski       |Andrzej      |1986-09-15         |"
   ]
  },
  {
   "cell_type": "code",
   "execution_count": null,
   "id": "5c8851c2",
   "metadata": {
    "slideshow": {
     "slide_type": "subslide"
    }
   },
   "outputs": [],
   "source": [
    "!cp simple_library_original.db simple_library.db\n",
    "%load_ext sql\n",
    "%sql sqlite:///simple_library.db?mode=rw"
   ]
  },
  {
   "cell_type": "markdown",
   "id": "9d27d0ae",
   "metadata": {
    "slideshow": {
     "slide_type": "slide"
    }
   },
   "source": [
    "## Wybieranie rekordów – operacja `SELECT`"
   ]
  },
  {
   "cell_type": "markdown",
   "id": "d77d159e",
   "metadata": {
    "slideshow": {
     "slide_type": "subslide"
    }
   },
   "source": [
    "Zapytanie `SELECT` służy do wybierania z bazy danych żądanych rekordów. Jest ono podstawowym i najbardziej rozbudowanym poleceniem języka SQL gdyż często potrzebujemy zaprezentować dane w odpowiedni sposób oraz pobrać je w zależności od innych parametrów. Zapytanie składa się z:\n",
    "\n",
    "* instrukcji `SELECT` oznaczającej chęć wybrania danych z bazy\n",
    "* nazw kolumn oddzielonych przecinkami znajdujących się w tabeli (`*` - wszystkie)\n",
    "* części `FROM` w której podajemy nazwę tabeli\n",
    "\n",
    "```sqlite\n",
    "SELECT Kolumna1, Kolumna2, ... FROM tabela;\n",
    "```\n",
    "\n",
    "```sqlite\n",
    "SELECT * FROM tabela;\n",
    "```\n",
    "\n",
    "Musimy uważać, aby wybierane kolumny istniały w tabeli oraz aby zachować pożądaną kolejność, gdyż kolumny danych będą zwrócone zgodnie z podaną kolejnością."
   ]
  },
  {
   "cell_type": "markdown",
   "id": "ad2b8bb5",
   "metadata": {
    "slideshow": {
     "slide_type": "subslide"
    }
   },
   "source": [
    "> **Przykład:**\n",
    ">\n",
    "> Wybieramy z tabeli wszystkie kolumny."
   ]
  },
  {
   "cell_type": "code",
   "execution_count": null,
   "id": "0fad79b6",
   "metadata": {
    "slideshow": {
     "slide_type": "fragment"
    }
   },
   "outputs": [],
   "source": [
    "%%sql\n",
    "SELECT * FROM simple_library;"
   ]
  },
  {
   "cell_type": "markdown",
   "id": "32b93420",
   "metadata": {
    "slideshow": {
     "slide_type": "subslide"
    }
   },
   "source": [
    "> **Przykład:**\n",
    "> \n",
    "> Wybieramy z tabeli wszystkich identyfikatory, tytuły i nazwiska."
   ]
  },
  {
   "cell_type": "code",
   "execution_count": null,
   "id": "c3ae6d96",
   "metadata": {
    "slideshow": {
     "slide_type": "fragment"
    }
   },
   "outputs": [],
   "source": [
    "%%sql\n",
    "SELECT ID, Title, Author_surname FROM simple_library;"
   ]
  },
  {
   "cell_type": "markdown",
   "id": "60bb2de0",
   "metadata": {
    "slideshow": {
     "slide_type": "subslide"
    }
   },
   "source": [
    "Zapytanie `SELECT .. ORDER BY` jest używane do posortowania wybranych danych. Sortowanie odbywa się według wartości podanej kolumny (kolumn). Możemy sortować rosnąco co oznaczamy słowem kluczowym `ASC` (ascend) lub malejąco co oznaczamy słowem `DESC` (descend).\n",
    "\n",
    "```sqlite\n",
    "SELECT Kolumna1, Kolumna2, ... FROM tabela ORDER BY Kolumna3 DESC;\n",
    "```\n",
    "\n",
    "Sortować można również według kolumn nie wybieranych w danym zapytaniu a tylko znajdujących się w tabeli."
   ]
  },
  {
   "cell_type": "markdown",
   "id": "46bf05e8",
   "metadata": {
    "slideshow": {
     "slide_type": "subslide"
    }
   },
   "source": [
    "> **Przykład:**\n",
    "> \n",
    "> Wybieramy z tabeli identyfikator, tytuł i datę rejestracji książki posortowane malejąco według daty rejestracji."
   ]
  },
  {
   "cell_type": "code",
   "execution_count": null,
   "id": "4219036e",
   "metadata": {
    "slideshow": {
     "slide_type": "fragment"
    }
   },
   "outputs": [],
   "source": [
    "%%sql\n",
    "SELECT ID, Title, Registration_date FROM simple_library ORDER BY Registration_date DESC;"
   ]
  },
  {
   "cell_type": "markdown",
   "id": "c4e24ff1",
   "metadata": {
    "slideshow": {
     "slide_type": "subslide"
    }
   },
   "source": [
    "Zapytanie `SELECT .. WHERE` stosowane jest gdy chcemy wybrać rekordy z tabeli według podanych kryteriów. Wynikiem będą tylko te, które spełniają warunek (warunki) postawiony zaraz po klauzuli `WHERE`.\n",
    "\n",
    "```sqlite\n",
    "SELECT Kolumna1, ... FROM tabela WHERE kolumna = 'wartość';\n",
    "```\n",
    "\n",
    "Warunki logiczne mogą składać się z operatorów takich jak:\n",
    "\n",
    "* znak równości (`=`, ew. `==`)\n",
    "* negacja (`!=`)\n",
    "* znak mniejszości (`<`) lub (`<=`)\n",
    "* znak większości (`>`) lub (`>=`)"
   ]
  },
  {
   "cell_type": "markdown",
   "id": "0baa7e88",
   "metadata": {
    "slideshow": {
     "slide_type": "subslide"
    }
   },
   "source": [
    "> Przykład\n",
    ">\n",
    "> Wybieramy z tabeli identyfikatory i tytuły książek o identyfikatorze równym '10'.\n"
   ]
  },
  {
   "cell_type": "code",
   "execution_count": null,
   "id": "6c4435d7",
   "metadata": {
    "slideshow": {
     "slide_type": "fragment"
    }
   },
   "outputs": [],
   "source": [
    "%%sql\n",
    "SELECT ID, Title FROM simple_library WHERE ID = '10';"
   ]
  },
  {
   "cell_type": "markdown",
   "id": "4e217c2e",
   "metadata": {
    "slideshow": {
     "slide_type": "slide"
    }
   },
   "source": [
    "## Usuwanie rekordów – operacja `DELETE`"
   ]
  },
  {
   "cell_type": "markdown",
   "id": "344c2af3",
   "metadata": {
    "slideshow": {
     "slide_type": "fragment"
    }
   },
   "source": [
    "Zapytanie `DELETE` służy do usuwania z bazy danych rekordów spełniających podane warunki. Jest to polecenie bardzo proste i niezbędne podczas pracy z bazą. Zapytanie składa się z:\n",
    "\n",
    "* instrukcji `DELETE` oznaczającej zapytanie usuwające\n",
    "* części `FROM` w której podajemy nazwę tabeli\n",
    "* warunku `WHERE` w którym podajemy kryteria które musi spełniać rekord aby został usunięty\n",
    "\n",
    "```sqlite\n",
    "DELETE FROM tabela WHERE warunek;\n",
    "```\n",
    "\n",
    "Przy usuwaniu rekordów musimy zwrócić szczególną uwagę na klauzulę warunkową. Musi być ona poprawna i uwzględniać tylko te rekordy które faktycznie chcemy usunąć."
   ]
  },
  {
   "cell_type": "markdown",
   "id": "7eb2e74d",
   "metadata": {
    "slideshow": {
     "slide_type": "subslide"
    }
   },
   "source": [
    "> Przykład\n",
    "> \n",
    "> Usuwamy z tabeli wszystkie książki o tytule 'Solaris'."
   ]
  },
  {
   "cell_type": "code",
   "execution_count": null,
   "id": "a1bfd24d",
   "metadata": {
    "slideshow": {
     "slide_type": "subslide"
    }
   },
   "outputs": [],
   "source": [
    "%%sql\n",
    "SELECT * FROM simple_library WHERE Title = 'Solaris';"
   ]
  },
  {
   "cell_type": "code",
   "execution_count": null,
   "id": "3f48b23e",
   "metadata": {
    "slideshow": {
     "slide_type": "subslide"
    }
   },
   "outputs": [],
   "source": [
    "%%sql\n",
    "DELETE FROM simple_library WHERE Title = 'Solaris'; "
   ]
  },
  {
   "cell_type": "code",
   "execution_count": null,
   "id": "99c2d75a",
   "metadata": {
    "slideshow": {
     "slide_type": "subslide"
    }
   },
   "outputs": [],
   "source": [
    "%%sql\n",
    "SELECT * FROM simple_library WHERE Title = 'Solaris';"
   ]
  },
  {
   "cell_type": "code",
   "execution_count": null,
   "id": "e2bc9da9",
   "metadata": {
    "slideshow": {
     "slide_type": "subslide"
    }
   },
   "outputs": [],
   "source": [
    "!cp simple_library_original.db simple_library.db"
   ]
  },
  {
   "cell_type": "markdown",
   "id": "91b6bcfc",
   "metadata": {
    "slideshow": {
     "slide_type": "slide"
    }
   },
   "source": [
    "## Dodawanie rekordów – operacja `INSERT`"
   ]
  },
  {
   "cell_type": "markdown",
   "id": "6247649e",
   "metadata": {
    "slideshow": {
     "slide_type": "fragment"
    }
   },
   "source": [
    "Zapytanie `INSERT` służy do dodawanie do tabeli nowych rekordów zawierających w odpowiednich kolumnach podane wartości. Zapytanie składa się z:\n",
    "\n",
    "* instrukcji `INSERT` która oznacza rozpoczęcie operacji wstawiania\n",
    "* części `INTO` w której podajemy nazwę tabeli\n",
    "* słowa kluczowego `VALUES`\n",
    "* listy wartości odpowiadających kolejnym kolumnom\n",
    "\n",
    "```sqlite\n",
    "INSERT INTO tabela VALUES (wartość1, wartość2, ...);\n",
    "```\n",
    "\n",
    "Możliwa jest również druga forma zapytania `INSERT` w której możemy określić, które kolumny chcemy wypełnić podanymi przez nas wartościami. Wartości przekazane po słowie `VALUES` zostaną wstawione do odpowiadających im kolejno kolumn. Ma ona postać:\n",
    "\n",
    "```sqlite\n",
    "INSERT INTO tabela (kolumna1, kolumna2 , ...)\n",
    "VALUES (wartość1, wartość2, ...);\n",
    "```"
   ]
  },
  {
   "cell_type": "markdown",
   "id": "9b97608c",
   "metadata": {
    "slideshow": {
     "slide_type": "subslide"
    }
   },
   "source": [
    "> Przykład\n",
    "> \n",
    "> Dodajemy do tabeli nową książkę: 'Lalka' Bolesława Prusa, zarejestrowana 1 stycznia 1890 roku, identyfikator: 1000."
   ]
  },
  {
   "cell_type": "code",
   "execution_count": null,
   "id": "53c3f116",
   "metadata": {
    "slideshow": {
     "slide_type": "subslide"
    }
   },
   "outputs": [],
   "source": [
    "%%sql\n",
    "INSERT INTO simple_library VALUES (1000, 'Lalka', 'Prus', 'Bolesław', '1890-01-01');"
   ]
  },
  {
   "cell_type": "code",
   "execution_count": null,
   "id": "a9bb5d45",
   "metadata": {
    "slideshow": {
     "slide_type": "subslide"
    }
   },
   "outputs": [],
   "source": [
    "%%sql\n",
    "SELECT * FROM simple_library;"
   ]
  },
  {
   "cell_type": "code",
   "execution_count": null,
   "id": "951dcd35",
   "metadata": {
    "slideshow": {
     "slide_type": "subslide"
    }
   },
   "outputs": [],
   "source": [
    "!cp simple_library_original.db simple_library.db"
   ]
  },
  {
   "cell_type": "markdown",
   "id": "cd82b73a",
   "metadata": {
    "slideshow": {
     "slide_type": "slide"
    }
   },
   "source": [
    "## Zmiana rekordów – operacja `UPDATE`"
   ]
  },
  {
   "cell_type": "markdown",
   "id": "034f7802",
   "metadata": {
    "slideshow": {
     "slide_type": "fragment"
    }
   },
   "source": [
    "Polecenia `UPDATE` służy do zmiany wartości w istniejących już rekordach w tabeli.\n",
    "\n",
    "Zapytanie składa się z :\n",
    "\n",
    "* instrukcji `UPDATE` która oznacza rozpoczęcie operacji zmiany\n",
    "* nazwy tabeli\n",
    "* słowa kluczowego `SET`\n",
    "* listy z przypisaniem kolumna=wartość w której kolumnom przypisywane są ich nowe wartości\n",
    "* warunku `WHERE` który określa który rekord zostanie zmieniony\n",
    "\n",
    "```sqlite\n",
    "UPDATE tabela SET kolumna1 = wartość1, kolumna2 = wartość2, ...\n",
    "WHERE kolumna = wartość;\n",
    "```"
   ]
  },
  {
   "cell_type": "markdown",
   "id": "50946249",
   "metadata": {
    "slideshow": {
     "slide_type": "slide"
    }
   },
   "source": [
    "## Warunki rozbudowane – operacja `SELECT ... WHERE`"
   ]
  },
  {
   "cell_type": "markdown",
   "id": "f7450870",
   "metadata": {
    "slideshow": {
     "slide_type": "fragment"
    }
   },
   "source": [
    "W kursie początkującym poznaliśmy już zapytanie `SELECT` oraz jego rozszerzenie o klauzulę `WHERE`. Tutaj, postaramy się rozszerzyć naszą wiedzę o inne operatory porównania używane w tej klauzuli."
   ]
  },
  {
   "cell_type": "markdown",
   "id": "5809edf0",
   "metadata": {
    "slideshow": {
     "slide_type": "slide"
    }
   },
   "source": [
    "### Operatory `AND`, `OR`, `NOT`"
   ]
  },
  {
   "cell_type": "markdown",
   "id": "4971d284",
   "metadata": {
    "slideshow": {
     "slide_type": "subslide"
    }
   },
   "source": [
    "Dzięki nim możemy stworzyć złożone warunki logiczne. Są to odpowiedniki matematycznej koniunkcji, alternatywy i negacji.\n",
    "\n",
    "* `AND`\t– oba warunki muszą być spełnione\n",
    "* `OR`\t– wystarczy, że jeden będzie spełniony\n",
    "* `NOT`\t– negacja warunku\n",
    "\n",
    "```sqlite\n",
    "SELECT Kolumna1, Kolumna2, ...\n",
    "FROM tabela\n",
    "WHERE\n",
    "NOT Kolumna1 = wartość\n",
    "AND Kolumna2 = wartość\n",
    "OR Kolumna3 = wartość;\n",
    "```\n",
    "\n",
    "Możliwe jest również używanie nawiasów w warunkach. Operatory w nawiasach są wykonywane jako pierwsze a następnie ich wynik jest przekazywany poza nawias."
   ]
  },
  {
   "cell_type": "markdown",
   "id": "0fbc9746",
   "metadata": {
    "slideshow": {
     "slide_type": "subslide"
    }
   },
   "source": [
    "> **Przykład:**\n",
    ">\n",
    "> Wybieramy książki Lema, które zostały zarejestrowane przed 1972 rokiem."
   ]
  },
  {
   "cell_type": "code",
   "execution_count": null,
   "id": "c5adc4df",
   "metadata": {
    "scrolled": true,
    "slideshow": {
     "slide_type": "fragment"
    }
   },
   "outputs": [],
   "source": [
    "%%sql\n",
    "SELECT * FROM simple_library WHERE Author_surname = 'Lem' AND Registration_date < '1972-01-01';"
   ]
  },
  {
   "cell_type": "markdown",
   "id": "f9b51d96",
   "metadata": {
    "slideshow": {
     "slide_type": "slide"
    }
   },
   "source": [
    "### Operator `LIKE`"
   ]
  },
  {
   "cell_type": "markdown",
   "id": "4e8efe3f",
   "metadata": {
    "slideshow": {
     "slide_type": "fragment"
    }
   },
   "source": [
    "Umożliwia przeszukiwanie danych tekstowych na podstawie wzorca podanego w klauzuli warunkowej. Może być to zarówno dokładny ciąg poszukiwanych znaków jak i wyrażenie stworzone przy pomocy następujących symboli:\n",
    "\n",
    "* Symbol `%` zastępuje dowolny ciąg znaków\n",
    "* Symbol `_` zastępuje dowolny pojedynczy znak\n",
    "\n",
    "```sqlite\n",
    "SELECT Kolumna1, Kolumna2, ...\n",
    "FROM tabela\n",
    "WHERE Kolumna\n",
    "LIKE 'wyrażenie';\n",
    "```"
   ]
  },
  {
   "cell_type": "markdown",
   "id": "874da1f4",
   "metadata": {
    "slideshow": {
     "slide_type": "subslide"
    }
   },
   "source": [
    "> **Przykład:**\n",
    "> \n",
    "> Wybieramy dane książek, których tytuły rozpoczynają się literą `M`"
   ]
  },
  {
   "cell_type": "code",
   "execution_count": null,
   "id": "903d0461",
   "metadata": {
    "slideshow": {
     "slide_type": "fragment"
    }
   },
   "outputs": [],
   "source": [
    "%%sql\n",
    "SELECT * FROM simple_library WHERE Title LIKE 'M%';"
   ]
  },
  {
   "cell_type": "markdown",
   "id": "d6b6e12d",
   "metadata": {
    "slideshow": {
     "slide_type": "slide"
    }
   },
   "source": [
    "### Operator `IN`"
   ]
  },
  {
   "cell_type": "markdown",
   "id": "716cd823",
   "metadata": {
    "slideshow": {
     "slide_type": "fragment"
    }
   },
   "source": [
    "Operator `IN` sprawdza czy wartości z kolumny znajdują się w zbiorze podanym zaraz po klauzuli `IN`.\n",
    "\n",
    "```sqlite\n",
    "SELECT Kolumna1, Kolumna2, ...\n",
    "FROM tabela\n",
    "WHERE Kolumna\n",
    "IN (element zb., element zb., ...);\n",
    "```"
   ]
  },
  {
   "cell_type": "markdown",
   "id": "7d9dc84b",
   "metadata": {
    "slideshow": {
     "slide_type": "subslide"
    }
   },
   "source": [
    "> **Przykład:**\n",
    "> \n",
    "> Wybieramy dane książek których autorami są `Lem` lub `Mrożek` lub `Gombrowicz`."
   ]
  },
  {
   "cell_type": "code",
   "execution_count": null,
   "id": "65ad81d0",
   "metadata": {
    "slideshow": {
     "slide_type": "fragment"
    }
   },
   "outputs": [],
   "source": [
    "%%sql\n",
    "SELECT * FROM simple_library WHERE Author_surname IN ('Lem', 'Mrożek', 'Gombrowicz');"
   ]
  },
  {
   "cell_type": "markdown",
   "id": "52f260fe",
   "metadata": {
    "slideshow": {
     "slide_type": "slide"
    }
   },
   "source": [
    "### Operator `BETWEEN`"
   ]
  },
  {
   "cell_type": "markdown",
   "id": "6017007d",
   "metadata": {
    "slideshow": {
     "slide_type": "fragment"
    }
   },
   "source": [
    "Operator `BETWEEN` sprawdza czy wartości z kolumny znajdują się w przedziale podanym zaraz po klauzuli `BETWEEN`.\n",
    "\n",
    "```sqlite\n",
    "SELECT Kolumna1, Kolumna2, ...\n",
    "FROM tabela\n",
    "WHERE Kolumna\n",
    "BETWEEN wartość1 AND wartość2;\n",
    "```"
   ]
  },
  {
   "cell_type": "markdown",
   "id": "ba1b8633",
   "metadata": {
    "slideshow": {
     "slide_type": "subslide"
    }
   },
   "source": [
    "> **Przykład:**\n",
    "> \n",
    "> Wybieramy dane książek których identyfikator należy do przedziału od `100` do `105`."
   ]
  },
  {
   "cell_type": "code",
   "execution_count": null,
   "id": "50e954bd",
   "metadata": {
    "slideshow": {
     "slide_type": "fragment"
    }
   },
   "outputs": [],
   "source": [
    "%%sql\n",
    "SELECT * FROM simple_library WHERE ID BETWEEN '100' AND '105';"
   ]
  },
  {
   "cell_type": "markdown",
   "id": "4dd470b5",
   "metadata": {
    "slideshow": {
     "slide_type": "slide"
    }
   },
   "source": [
    "### Operator `IS NULL`"
   ]
  },
  {
   "cell_type": "markdown",
   "id": "4534bacb",
   "metadata": {
    "slideshow": {
     "slide_type": "fragment"
    }
   },
   "source": [
    "Umożliwia wybranie rekordów ze względu na nie-przypisaną wartość w jednej z jego kolumn.\n",
    "\n",
    "```sqlite\n",
    "SELECT Kolumna1, Kolumna2, ... FROM tabela WHERE Kolumna IS NULL;\n",
    "```"
   ]
  },
  {
   "cell_type": "markdown",
   "id": "eccfab82",
   "metadata": {
    "slideshow": {
     "slide_type": "slide"
    }
   },
   "source": [
    "## Klauzula `LIMIT`"
   ]
  },
  {
   "cell_type": "markdown",
   "id": "84212c88",
   "metadata": {
    "slideshow": {
     "slide_type": "fragment"
    }
   },
   "source": [
    "Klauzula `LIMIT` pozwala ograniczyć liczbę zwracanych wierszy do określonej wartości. Umieszcza się ją na końcu zapytania `SELECT`.\n",
    "\n",
    "```sql\n",
    "SELECT Kolumna1, Kolumna2 FROM tabela LIMIT liczba_wierszy;\n",
    "```\n",
    "\n",
    "Możliwe jest również określenie, od ile wierszy pominać przy zwracaniu wyników, stosując `OFFSET`.\n",
    "\n",
    "```sqlite\n",
    "SELECT Kolumna1, Kolumna2 FROM tabela LIMIT liczba_wierszy\n",
    "OFFSET liczba_pominiętych_wierszy;\n",
    "```"
   ]
  },
  {
   "cell_type": "markdown",
   "id": "bf0369f9",
   "metadata": {
    "slideshow": {
     "slide_type": "subslide"
    }
   },
   "source": [
    "> **Przykład:**\n",
    ">\n",
    "> Wybieramy dane pierwszej książki zarejestrowanej w XXI wieku."
   ]
  },
  {
   "cell_type": "code",
   "execution_count": null,
   "id": "6c7e1684",
   "metadata": {
    "slideshow": {
     "slide_type": "fragment"
    }
   },
   "outputs": [],
   "source": [
    "%%sql\n",
    "SELECT * FROM simple_library WHERE Registration_date >= '2001-01-01'\n",
    "ORDER BY Registration_date ASC LIMIT 1;"
   ]
  },
  {
   "cell_type": "markdown",
   "id": "846923e9",
   "metadata": {
    "slideshow": {
     "slide_type": "slide"
    }
   },
   "source": [
    "## Funkcje grupujące"
   ]
  },
  {
   "cell_type": "markdown",
   "id": "66687719",
   "metadata": {
    "slideshow": {
     "slide_type": "fragment"
    }
   },
   "source": [
    "Są to funkcje umożliwiające wykonanie pożądanych operacji na całych tabelach lub tylko niektórych zbiorach danych, zwracające ogólne wyniki dotyczące np. liczebności czy średnich wartości.\n",
    "\n",
    "Istnieje kilka agregatów:\n",
    "\n",
    "* `COUNT()` - zlicza elementy\n",
    "* `SUM()` - dodaje elementy\n",
    "* `AVG()`, `MIN()`, `MAX()` - obliczają odpowiednio wartość średnią, najmniejszą i największą"
   ]
  },
  {
   "cell_type": "markdown",
   "id": "9e71a285",
   "metadata": {
    "slideshow": {
     "slide_type": "slide"
    }
   },
   "source": [
    "### `COUNT()`"
   ]
  },
  {
   "cell_type": "markdown",
   "id": "578ef0b9",
   "metadata": {
    "slideshow": {
     "slide_type": "fragment"
    }
   },
   "source": [
    "Zwraca liczbę przekazanych wartości. Jest to po prostu liczba elementów w podanym zbiorze\n",
    "\n",
    "```sqlite\n",
    "SELECT COUNT(Kolumna) FROM tabela;\n",
    "```\n",
    "\n",
    "Może służyć do zliczenia ilości rekordów w tabeli."
   ]
  },
  {
   "cell_type": "markdown",
   "id": "905e2457",
   "metadata": {
    "slideshow": {
     "slide_type": "subslide"
    }
   },
   "source": [
    "> **Przykład:**\n",
    "> \n",
    "> Liczymy ile ksiązek jest w tabeli."
   ]
  },
  {
   "cell_type": "code",
   "execution_count": null,
   "id": "09d8372d",
   "metadata": {
    "slideshow": {
     "slide_type": "fragment"
    }
   },
   "outputs": [],
   "source": [
    "%%sql\n",
    "SELECT COUNT(ID) FROM simple_library;"
   ]
  },
  {
   "cell_type": "markdown",
   "id": "0c9fed47",
   "metadata": {
    "slideshow": {
     "slide_type": "slide"
    }
   },
   "source": [
    "### `SUM()`"
   ]
  },
  {
   "cell_type": "markdown",
   "id": "61ef15c1",
   "metadata": {
    "slideshow": {
     "slide_type": "fragment"
    }
   },
   "source": [
    "Zwraca sumę wartości podanego zbioru\n",
    "\n",
    "```sqlite\n",
    "SELECT SUM(Kolumna);\n",
    "```\n",
    "\n",
    "Musimy uważać aby argumentem były zawsze liczby lub wartości konwertowalne na liczby."
   ]
  },
  {
   "cell_type": "markdown",
   "id": "a9cb58dc",
   "metadata": {
    "slideshow": {
     "slide_type": "slide"
    }
   },
   "source": [
    "> **Przykład:**\n",
    "> \n",
    "> Wybieramy sumę wszystkich identyfikatorów pomiędzy `101` a `103`."
   ]
  },
  {
   "cell_type": "code",
   "execution_count": null,
   "id": "de728000",
   "metadata": {
    "slideshow": {
     "slide_type": "fragment"
    }
   },
   "outputs": [],
   "source": [
    "%%sql\n",
    "SELECT SUM(ID) FROM simple_library WHERE ID BETWEEN '101' AND '103';"
   ]
  },
  {
   "cell_type": "markdown",
   "id": "a961a8d8",
   "metadata": {
    "slideshow": {
     "slide_type": "slide"
    }
   },
   "source": [
    "### `AVG()`"
   ]
  },
  {
   "cell_type": "markdown",
   "id": "186f905e",
   "metadata": {
    "slideshow": {
     "slide_type": "fragment"
    }
   },
   "source": [
    "Zwraca średnią wartość z podanego zbioru\n",
    "\n",
    "```sqlite\n",
    "SELECT AVG(Kolumna);\n",
    "```\n",
    "\n",
    "Musimy uważać aby argumentem były zawsze liczby lub wartości konwertowalne na liczby."
   ]
  },
  {
   "cell_type": "markdown",
   "id": "b225569f",
   "metadata": {
    "slideshow": {
     "slide_type": "slide"
    }
   },
   "source": [
    "> **Przykład:**\n",
    "> \n",
    "> Liczymy średni identyfikator w tabeli."
   ]
  },
  {
   "cell_type": "code",
   "execution_count": null,
   "id": "905a6822",
   "metadata": {
    "slideshow": {
     "slide_type": "fragment"
    }
   },
   "outputs": [],
   "source": [
    "%%sql\n",
    "SELECT AVG(ID) FROM simple_library;"
   ]
  },
  {
   "cell_type": "markdown",
   "id": "bdbfcb64",
   "metadata": {
    "slideshow": {
     "slide_type": "slide"
    }
   },
   "source": [
    "### `MIN()`"
   ]
  },
  {
   "cell_type": "markdown",
   "id": "1f53fe16",
   "metadata": {
    "slideshow": {
     "slide_type": "fragment"
    }
   },
   "source": [
    "Zwraca najmniejszą wartość z podanego zbioru\n",
    "\n",
    "```sqlite\n",
    "SELECT MIN(Kolumna);\n",
    "```\n",
    "\n",
    "Argumentami mogą być liczby, dane tekstowe i daty z czasem."
   ]
  },
  {
   "cell_type": "markdown",
   "id": "e59a6c24",
   "metadata": {
    "slideshow": {
     "slide_type": "slide"
    }
   },
   "source": [
    "> **Przykład:**\n",
    "> \n",
    "> Wybieramy datę rejestracji najstarszej książki."
   ]
  },
  {
   "cell_type": "code",
   "execution_count": null,
   "id": "ed4eea87",
   "metadata": {
    "slideshow": {
     "slide_type": "fragment"
    }
   },
   "outputs": [],
   "source": [
    "%%sql\n",
    "SELECT MIN(Registration_date) FROM simple_library;"
   ]
  },
  {
   "cell_type": "markdown",
   "id": "49e9a58f",
   "metadata": {
    "slideshow": {
     "slide_type": "slide"
    }
   },
   "source": [
    "### `MAX()`"
   ]
  },
  {
   "cell_type": "markdown",
   "id": "7eea94db",
   "metadata": {
    "slideshow": {
     "slide_type": "fragment"
    }
   },
   "source": [
    "Zwraca największą wartość z podanego zbioru\n",
    "\n",
    "```sqlite\n",
    "SELECT MAX(Kolumna);\n",
    "```\n",
    "\n",
    "Argumentami mogą być liczby, dane tekstowe i daty z czasem."
   ]
  },
  {
   "cell_type": "markdown",
   "id": "2eabed8f",
   "metadata": {
    "slideshow": {
     "slide_type": "slide"
    }
   },
   "source": [
    "## Klauzula `DISTINCT`"
   ]
  },
  {
   "cell_type": "markdown",
   "id": "47d822ef",
   "metadata": {
    "slideshow": {
     "slide_type": "fragment"
    }
   },
   "source": [
    "Zwraca w wyniku rekordy bez powtórzeń\n",
    "\n",
    "```sqlite\n",
    "SELECT DISTINCT(Kolumna) FROM tabela;\n",
    "```"
   ]
  },
  {
   "cell_type": "markdown",
   "id": "c29e255a",
   "metadata": {
    "slideshow": {
     "slide_type": "subslide"
    }
   },
   "source": [
    "> **Przykład:**\n",
    ">\n",
    "> Zwracamy w wyniku nazwiska autorów bez powtórzeń."
   ]
  },
  {
   "cell_type": "code",
   "execution_count": null,
   "id": "cc6305f6",
   "metadata": {
    "slideshow": {
     "slide_type": "subslide"
    }
   },
   "outputs": [],
   "source": [
    "%%sql\n",
    "SELECT DISTINCT Author_surname FROM simple_library;"
   ]
  },
  {
   "cell_type": "markdown",
   "id": "790c067f",
   "metadata": {
    "slideshow": {
     "slide_type": "subslide"
    }
   },
   "source": [
    "Może być także **użyte w agregatach**, np.:\n",
    "\n",
    "```sqlite\n",
    "SELECT COUNT(DISTINCT Kolumna) FROM tabela;\n",
    "```"
   ]
  },
  {
   "cell_type": "markdown",
   "id": "48fa2aaf",
   "metadata": {
    "slideshow": {
     "slide_type": "slide"
    }
   },
   "source": [
    "> **Przykład:**\n",
    ">\n",
    "> Zwracamy w wyniku liczbę nazwisk autorów bez powtórzeń."
   ]
  },
  {
   "cell_type": "code",
   "execution_count": null,
   "id": "6719a4e3",
   "metadata": {
    "slideshow": {
     "slide_type": "fragment"
    }
   },
   "outputs": [],
   "source": [
    "%%sql\n",
    "SELECT COUNT(DISTINCT Author_surname) FROM simple_library;"
   ]
  },
  {
   "cell_type": "markdown",
   "id": "27a6501a",
   "metadata": {
    "slideshow": {
     "slide_type": "slide"
    }
   },
   "source": [
    "## Klauzula `GROUP BY`"
   ]
  },
  {
   "cell_type": "markdown",
   "id": "481b82e9",
   "metadata": {
    "slideshow": {
     "slide_type": "fragment"
    }
   },
   "source": [
    "Klauzula `GROUP BY` umożliwia wykonywanie funkcji grupujących na grupie wartości wyodrębnionych na podstawie wartości innej kolumny.\n",
    "\n",
    "Aby użyć kolumny do grupowania, musimy pamiętać, aby umieścić ją w liście kolumn, zaraz po słowie `SELECT`. W przeciwnym razie nie będzie ona dostępna dla klauzuli grupującej `GROUP BY`.\n",
    "\n",
    "```sqlite\n",
    "SELECT SUM(Kolumna1), Kolumna2 FROM tabela GROUP BY Kolumna2;\n",
    "```\n",
    "\n",
    "Oblicza agregaty - funkcje obliczane dla zbiorów wierszy."
   ]
  },
  {
   "cell_type": "markdown",
   "id": "a0ee6ce3",
   "metadata": {
    "slideshow": {
     "slide_type": "fragment"
    }
   },
   "source": [
    "> **Przykład:**\n",
    ">\n",
    "> Chcemy policzyć książki możliwe do wypożyczenia, napisane przez każdego autora"
   ]
  },
  {
   "cell_type": "code",
   "execution_count": null,
   "id": "2963ec25",
   "metadata": {
    "slideshow": {
     "slide_type": "fragment"
    }
   },
   "outputs": [],
   "source": [
    "%%sql\n",
    "SELECT Author_surname, COUNT(Author_surname) FROM simple_library GROUP BY Author_surname;"
   ]
  },
  {
   "cell_type": "markdown",
   "id": "5df735a6",
   "metadata": {
    "slideshow": {
     "slide_type": "subslide"
    }
   },
   "source": [
    "Klauzula `HAVING`, znajdująca się zaraz po `GROUP BY`, służy do określania dodatkowych kryteriów przy grupowaniu (jest to odpowiednik warunku `WHERE` w zapytaniach bez funkcji grupujących).\n",
    "\n",
    "```sqlite\n",
    "SELECT SUM(Kolumna1), Kolumna2 FROM tabela GROUP BY Kolumna2\n",
    "HAVING SUM(Kolumna1) > wartość;\n",
    "```\n",
    "\n",
    "`HAVING` filtruje rekordy na podstawie wartości agregatów - analogicznie jak `WHERE` filtruje na podstawie wartości pojedynczych pól"
   ]
  },
  {
   "cell_type": "markdown",
   "id": "68796d60",
   "metadata": {
    "slideshow": {
     "slide_type": "subslide"
    }
   },
   "source": [
    "> **Przykład:**\n",
    ">\n",
    "> Chcemy policzyć książki napisane przez każdego autora, który ma ponad sto książek."
   ]
  },
  {
   "cell_type": "markdown",
   "id": "24cfc397",
   "metadata": {
    "slideshow": {
     "slide_type": "subslide"
    }
   },
   "source": [
    "Zapytanie i wynik zapytania bez `HAVING`:"
   ]
  },
  {
   "cell_type": "code",
   "execution_count": null,
   "id": "6a775611",
   "metadata": {
    "slideshow": {
     "slide_type": "fragment"
    }
   },
   "outputs": [],
   "source": [
    "%%sql\n",
    "SELECT Author_surname, COUNT(Title) FROM simple_library GROUP BY Author_surname;"
   ]
  },
  {
   "cell_type": "markdown",
   "id": "bde3facf",
   "metadata": {
    "slideshow": {
     "slide_type": "subslide"
    }
   },
   "source": [
    "Zapytanie i wynik zapytania z `HAVING`:"
   ]
  },
  {
   "cell_type": "code",
   "execution_count": null,
   "id": "64c7cbf8",
   "metadata": {
    "slideshow": {
     "slide_type": "fragment"
    }
   },
   "outputs": [],
   "source": [
    "%%sql\n",
    "SELECT Author_surname, COUNT(Title) FROM simple_library GROUP BY Author_surname HAVING COUNT(Title) > 100;"
   ]
  },
  {
   "cell_type": "markdown",
   "id": "268135e1",
   "metadata": {
    "slideshow": {
     "slide_type": "slide"
    }
   },
   "source": [
    "## Tworzenie i usuwanie tabeli w bazie danych"
   ]
  },
  {
   "cell_type": "markdown",
   "id": "01060b41",
   "metadata": {
    "slideshow": {
     "slide_type": "subslide"
    }
   },
   "source": [
    "**Tworzenie tabeli w bazie danych** to kluczowa operacja, ponieważ wymaga określenia kolumn oraz ich właściwości, takich jak typ danych, ograniczenia i inne parametry.\n",
    "\n",
    "Zapytanie składa się z:\n",
    "\n",
    "* klauzuli `CREATE TABLE`,\n",
    "* nazwy nowej tabeli,\n",
    "* listy kolumn wraz z ich szczegółami, oddzielonych przecinkiem `nazwa typ atrybuty`.\n",
    "\n",
    "**Składnia:**\n",
    "\n",
    "```sql\n",
    "CREATE TABLE tabela (\n",
    "    Kolumna1 typ atrybuty, \n",
    "    Kolumna2 typ atrybuty\n",
    ");\n",
    "```"
   ]
  },
  {
   "cell_type": "markdown",
   "id": "abc9a93e",
   "metadata": {
    "slideshow": {
     "slide_type": "subslide"
    }
   },
   "source": [
    "**Typowe typy danych w SQLite:**\n",
    "* `INTEGER` - liczby całkowite, przechowywane dynamicznie w 1-8 bajtach w zależności od wartości,\n",
    "* `REAL` - liczby zmiennoprzecinkowe,\n",
    "* `TEXT` - ciągi znaków,\n",
    "* `BLOB` - dane binarne,\n",
    "* `NUMERIC` - wartości numeryczne (daty, boolean itp.)."
   ]
  },
  {
   "cell_type": "markdown",
   "id": "09de3a80",
   "metadata": {
    "slideshow": {
     "slide_type": "subslide"
    }
   },
   "source": [
    "**Typowe atrybuty kolumn:**\n",
    "* `NOT NULL` - pole nie może mieć wartości `NULL`,\n",
    "* `PRIMARY KEY` - kolumna stanowi klucz główny tabeli,\n",
    "* `AUTOINCREMENT` - automatyczne zwiększanie wartości dla klucza głównego (`INTEGER PRIMARY KEY`),\n",
    "* `CHECK (warunek)` - dodanie ograniczenia sprawdzającego,\n",
    "* `DEFAULT wartość` - domyślna wartość dla kolumny."
   ]
  },
  {
   "cell_type": "markdown",
   "id": "1ff43488",
   "metadata": {
    "slideshow": {
     "slide_type": "subslide"
    }
   },
   "source": [
    "**Usuwanie tabeli** - można całkowicie usunąć tabelę z bazy danych wraz z danymi w niej zawartymi używając polecenia `DROP TABLE` nazwa tabeli\n",
    "\n",
    "```sqlite\n",
    "DROP TABLE nazwa_tabeli;\n",
    "```"
   ]
  },
  {
   "cell_type": "code",
   "execution_count": null,
   "id": "665546fc",
   "metadata": {
    "slideshow": {
     "slide_type": "subslide"
    }
   },
   "outputs": [],
   "source": [
    "%%sql\n",
    "SELECT name FROM sqlite_master;"
   ]
  },
  {
   "cell_type": "code",
   "execution_count": null,
   "id": "722a9ad1",
   "metadata": {
    "slideshow": {
     "slide_type": "fragment"
    }
   },
   "outputs": [],
   "source": [
    "%%sql\n",
    "SELECT * FROM simple_library;"
   ]
  },
  {
   "cell_type": "code",
   "execution_count": null,
   "id": "b599c227",
   "metadata": {
    "slideshow": {
     "slide_type": "subslide"
    }
   },
   "outputs": [],
   "source": [
    "%%sql\n",
    "DROP TABLE simple_library;"
   ]
  },
  {
   "cell_type": "code",
   "execution_count": null,
   "id": "b57b351b",
   "metadata": {
    "slideshow": {
     "slide_type": "fragment"
    }
   },
   "outputs": [],
   "source": [
    "%%sql\n",
    "SELECT name FROM sqlite_master;"
   ]
  },
  {
   "cell_type": "code",
   "execution_count": null,
   "id": "f188b7e9",
   "metadata": {
    "slideshow": {
     "slide_type": "fragment"
    }
   },
   "outputs": [],
   "source": [
    "%%sql\n",
    "SELECT * FROM simple_library;"
   ]
  },
  {
   "cell_type": "markdown",
   "id": "1fd4e5d5",
   "metadata": {
    "slideshow": {
     "slide_type": "subslide"
    }
   },
   "source": [
    "> **Przykład:**\n",
    "> \n",
    "> Tworzenie tabeli `simple_library`."
   ]
  },
  {
   "cell_type": "code",
   "execution_count": null,
   "id": "6540aa3e",
   "metadata": {
    "slideshow": {
     "slide_type": "fragment"
    }
   },
   "outputs": [],
   "source": [
    "%%sql\n",
    "CREATE TABLE simple_library (\n",
    "    ID INTEGER PRIMARY KEY AUTOINCREMENT,\n",
    "    Title TEXT NOT NULL,\n",
    "    Author_surname TEXT NOT NULL,\n",
    "    Author_name TEXT NOT NULL,\n",
    "    Registration_date TEXT NOT NULL CHECK(Registration_date LIKE '____-__-__')\n",
    ");"
   ]
  },
  {
   "cell_type": "code",
   "execution_count": null,
   "id": "9f0ed2c7",
   "metadata": {
    "slideshow": {
     "slide_type": "subslide"
    }
   },
   "outputs": [],
   "source": [
    "%%sql\n",
    "SELECT name FROM sqlite_master;"
   ]
  },
  {
   "cell_type": "code",
   "execution_count": null,
   "id": "e68f6b08",
   "metadata": {
    "slideshow": {
     "slide_type": "fragment"
    }
   },
   "outputs": [],
   "source": [
    "%%sql\n",
    "SELECT * FROM simple_library;"
   ]
  },
  {
   "cell_type": "code",
   "execution_count": null,
   "id": "6c5ecfd2",
   "metadata": {
    "slideshow": {
     "slide_type": "fragment"
    }
   },
   "outputs": [],
   "source": [
    "!cp simple_library_original.db simple_library.db"
   ]
  },
  {
   "cell_type": "markdown",
   "id": "4afd3a36",
   "metadata": {
    "slideshow": {
     "slide_type": "subslide"
    }
   },
   "source": [
    "Tabelę można również tylko opróżnić, czyli usunąć wszystkie dane, ale pozostawić jej strukturę. Stosuje się różne polecenia:\n",
    "\n",
    "* `DELETE FROM nazwa_tabeli;` - usuwa wszystkie rekordy, ale nie resetuje `AUTO_INCREMENT`\n",
    "* `DELETE FROM nazwa_tabeli; VACUUM;` - usuwa dane i odzyskuje miejsce na dysku, ale nadal nie resetuje `AUTO_INCREMENT`\n",
    "* `DELETE FROM nazwa_tabeli; UPDATE sqlite_sequence SET seq = 0 WHERE name = 'nazwa_tabeli';` – usuwa dane i resetuje `AUTO_INCREMENT`"
   ]
  },
  {
   "cell_type": "code",
   "execution_count": null,
   "id": "67e46911",
   "metadata": {
    "slideshow": {
     "slide_type": "subslide"
    }
   },
   "outputs": [],
   "source": [
    "%%sql\n",
    "SELECT name FROM sqlite_master;"
   ]
  },
  {
   "cell_type": "code",
   "execution_count": null,
   "id": "933f4cfd",
   "metadata": {
    "slideshow": {
     "slide_type": "fragment"
    }
   },
   "outputs": [],
   "source": [
    "%%sql\n",
    "SELECT * FROM simple_library;"
   ]
  },
  {
   "cell_type": "code",
   "execution_count": null,
   "id": "8650ac0a",
   "metadata": {
    "slideshow": {
     "slide_type": "subslide"
    }
   },
   "outputs": [],
   "source": [
    "%%sql\n",
    "DELETE FROM simple_library;"
   ]
  },
  {
   "cell_type": "code",
   "execution_count": null,
   "id": "78b90ab0",
   "metadata": {
    "slideshow": {
     "slide_type": "fragment"
    }
   },
   "outputs": [],
   "source": [
    "%%sql\n",
    "SELECT name FROM sqlite_master;"
   ]
  },
  {
   "cell_type": "code",
   "execution_count": null,
   "id": "783fd28f",
   "metadata": {
    "slideshow": {
     "slide_type": "fragment"
    }
   },
   "outputs": [],
   "source": [
    "%%sql\n",
    "SELECT * FROM simple_library;"
   ]
  },
  {
   "cell_type": "code",
   "execution_count": null,
   "id": "ff00d77d",
   "metadata": {
    "slideshow": {
     "slide_type": "fragment"
    }
   },
   "outputs": [],
   "source": [
    "!cp simple_library_original.db simple_library.db"
   ]
  },
  {
   "cell_type": "markdown",
   "id": "7e08c407",
   "metadata": {
    "slideshow": {
     "slide_type": "slide"
    }
   },
   "source": [
    "### Bezpieczeństwo"
   ]
  },
  {
   "cell_type": "markdown",
   "id": "70ab1bad",
   "metadata": {
    "slideshow": {
     "slide_type": "fragment"
    }
   },
   "source": [
    "Ponieważ SQL jest językiem interpretowanym, istnieje możliwość nadużyć w przypadku konstruowania zapytań z wykorzystaniem parametrów pochodzących z zewnątrz aplikacji. \n",
    "\n",
    "Szczególnie podatne na ten typ ataku są tworzone dynamicznie w oparciu o SQL-ową bazę danych serwisy internetowe. \n",
    "\n",
    "Jeśli twórca aplikacji nie zadba o sprawdzenie poprawności (tzw. **walidację**) danych wejściowych stanowiących część zapytania, atakujący może dopisać do zapytania (\"wstrzyknąć\") dodatkowe komendy lub zmienić ich sposób działania. \n",
    "\n",
    "Atak taki nosi nazwę **SQL injection** (wstrzyknięcie kodu za pomocą SQL)."
   ]
  },
  {
   "cell_type": "markdown",
   "id": "2f8af3fb",
   "metadata": {
    "slideshow": {
     "slide_type": "subslide"
    }
   },
   "source": [
    "![](https://niebezpiecznik.pl/wp-content/uploads/2009/10/radar-403x350.jpg)"
   ]
  },
  {
   "cell_type": "markdown",
   "id": "0d0eb8d8",
   "metadata": {
    "slideshow": {
     "slide_type": "fragment"
    }
   },
   "source": [
    "![](https://niebezpiecznik.pl/wp-content/uploads/2009/10/radar2-450x265.jpg)"
   ]
  },
  {
   "cell_type": "markdown",
   "id": "30bdd1b3",
   "metadata": {
    "slideshow": {
     "slide_type": "subslide"
    }
   },
   "source": [
    "![](https://niebezpiecznik.pl/wp-content/uploads/2009/10/radar3-418x350.jpg)"
   ]
  },
  {
   "cell_type": "code",
   "execution_count": null,
   "id": "40ac54dc",
   "metadata": {
    "slideshow": {
     "slide_type": "skip"
    }
   },
   "outputs": [],
   "source": []
  }
 ],
 "metadata": {
  "celltoolbar": "Slideshow",
  "kernelspec": {
   "display_name": "Python 3 (ipykernel)",
   "language": "python",
   "name": "python3"
  },
  "language_info": {
   "codemirror_mode": {
    "name": "ipython",
    "version": 3
   },
   "file_extension": ".py",
   "mimetype": "text/x-python",
   "name": "python",
   "nbconvert_exporter": "python",
   "pygments_lexer": "ipython3",
   "version": "3.13.0"
  }
 },
 "nbformat": 4,
 "nbformat_minor": 5
}
