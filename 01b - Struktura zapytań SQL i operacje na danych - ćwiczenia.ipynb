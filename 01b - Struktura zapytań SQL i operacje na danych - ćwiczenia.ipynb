{
 "cells": [
  {
   "cell_type": "markdown",
   "id": "464195dd",
   "metadata": {
    "slideshow": {
     "slide_type": "slide"
    }
   },
   "source": [
    "# Struktura zapytań SQL i operacje na danych - ćwiczenia\n",
    "\n",
    "_Mikołaj Leszczuk_"
   ]
  },
  {
   "cell_type": "code",
   "execution_count": null,
   "id": "5c8851c2",
   "metadata": {
    "slideshow": {
     "slide_type": "subslide"
    }
   },
   "outputs": [],
   "source": [
    "!cp simple_library_original.db simple_library.db\n",
    "%load_ext sql\n",
    "%sql sqlite:///simple_library.db?mode=rw"
   ]
  },
  {
   "cell_type": "markdown",
   "id": "76fcd7ec",
   "metadata": {
    "slideshow": {
     "slide_type": "slide"
    }
   },
   "source": [
    "## Lista identyfikatorów i dat rejestracji książek"
   ]
  },
  {
   "cell_type": "markdown",
   "id": "a3877fdf",
   "metadata": {
    "slideshow": {
     "slide_type": "slide"
    }
   },
   "source": [
    "### Ćwiczenie"
   ]
  },
  {
   "cell_type": "markdown",
   "id": "f084c34d",
   "metadata": {
    "slideshow": {
     "slide_type": "fragment"
    }
   },
   "source": [
    "Wybierz wszystkie identyfikatory i daty rejestracji książek."
   ]
  },
  {
   "cell_type": "markdown",
   "id": "d37db945",
   "metadata": {
    "slideshow": {
     "slide_type": "slide"
    }
   },
   "source": [
    "### Rozwiązanie"
   ]
  },
  {
   "cell_type": "code",
   "execution_count": null,
   "id": "2fd3bea4",
   "metadata": {
    "slideshow": {
     "slide_type": "fragment"
    }
   },
   "outputs": [],
   "source": [
    "%%sql\n",
    "SELECT ID, Registration_date FROM simple_library;"
   ]
  },
  {
   "cell_type": "markdown",
   "id": "10738813",
   "metadata": {
    "slideshow": {
     "slide_type": "slide"
    }
   },
   "source": [
    "## Usunięcie książek zarejestrowanych przed 1972 rokiem"
   ]
  },
  {
   "cell_type": "markdown",
   "id": "30ac5c51",
   "metadata": {
    "slideshow": {
     "slide_type": "slide"
    }
   },
   "source": [
    "### Ćwiczenie"
   ]
  },
  {
   "cell_type": "markdown",
   "id": "3abc067e",
   "metadata": {
    "slideshow": {
     "slide_type": "fragment"
    }
   },
   "source": [
    "Usuń wszystkie książki, których rok rejestracji jest starszy niż `1972`."
   ]
  },
  {
   "cell_type": "markdown",
   "id": "b1ecc7b8",
   "metadata": {
    "slideshow": {
     "slide_type": "slide"
    }
   },
   "source": [
    "### Rozwiązanie"
   ]
  },
  {
   "cell_type": "code",
   "execution_count": null,
   "id": "c5a073d1",
   "metadata": {
    "slideshow": {
     "slide_type": "subslide"
    }
   },
   "outputs": [],
   "source": [
    "%%sql\n",
    "SELECT * FROM simple_library WHERE Registration_date <= '1971-12-31';"
   ]
  },
  {
   "cell_type": "code",
   "execution_count": null,
   "id": "2b7951db",
   "metadata": {
    "slideshow": {
     "slide_type": "subslide"
    }
   },
   "outputs": [],
   "source": [
    "%%sql\n",
    "DELETE FROM simple_library WHERE Registration_date <= '1971-12-31';"
   ]
  },
  {
   "cell_type": "code",
   "execution_count": null,
   "id": "a2fbb6c0",
   "metadata": {
    "slideshow": {
     "slide_type": "subslide"
    }
   },
   "outputs": [],
   "source": [
    "%%sql\n",
    "SELECT * FROM simple_library WHERE Registration_date <= '1971-12-31';"
   ]
  },
  {
   "cell_type": "code",
   "execution_count": null,
   "id": "06c3a26e",
   "metadata": {
    "slideshow": {
     "slide_type": "subslide"
    }
   },
   "outputs": [],
   "source": [
    "!cp simple_library_original.db simple_library.db"
   ]
  },
  {
   "cell_type": "markdown",
   "id": "b5fe07b3",
   "metadata": {
    "slideshow": {
     "slide_type": "slide"
    }
   },
   "source": [
    "## Dodawanie nowego rekordu do tabeli – `INSERT INTO`"
   ]
  },
  {
   "cell_type": "markdown",
   "id": "91939f07",
   "metadata": {
    "slideshow": {
     "slide_type": "slide"
    }
   },
   "source": [
    "### Ćwiczenie"
   ]
  },
  {
   "cell_type": "markdown",
   "id": "f09e7198",
   "metadata": {
    "slideshow": {
     "slide_type": "fragment"
    }
   },
   "source": [
    "Dodaj do tabeli nową książkę: 'Król' Szczepana Twardocha, zarejestrowana 28 września 2016 roku, identyfikator: 1001.\n"
   ]
  },
  {
   "cell_type": "markdown",
   "id": "8dd7cf49",
   "metadata": {
    "slideshow": {
     "slide_type": "slide"
    }
   },
   "source": [
    "### Rozwiązanie"
   ]
  },
  {
   "cell_type": "code",
   "execution_count": null,
   "id": "f788833b",
   "metadata": {
    "slideshow": {
     "slide_type": "subslide"
    }
   },
   "outputs": [],
   "source": [
    "%%sql\n",
    "INSERT INTO simple_library VALUES ('1001', 'Król', 'Twardoch', 'Szczepan', '2016-09-28');"
   ]
  },
  {
   "cell_type": "code",
   "execution_count": null,
   "id": "4c65959c",
   "metadata": {
    "slideshow": {
     "slide_type": "subslide"
    }
   },
   "outputs": [],
   "source": [
    "%%sql\n",
    "SELECT * FROM simple_library;"
   ]
  },
  {
   "cell_type": "code",
   "execution_count": null,
   "id": "26f40b90",
   "metadata": {
    "slideshow": {
     "slide_type": "subslide"
    }
   },
   "outputs": [],
   "source": [
    "!cp simple_library_original.db simple_library.db"
   ]
  },
  {
   "cell_type": "markdown",
   "id": "5140072c",
   "metadata": {
    "slideshow": {
     "slide_type": "slide"
    }
   },
   "source": [
    "## Wyszukiwanie książek zarejestrowanych w latach 80."
   ]
  },
  {
   "cell_type": "markdown",
   "id": "86ae5757",
   "metadata": {
    "slideshow": {
     "slide_type": "slide"
    }
   },
   "source": [
    "### Ćwiczenie\n"
   ]
  },
  {
   "cell_type": "markdown",
   "id": "9d65274e",
   "metadata": {
    "slideshow": {
     "slide_type": "fragment"
    }
   },
   "source": [
    "Wybierz wszystkie dane książek z tabeli, które zarejestrowane zostały w latach 80. Użyj operatora logicznego."
   ]
  },
  {
   "cell_type": "markdown",
   "id": "0d4970b1",
   "metadata": {
    "slideshow": {
     "slide_type": "slide"
    }
   },
   "source": [
    "### Rozwiązanie"
   ]
  },
  {
   "cell_type": "code",
   "execution_count": null,
   "id": "9bddc4ee",
   "metadata": {
    "slideshow": {
     "slide_type": "fragment"
    }
   },
   "outputs": [],
   "source": [
    "%%sql\n",
    "SELECT * FROM simple_library\n",
    "WHERE Registration_date >= '1980-01-01' AND Registration_date <= '1989-12-31';"
   ]
  },
  {
   "cell_type": "markdown",
   "id": "21e247c2",
   "metadata": {
    "slideshow": {
     "slide_type": "slide"
    }
   },
   "source": [
    "## Wyszukiwanie książek, których nazwiska autorów zawierają literę “e”"
   ]
  },
  {
   "cell_type": "markdown",
   "id": "e022c8a8",
   "metadata": {
    "slideshow": {
     "slide_type": "slide"
    }
   },
   "source": [
    "### Ćwiczenie"
   ]
  },
  {
   "cell_type": "markdown",
   "id": "e28f9088",
   "metadata": {
    "slideshow": {
     "slide_type": "fragment"
    }
   },
   "source": [
    "Wybierz książki z tabeli, których nazwiska autorów zawierają literę “`e`”."
   ]
  },
  {
   "cell_type": "markdown",
   "id": "d2f9c5c1",
   "metadata": {
    "slideshow": {
     "slide_type": "slide"
    }
   },
   "source": [
    "### Rozwiązanie"
   ]
  },
  {
   "cell_type": "code",
   "execution_count": null,
   "id": "559c13e8",
   "metadata": {
    "scrolled": false,
    "slideshow": {
     "slide_type": "subslide"
    }
   },
   "outputs": [],
   "source": [
    "%%sql\n",
    "SELECT * FROM simple_library WHERE Author_surname LIKE '%e%';"
   ]
  },
  {
   "cell_type": "markdown",
   "id": "7b968efe",
   "metadata": {
    "slideshow": {
     "slide_type": "slide"
    }
   },
   "source": [
    "## Wyszukiwanie książek o określonych identyfikatorach"
   ]
  },
  {
   "cell_type": "markdown",
   "id": "defc27b6",
   "metadata": {
    "slideshow": {
     "slide_type": "slide"
    }
   },
   "source": [
    "### Ćwiczenie"
   ]
  },
  {
   "cell_type": "markdown",
   "id": "eeeefe3a",
   "metadata": {
    "slideshow": {
     "slide_type": "fragment"
    }
   },
   "source": [
    "Wybierz dane książek z tabeli, których identyfikator to `300`, `400`, `500` lub `600`."
   ]
  },
  {
   "cell_type": "markdown",
   "id": "f465bb70",
   "metadata": {
    "slideshow": {
     "slide_type": "slide"
    }
   },
   "source": [
    "### Rozwiązanie"
   ]
  },
  {
   "cell_type": "code",
   "execution_count": null,
   "id": "e6c1df36",
   "metadata": {
    "slideshow": {
     "slide_type": "fragment"
    }
   },
   "outputs": [],
   "source": [
    "%%sql\n",
    "SELECT * FROM simple_library WHERE ID IN ('300', '400', '500', '600');"
   ]
  },
  {
   "cell_type": "markdown",
   "id": "f8d6b505",
   "metadata": {
    "slideshow": {
     "slide_type": "slide"
    }
   },
   "source": [
    "## Paginacja wyników - wybieranie drugiej dziesiątki rekordów"
   ]
  },
  {
   "cell_type": "markdown",
   "id": "baf5b0a9",
   "metadata": {
    "slideshow": {
     "slide_type": "slide"
    }
   },
   "source": [
    "### Ćwiczenie"
   ]
  },
  {
   "cell_type": "markdown",
   "id": "aaca04e9",
   "metadata": {
    "slideshow": {
     "slide_type": "fragment"
    }
   },
   "source": [
    "Wybierz dane drugiej dziesiątki książek."
   ]
  },
  {
   "cell_type": "markdown",
   "id": "c6cc8e2a",
   "metadata": {
    "slideshow": {
     "slide_type": "slide"
    }
   },
   "source": [
    "### Rozwiązanie"
   ]
  },
  {
   "cell_type": "code",
   "execution_count": null,
   "id": "4a6fb2b1",
   "metadata": {
    "slideshow": {
     "slide_type": "fragment"
    }
   },
   "outputs": [],
   "source": [
    "%%sql\n",
    "SELECT * FROM simple_library LIMIT 10 OFFSET 10;"
   ]
  },
  {
   "cell_type": "markdown",
   "id": "a3c0f5a7",
   "metadata": {
    "slideshow": {
     "slide_type": "slide"
    }
   },
   "source": [
    "## Zliczanie książek autorstwa Stanisława Lema"
   ]
  },
  {
   "cell_type": "markdown",
   "id": "ac565681",
   "metadata": {
    "slideshow": {
     "slide_type": "slide"
    }
   },
   "source": [
    "### Ćwiczenie"
   ]
  },
  {
   "cell_type": "markdown",
   "id": "8c37e921",
   "metadata": {
    "slideshow": {
     "slide_type": "fragment"
    }
   },
   "source": [
    "Znajdź liczbę wszystkich książek Lema."
   ]
  },
  {
   "cell_type": "markdown",
   "id": "709534e3",
   "metadata": {
    "slideshow": {
     "slide_type": "slide"
    }
   },
   "source": [
    "### Rozwiązanie"
   ]
  },
  {
   "cell_type": "code",
   "execution_count": null,
   "id": "9c846825",
   "metadata": {
    "slideshow": {
     "slide_type": "fragment"
    }
   },
   "outputs": [],
   "source": [
    "%%sql\n",
    "SELECT COUNT(Author_surname) FROM simple_library WHERE Author_surname = 'Lem';"
   ]
  },
  {
   "cell_type": "markdown",
   "id": "4ebc12f9",
   "metadata": {
    "slideshow": {
     "slide_type": "slide"
    }
   },
   "source": [
    "## Znajdź pierwszą książkę w kolejności alfabetycznej"
   ]
  },
  {
   "cell_type": "markdown",
   "id": "8cbfc7eb",
   "metadata": {
    "slideshow": {
     "slide_type": "slide"
    }
   },
   "source": [
    "### Ćwiczenie"
   ]
  },
  {
   "cell_type": "markdown",
   "id": "38fd048c",
   "metadata": {
    "slideshow": {
     "slide_type": "fragment"
    }
   },
   "source": [
    "Napisz zapytanie SQL, które zwróci tytuł książki znajdującej się jako pierwsza w porządku alfabetycznym w tabeli `simple_library`."
   ]
  },
  {
   "cell_type": "markdown",
   "id": "afd58646",
   "metadata": {
    "slideshow": {
     "slide_type": "slide"
    }
   },
   "source": [
    "### Rozwiązanie"
   ]
  },
  {
   "cell_type": "code",
   "execution_count": null,
   "id": "b89e207f",
   "metadata": {
    "slideshow": {
     "slide_type": "fragment"
    }
   },
   "outputs": [],
   "source": [
    "%%sql\n",
    "SELECT MIN(Title) FROM simple_library;"
   ]
  },
  {
   "cell_type": "markdown",
   "id": "9559f13c",
   "metadata": {
    "slideshow": {
     "slide_type": "slide"
    }
   },
   "source": [
    "## Zlicz liczbę tytułów przypisanych do każdego autora"
   ]
  },
  {
   "cell_type": "markdown",
   "id": "d7a885cd",
   "metadata": {
    "slideshow": {
     "slide_type": "slide"
    }
   },
   "source": [
    "### Ćwiczenie"
   ]
  },
  {
   "cell_type": "markdown",
   "id": "fb72fdf9",
   "metadata": {
    "slideshow": {
     "slide_type": "fragment"
    }
   },
   "source": [
    "Podaj łączną liczbę tytułów każdego autora."
   ]
  },
  {
   "cell_type": "markdown",
   "id": "6d2c81f8",
   "metadata": {
    "slideshow": {
     "slide_type": "slide"
    }
   },
   "source": [
    "### Rozwiązanie"
   ]
  },
  {
   "cell_type": "code",
   "execution_count": null,
   "id": "2d443096",
   "metadata": {
    "slideshow": {
     "slide_type": "fragment"
    }
   },
   "outputs": [],
   "source": [
    "%%sql\n",
    "SELECT Author_surname, COUNT(DISTINCT Title) FROM simple_library GROUP BY Author_surname;"
   ]
  },
  {
   "cell_type": "markdown",
   "id": "cd94e95b",
   "metadata": {
    "slideshow": {
     "slide_type": "slide"
    }
   },
   "source": [
    "## Znajdź często powtarzające się tytuły książek"
   ]
  },
  {
   "cell_type": "markdown",
   "id": "385a8ee7",
   "metadata": {
    "slideshow": {
     "slide_type": "slide"
    }
   },
   "source": [
    "### Ćwiczenie"
   ]
  },
  {
   "cell_type": "markdown",
   "id": "fde913da",
   "metadata": {
    "slideshow": {
     "slide_type": "fragment"
    }
   },
   "source": [
    "Podaj tytuły książek wraz z sumaryczną liczbą ich wystąpień, ale tylko takich, które występują przynajmniej dwadzieścia razy."
   ]
  },
  {
   "cell_type": "markdown",
   "id": "faa56cac",
   "metadata": {
    "slideshow": {
     "slide_type": "slide"
    }
   },
   "source": [
    "### Rozwiązanie"
   ]
  },
  {
   "cell_type": "code",
   "execution_count": null,
   "id": "e71c1cc3",
   "metadata": {
    "slideshow": {
     "slide_type": "fragment"
    }
   },
   "outputs": [],
   "source": [
    "%%sql\n",
    "SELECT Title, COUNT(Title) FROM simple_library GROUP BY Title HAVING COUNT(Title) >= 20;"
   ]
  },
  {
   "cell_type": "markdown",
   "id": "189f235a",
   "metadata": {
    "slideshow": {
     "slide_type": "slide"
    }
   },
   "source": [
    "## Znajdź autorów z określoną liczbą unikalnych tytułów"
   ]
  },
  {
   "cell_type": "markdown",
   "id": "7e6c217b",
   "metadata": {
    "slideshow": {
     "slide_type": "slide"
    }
   },
   "source": [
    "### Ćwiczenie"
   ]
  },
  {
   "cell_type": "markdown",
   "id": "99a547e4",
   "metadata": {
    "slideshow": {
     "slide_type": "fragment"
    }
   },
   "source": [
    "Wyszukaj autorów, którzy mają w bazie dokładnie 4, 5 lub 7 unikalnych tytułów książek."
   ]
  },
  {
   "cell_type": "markdown",
   "id": "1b8c8f3c",
   "metadata": {
    "slideshow": {
     "slide_type": "slide"
    }
   },
   "source": [
    "### Rozwiązanie"
   ]
  },
  {
   "cell_type": "code",
   "execution_count": null,
   "id": "e9fe2fca",
   "metadata": {
    "slideshow": {
     "slide_type": "fragment"
    }
   },
   "outputs": [],
   "source": [
    "%%sql\n",
    "SELECT Author_surname, COUNT(DISTINCT Title) FROM simple_library GROUP BY Author_surname\n",
    "HAVING COUNT(DISTINCT Title) IN (4, 5, 7);"
   ]
  },
  {
   "cell_type": "markdown",
   "id": "6b618b25",
   "metadata": {
    "slideshow": {
     "slide_type": "slide"
    }
   },
   "source": [
    "## Zadania utrwalające"
   ]
  },
  {
   "cell_type": "markdown",
   "id": "5dc13ff4",
   "metadata": {
    "slideshow": {
     "slide_type": "fragment"
    }
   },
   "source": [
    "[`01c - Operacje na danych i struktura zapytań SQL - zadania.md`](https://github.com/miklesz/SQL/blob/master/01c%20-%20Operacje%20na%20danych%20i%20struktura%20zapytań%20SQL%20-%20zadania.md)"
   ]
  },
  {
   "cell_type": "code",
   "execution_count": null,
   "id": "40ac54dc",
   "metadata": {
    "slideshow": {
     "slide_type": "skip"
    }
   },
   "outputs": [],
   "source": []
  }
 ],
 "metadata": {
  "celltoolbar": "Slideshow",
  "kernelspec": {
   "display_name": "Python 3 (ipykernel)",
   "language": "python",
   "name": "python3"
  },
  "language_info": {
   "codemirror_mode": {
    "name": "ipython",
    "version": 3
   },
   "file_extension": ".py",
   "mimetype": "text/x-python",
   "name": "python",
   "nbconvert_exporter": "python",
   "pygments_lexer": "ipython3",
   "version": "3.13.0"
  }
 },
 "nbformat": 4,
 "nbformat_minor": 5
}
