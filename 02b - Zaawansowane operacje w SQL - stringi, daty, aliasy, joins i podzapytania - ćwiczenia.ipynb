{
 "cells": [
  {
   "cell_type": "markdown",
   "id": "d5f5f87c",
   "metadata": {
    "slideshow": {
     "slide_type": "slide"
    }
   },
   "source": [
    "# Zaawansowane operacje w SQL - stringi, daty, aliasy, joins i podzapytania\n",
    "\n",
    "_Mikołaj Leszczuk_"
   ]
  },
  {
   "cell_type": "markdown",
   "id": "d25e2eb4",
   "metadata": {
    "slideshow": {
     "slide_type": "slide"
    }
   },
   "source": [
    "## Konspekt"
   ]
  },
  {
   "cell_type": "markdown",
   "id": "069fc681",
   "metadata": {
    "slideshow": {
     "slide_type": "fragment"
    }
   },
   "source": [
    "* Operacje na stringach\n",
    "* Funkcje daty\n",
    "* Aliasy - zastępcze nazwy kolumn lub tabeli\n",
    "* Łączenie tabel i wyszukiwanie danych w wielu tabelach\n",
    "* Pod-zapytania"
   ]
  },
  {
   "cell_type": "markdown",
   "id": "c00f2f37",
   "metadata": {
    "slideshow": {
     "slide_type": "slide"
    }
   },
   "source": [
    "## Operacje na stringach"
   ]
  },
  {
   "cell_type": "markdown",
   "id": "98d30530",
   "metadata": {
    "slideshow": {
     "slide_type": "fragment"
    }
   },
   "source": [
    "Tu doświadczymy istotnych różnic pomiędzy implementacjami DBMS!"
   ]
  },
  {
   "cell_type": "code",
   "execution_count": null,
   "id": "a095ed3d",
   "metadata": {
    "slideshow": {
     "slide_type": "subslide"
    }
   },
   "outputs": [],
   "source": [
    "!cp simple_library_original.db simple_library.db\n",
    "%load_ext sql\n",
    "%sql sqlite:///simple_library.db?mode=rw"
   ]
  },
  {
   "cell_type": "code",
   "execution_count": null,
   "id": "30ff9617",
   "metadata": {
    "slideshow": {
     "slide_type": "fragment"
    }
   },
   "outputs": [],
   "source": [
    "%%sql\n",
    "SELECT * FROM simple_library;"
   ]
  },
  {
   "cell_type": "markdown",
   "id": "67e9960e",
   "metadata": {
    "slideshow": {
     "slide_type": "slide"
    }
   },
   "source": [
    "### `||`"
   ]
  },
  {
   "cell_type": "markdown",
   "id": "9bff08c5",
   "metadata": {
    "slideshow": {
     "slide_type": "fragment"
    }
   },
   "source": [
    "Czasem jest potrzeba wyświetlenia konkatenacji kolumn i jakiegoś łańcucha tekstowego. Do tego może przydać się operator `||`.\n",
    "\n",
    "Sposób realizacji konkatenacji różni się od siebie w bazach danych:\n",
    "\n",
    "* SQLite: `||`\n",
    "* Oracle: `||` lub `CONCAT()` \n",
    "* MySQL: `CONCAT()`\n",
    "* SQL Server: `+`\n",
    "\n",
    "Składnia użycia operatora `||` w SQLite/Oracle:\n",
    "\n",
    "```sql\n",
    "SELECT nazwa_kolumny1 || 'dowolny_tekst' || nazwa_kolumny2\n",
    "FROM nazwa_tabeli;\n",
    "```"
   ]
  },
  {
   "cell_type": "markdown",
   "id": "3a2590aa",
   "metadata": {
    "slideshow": {
     "slide_type": "slide"
    }
   },
   "source": [
    "##### Przykład"
   ]
  },
  {
   "cell_type": "markdown",
   "id": "e3ac6d71",
   "metadata": {
    "slideshow": {
     "slide_type": "subslide"
    }
   },
   "source": [
    "> **Przykład:**\n",
    ">\n",
    ">  Użycie `||` w SQLite/Oracle. **Wyświetl unikalne imię i nazwisko oddzielone spacją `(\" \")`**"
   ]
  },
  {
   "cell_type": "code",
   "execution_count": null,
   "id": "4e62ea8b",
   "metadata": {
    "slideshow": {
     "slide_type": "fragment"
    }
   },
   "outputs": [],
   "source": [
    "%%sql\n",
    "SELECT Author_name || ' ' || Author_surname FROM simple_library;"
   ]
  },
  {
   "cell_type": "markdown",
   "id": "d492d2ed",
   "metadata": {
    "slideshow": {
     "slide_type": "slide"
    }
   },
   "source": [
    "## Unikalna lista autorów"
   ]
  },
  {
   "cell_type": "markdown",
   "id": "5acc902e",
   "metadata": {
    "slideshow": {
     "slide_type": "slide"
    }
   },
   "source": [
    "### Ćwiczenie"
   ]
  },
  {
   "cell_type": "markdown",
   "id": "26c85a78",
   "metadata": {
    "slideshow": {
     "slide_type": "fragment"
    }
   },
   "source": [
    "Wyświetl bez powtórzeń imię i nazwisko oddzielone spacją `(' ')`."
   ]
  },
  {
   "cell_type": "markdown",
   "id": "4f062ed1",
   "metadata": {
    "slideshow": {
     "slide_type": "slide"
    }
   },
   "source": [
    "### Rozwiązanie"
   ]
  },
  {
   "cell_type": "code",
   "execution_count": null,
   "id": "8c094fa6",
   "metadata": {
    "slideshow": {
     "slide_type": "fragment"
    }
   },
   "outputs": [],
   "source": [
    "%%sql\n",
    "SELECT DISTINCT Author_name || ' ' || Author_surname FROM simple_library;"
   ]
  },
  {
   "cell_type": "markdown",
   "id": "7b9fdea7",
   "metadata": {
    "slideshow": {
     "slide_type": "slide"
    }
   },
   "source": [
    "### `LOWER()` i `UPPER()`"
   ]
  },
  {
   "cell_type": "markdown",
   "id": "6292eafd",
   "metadata": {
    "slideshow": {
     "slide_type": "fragment"
    }
   },
   "source": [
    "Funkcja zwraca wartość kolumny tekstowej w postaci małych/dużych liter.\n",
    "\n",
    "Składnia:\n",
    "\n",
    "```sqlite\n",
    "SELECT LOWER(nazwa_kolumny) FROM nazwa_tabeli;\n",
    "```\n",
    "\n",
    "```sqlite\n",
    "SELECT UPPER(nazwa_kolumny) FROM nazwa_tabeli;\n",
    "```"
   ]
  },
  {
   "cell_type": "markdown",
   "id": "58679470",
   "metadata": {
    "slideshow": {
     "slide_type": "subslide"
    }
   },
   "source": [
    "> **Przykład:**\n",
    "> \n",
    "> Wyświetl przy pomocy LOWER() wszystkie nazwiska małymi literami."
   ]
  },
  {
   "cell_type": "code",
   "execution_count": null,
   "id": "2ac38fa1",
   "metadata": {
    "slideshow": {
     "slide_type": "fragment"
    }
   },
   "outputs": [],
   "source": [
    "%%sql\n",
    "SELECT LOWER(Author_surname) FROM simple_library;"
   ]
  },
  {
   "cell_type": "markdown",
   "id": "f88a47cb",
   "metadata": {
    "slideshow": {
     "slide_type": "subslide"
    }
   },
   "source": [
    "> **Przykład:**\n",
    "> \n",
    "> Wyświetl przy pomocy UPPER() wszystkie imiona dużymi literami."
   ]
  },
  {
   "cell_type": "code",
   "execution_count": null,
   "id": "cdbc22a2",
   "metadata": {
    "slideshow": {
     "slide_type": "fragment"
    }
   },
   "outputs": [],
   "source": [
    "%%sql\n",
    "SELECT UPPER(Author_name) FROM simple_library;"
   ]
  },
  {
   "cell_type": "markdown",
   "id": "8d007606",
   "metadata": {
    "slideshow": {
     "slide_type": "slide"
    }
   },
   "source": [
    "## Imię małymi, nazwisko wielkimi literami"
   ]
  },
  {
   "cell_type": "markdown",
   "id": "734ac5eb",
   "metadata": {
    "slideshow": {
     "slide_type": "slide"
    }
   },
   "source": [
    "### Ćwiczenie"
   ]
  },
  {
   "cell_type": "markdown",
   "id": "06c0e56d",
   "metadata": {
    "slideshow": {
     "slide_type": "fragment"
    }
   },
   "source": [
    "Wyświetl bez powtórzeń imię małymi literami i nazwisko dużymi literami."
   ]
  },
  {
   "cell_type": "markdown",
   "id": "3c1149f0",
   "metadata": {
    "slideshow": {
     "slide_type": "slide"
    }
   },
   "source": [
    "### Rozwiązanie"
   ]
  },
  {
   "cell_type": "code",
   "execution_count": null,
   "id": "1f304e70",
   "metadata": {
    "slideshow": {
     "slide_type": "fragment"
    }
   },
   "outputs": [],
   "source": [
    "%%sql\n",
    "SELECT DISTINCT LOWER(author_name), UPPER(author_surname) FROM simple_library;"
   ]
  },
  {
   "cell_type": "markdown",
   "id": "9abf90f6",
   "metadata": {
    "slideshow": {
     "slide_type": "slide"
    }
   },
   "source": [
    "### `LENGTH()`"
   ]
  },
  {
   "cell_type": "markdown",
   "id": "66f55f2a",
   "metadata": {
    "slideshow": {
     "slide_type": "fragment"
    }
   },
   "source": [
    "Funkcja zwraca długość pola tekstowego podanego jako argument\n",
    "\n",
    "Składnia:\n",
    "\n",
    "```sqlite\n",
    "SELECT LENGTH(nazwa_kolumny) FROM nazwa_tabeli;\n",
    "```\n",
    "\n",
    "W SQL Server używa się do tego samego funkcji `LEN()`"
   ]
  },
  {
   "cell_type": "markdown",
   "id": "0f5078d5",
   "metadata": {
    "slideshow": {
     "slide_type": "subslide"
    }
   },
   "source": [
    "> **Przykład:**\n",
    ">\n",
    "> Wyświetl przy pomocy LENGTH() nazwisko i odpowiadającą jemu długość nazwiska."
   ]
  },
  {
   "cell_type": "code",
   "execution_count": null,
   "id": "1310d09a",
   "metadata": {
    "slideshow": {
     "slide_type": "fragment"
    }
   },
   "outputs": [],
   "source": [
    "%%sql\n",
    "SELECT Author_surname, LENGTH(Author_surname) FROM simple_library;"
   ]
  },
  {
   "cell_type": "markdown",
   "id": "51ef38d8",
   "metadata": {
    "slideshow": {
     "slide_type": "slide"
    }
   },
   "source": [
    "### `REPLACE()`"
   ]
  },
  {
   "cell_type": "markdown",
   "id": "7886fc31",
   "metadata": {
    "slideshow": {
     "slide_type": "fragment"
    }
   },
   "source": [
    "Funkcja przeszukuje `str1` w poszukiwaniu `str2` aby go zamienić na `str3`\n",
    "\n",
    "Składnia:\n",
    "\n",
    "```sqlite\n",
    "SELECT REPLACE(nazwa_kolumny,'str2','str3') FROM nazwa_tabeli;\n",
    "```"
   ]
  },
  {
   "cell_type": "markdown",
   "id": "85db9af3",
   "metadata": {
    "slideshow": {
     "slide_type": "subslide"
    }
   },
   "source": [
    "> **Przykład:**\n",
    ">\n",
    "> Wyświetl imiona i nazwiska z tym, że za pomocą `REPLACE()` zamiast imienia `'Stanisław'` wyświetl `'Stan'`."
   ]
  },
  {
   "cell_type": "code",
   "execution_count": null,
   "id": "bde1b705",
   "metadata": {
    "slideshow": {
     "slide_type": "fragment"
    }
   },
   "outputs": [],
   "source": [
    "%%sql\n",
    "SELECT REPLACE(Author_name, 'Stanisław', 'Stan'), Author_surname FROM simple_library;"
   ]
  },
  {
   "cell_type": "markdown",
   "id": "2d785f1e",
   "metadata": {
    "slideshow": {
     "slide_type": "slide"
    }
   },
   "source": [
    "### `SUBSTR()`"
   ]
  },
  {
   "cell_type": "markdown",
   "id": "3e0536b9",
   "metadata": {
    "slideshow": {
     "slide_type": "subslide"
    }
   },
   "source": [
    "Funkcja ta służy do operacji na łańcuchach tekstowych w wyniku zapytań. Może przyjmować 2-3 argumentów.\n",
    "\n",
    "```sql\n",
    "SUBSTR(nazwa_kolumny, pozycja [, liczba_znaków])\n",
    "```\n",
    "\n",
    "`nazwa_kolumny` - łańcuch tekstowy do obcięcia\n",
    "\n",
    "`pozycja` - nr znaku od którego ma być wyświetlony string\n",
    "\n",
    "`liczba_znaków` - argument opcjonalny, liczba znaków do wyświetlenia, liczona od parametru pozycja\n",
    "\n",
    "Składnia:\n",
    "\n",
    "```sqlite\n",
    "SELECT SUBSTR(nazwa_kolumny,pozycja[,liczba_znaków])\n",
    "FROM nazwa_tabeli;\n",
    "```\n",
    "\n",
    "W Oracle oraz w niektórych wersjach MySQL używa się funkcji `SUBSTRING()`. Natomiast w MS Access stosuje się `MID()`."
   ]
  },
  {
   "cell_type": "markdown",
   "id": "c196b5b0",
   "metadata": {
    "slideshow": {
     "slide_type": "subslide"
    }
   },
   "source": [
    "> **Przykład:**\n",
    ">\n",
    "> Wyświetl przy pomocy `SUBSTR()` dwie pierwsze litery z nazwiska."
   ]
  },
  {
   "cell_type": "code",
   "execution_count": null,
   "id": "29246135",
   "metadata": {
    "slideshow": {
     "slide_type": "fragment"
    }
   },
   "outputs": [],
   "source": [
    "%%sql\n",
    "SELECT SUBSTR(Author_surname, 1, 2) FROM simple_library;"
   ]
  },
  {
   "cell_type": "markdown",
   "id": "5bba513e",
   "metadata": {
    "slideshow": {
     "slide_type": "slide"
    }
   },
   "source": [
    "## Funkcje daty"
   ]
  },
  {
   "cell_type": "markdown",
   "id": "8874f955",
   "metadata": {
    "slideshow": {
     "slide_type": "slide"
    }
   },
   "source": [
    "### Funkcje daty SQLite"
   ]
  },
  {
   "cell_type": "markdown",
   "id": "afc98de0",
   "metadata": {
    "slideshow": {
     "slide_type": "fragment"
    }
   },
   "source": [
    "Umożliwiają operacje na dacie i czasie w trakcie wykonywania zapytania. Typowe funkcje to:\n",
    "\n",
    "`strftime('%d')`, `strftime('%m')`, `strftime('%Y')`\n",
    "\n",
    "Zwracają kolejno dzień, miesiąc, rok z podanej w argumencie daty\n",
    "\n",
    "```sqlite\n",
    "SELECT strftime('%d', data);\n",
    "```"
   ]
  },
  {
   "cell_type": "markdown",
   "id": "0d31152f",
   "metadata": {
    "slideshow": {
     "slide_type": "subslide"
    }
   },
   "source": [
    "> **Przykład:**\n",
    "> \n",
    "> Wybieramy książki, które zarejestrowano lutym."
   ]
  },
  {
   "cell_type": "code",
   "execution_count": null,
   "id": "5bfe572e",
   "metadata": {
    "slideshow": {
     "slide_type": "subslide"
    }
   },
   "outputs": [],
   "source": [
    "%%sql\n",
    "SELECT * FROM simple_library WHERE STRFTIME('%m', Registration_date)='02';"
   ]
  },
  {
   "cell_type": "markdown",
   "id": "7798c18e",
   "metadata": {
    "slideshow": {
     "slide_type": "slide"
    }
   },
   "source": [
    "## Wyszukiwanie książek dodanych na początku miesiąca"
   ]
  },
  {
   "cell_type": "markdown",
   "id": "4bb9a954",
   "metadata": {
    "slideshow": {
     "slide_type": "slide"
    }
   },
   "source": [
    "#### Ćwiczenie"
   ]
  },
  {
   "cell_type": "markdown",
   "id": "575be6ca",
   "metadata": {
    "slideshow": {
     "slide_type": "fragment"
    }
   },
   "source": [
    "Wybierz książki, których dzień dodania należy do przedziału od `01` do `10`."
   ]
  },
  {
   "cell_type": "markdown",
   "id": "f88e7ea3",
   "metadata": {
    "slideshow": {
     "slide_type": "slide"
    }
   },
   "source": [
    "### Rozwiązanie"
   ]
  },
  {
   "cell_type": "code",
   "execution_count": null,
   "id": "a9caa008",
   "metadata": {
    "slideshow": {
     "slide_type": "fragment"
    }
   },
   "outputs": [],
   "source": [
    "%%sql\n",
    "SELECT * FROM simple_library WHERE STRFTIME('%d', Registration_date) BETWEEN '01' AND '10';"
   ]
  },
  {
   "cell_type": "markdown",
   "id": "3cd5b422",
   "metadata": {
    "slideshow": {
     "slide_type": "slide"
    }
   },
   "source": [
    "### `DATE()`"
   ]
  },
  {
   "cell_type": "markdown",
   "id": "88547d97",
   "metadata": {
    "slideshow": {
     "slide_type": "fragment"
    }
   },
   "source": [
    "W SQLite funkcja DATE() służy do manipulacji i formatowania dat.\n",
    "\n",
    "Naczęstsze zastosowane to `DATE('now')`, które zwraca bieżącą datę i czas."
   ]
  },
  {
   "cell_type": "markdown",
   "id": "62707ec8",
   "metadata": {
    "slideshow": {
     "slide_type": "subslide"
    }
   },
   "source": [
    "> **Przykład:**\n",
    ">\n",
    "> Zwracanie aktualnej datę w formacie YYYY-MM-DD na podstawie czasu UTC."
   ]
  },
  {
   "cell_type": "code",
   "execution_count": null,
   "id": "8ba8985e",
   "metadata": {
    "slideshow": {
     "slide_type": "fragment"
    }
   },
   "outputs": [],
   "source": [
    "%%sql\n",
    "SELECT DATE('now');"
   ]
  },
  {
   "cell_type": "markdown",
   "id": "4bb425d7",
   "metadata": {
    "slideshow": {
     "slide_type": "slide"
    }
   },
   "source": [
    "### `JULIANDAY()`"
   ]
  },
  {
   "cell_type": "markdown",
   "id": "59d5199f",
   "metadata": {
    "slideshow": {
     "slide_type": "fragment"
    }
   },
   "source": [
    "Funkcja `JULIANDAY()` zwraca liczbę dni, które upłyneły od od **4713 roku p.n.e. (12:00 UTC, 1 stycznia)** według **kalendarza juliańskiego**. Jest to standard używany w astronomii do mierzenia czasu w sposób ciągły.\n",
    "\n",
    "**Dlaczego 4713 rok p.n.e.?**\n",
    "\n",
    "Rok ten został wybrany przez Josepha Scaligera w 1583 roku jako początek ery juliańskiej, co pozwala na unikanie problemów związanych z różnymi kalendarzami i epokami historycznymi. System ten umożliwia łatwe obliczanie różnic między datami."
   ]
  },
  {
   "cell_type": "markdown",
   "id": "767630eb",
   "metadata": {
    "slideshow": {
     "slide_type": "subslide"
    }
   },
   "source": [
    "> **Przykład:**\n",
    ">\n",
    "> Zwrócenie aktualnej daty w formacie juliańskim."
   ]
  },
  {
   "cell_type": "code",
   "execution_count": null,
   "id": "47a896b8",
   "metadata": {
    "slideshow": {
     "slide_type": "fragment"
    }
   },
   "outputs": [],
   "source": [
    "%%sql\n",
    "SELECT JULIANDAY('now');"
   ]
  },
  {
   "cell_type": "markdown",
   "id": "db7481d5",
   "metadata": {
    "slideshow": {
     "slide_type": "slide"
    }
   },
   "source": [
    "## Oblicz liczbę dni między dwiema ważnymi datami w historii Polski"
   ]
  },
  {
   "cell_type": "markdown",
   "id": "08ec4c27",
   "metadata": {
    "slideshow": {
     "slide_type": "slide"
    }
   },
   "source": [
    "### Ćwiczenie"
   ]
  },
  {
   "cell_type": "markdown",
   "id": "038947a3",
   "metadata": {
    "slideshow": {
     "slide_type": "fragment"
    }
   },
   "source": [
    "Oblicz liczbę dni, które upłynęły między **odzyskaniem niepodległości przez Polskę (11 listopada 1918)** a **wejściem Polski do Unii Europejskiej (1 maja 2004)**.\n",
    "\n",
    "**Podpowiedź:** Aby uzyskać liczbę dni, odejmij w zapytaniu wartość `JULIANDAY()` dla starszej daty od wartości `JULIANDAY()` dla nowszej daty."
   ]
  },
  {
   "cell_type": "markdown",
   "id": "dee75717",
   "metadata": {
    "slideshow": {
     "slide_type": "slide"
    }
   },
   "source": [
    "### Rozwiązanie"
   ]
  },
  {
   "cell_type": "code",
   "execution_count": null,
   "id": "a2eececa",
   "metadata": {
    "slideshow": {
     "slide_type": "fragment"
    }
   },
   "outputs": [],
   "source": [
    "%%sql\n",
    "SELECT JULIANDAY('2004-05-01') - JULIANDAY('1918-11-11');"
   ]
  },
  {
   "cell_type": "markdown",
   "id": "d9921215",
   "metadata": {
    "slideshow": {
     "slide_type": "slide"
    }
   },
   "source": [
    "## Aliasy - zastępcze nazwy kolumn lub tabeli"
   ]
  },
  {
   "cell_type": "markdown",
   "id": "296a88d4",
   "metadata": {
    "slideshow": {
     "slide_type": "fragment"
    }
   },
   "source": [
    "Alias to nazwa zastępcza, którą możemy zdefiniować dla konkretnej kolumny lub tabeli na początku zapytania, a następnie używać w całym zapytaniu jako wygodniejsza (zazwyczaj dużo krótsza) nazwa.\n",
    "\n",
    "Alias definiuje się używając klauzuli “`AS`” zaraz po nazwie kolumny lub tabeli w następujący sposób:\n",
    "\n",
    "```sqlite\n",
    "SELECT Kolumna AS Kol FROM tabela AS tab WHERE Kol = wartość;\n",
    "```\n",
    "\n",
    "Od momentu takiej definicji do kolumny kolumna wystarczy odwoływać się aliasem `Kol` a tabeli tabela aliasem `tab`."
   ]
  },
  {
   "cell_type": "markdown",
   "id": "628f5e31",
   "metadata": {
    "slideshow": {
     "slide_type": "slide"
    }
   },
   "source": [
    "## Łączenie tabel i wyszukiwanie danych w wielu tabelach"
   ]
  },
  {
   "cell_type": "markdown",
   "id": "25368f66",
   "metadata": {
    "slideshow": {
     "slide_type": "fragment"
    }
   },
   "source": [
    "Czasem potrzebujemy wybrać dane z tabeli w zależności od danych pochodzących z innej tabeli. Do rozwiązania tego problemu służy operacja zwana **łączeniem (`JOIN`)**.\n",
    "\n",
    "Jeśli w zapytaniu potrzebne nam są dane z tabel: `tabela1` i `tabela2`, to musimy wpisać ich nazwy zaraz po słowie `FROM` (tak jak to robimy w standardowych zapytaniach) a następnie odwoływać się do kolumn z tych tabel używając: nazwy konkretnej tabeli, operatora kropki “`.`” oraz nazwy żądanej kolumny.\n",
    "\n",
    "Do kolumny w konkretnej tabeli odwołujemy się za pomocą operatora kropki “`.`”. Jest to szczególnie istotne w zapytaniach, w których korzysta się z więcej niż jednej tabeli.\n",
    "\n",
    "```sqlite\n",
    "SELECT tabela1.Kolumna1, tabela2.Kolumna2 FROM tabela1, tabela2\n",
    "ON tabela1.Kolumna1 = tabela2.Kolumna2;\n",
    "```"
   ]
  },
  {
   "cell_type": "markdown",
   "id": "c2133c13",
   "metadata": {
    "slideshow": {
     "slide_type": "subslide"
    }
   },
   "source": [
    "Operator “`,`” jest skrótem od słowa kluczowego `JOIN`, które oznacza zebranie wymienionych tabel w jedną dużą i operowanie na niej.\n",
    "\n",
    "Możliwe jest łączenie trzech i więcej tabel. Działa to analogicznie jak w przypadku dwóch tabel.\n",
    "\n",
    "`JOIN` łączy rekordy z dwóch+ kolumn w jeden na podstawie podanego warunku/podanych warunków."
   ]
  },
  {
   "cell_type": "code",
   "execution_count": null,
   "id": "a59443f5",
   "metadata": {
    "slideshow": {
     "slide_type": "subslide"
    }
   },
   "outputs": [],
   "source": [
    "!cp library_original.db library.db\n",
    "%load_ext sql\n",
    "%sql sqlite:///library.db?mode=rw"
   ]
  },
  {
   "cell_type": "markdown",
   "id": "80120e64",
   "metadata": {
    "slideshow": {
     "slide_type": "fragment"
    }
   },
   "source": [
    "Schemat bazy danych z pliku `library.db`:\n",
    "\n",
    "![](library.png)"
   ]
  },
  {
   "cell_type": "code",
   "execution_count": null,
   "id": "abbd6ebf",
   "metadata": {
    "slideshow": {
     "slide_type": "subslide"
    }
   },
   "outputs": [],
   "source": [
    "%%sql\n",
    "SELECT * FROM authors;"
   ]
  },
  {
   "cell_type": "code",
   "execution_count": null,
   "id": "c2ba27cb",
   "metadata": {
    "slideshow": {
     "slide_type": "subslide"
    }
   },
   "outputs": [],
   "source": [
    "%%sql\n",
    "SELECT * FROM titles;"
   ]
  },
  {
   "cell_type": "code",
   "execution_count": null,
   "id": "c6827ae6",
   "metadata": {
    "slideshow": {
     "slide_type": "subslide"
    }
   },
   "outputs": [],
   "source": [
    "%%sql\n",
    "SELECT * FROM books;"
   ]
  },
  {
   "cell_type": "code",
   "execution_count": null,
   "id": "c0bc071b",
   "metadata": {
    "slideshow": {
     "slide_type": "subslide"
    }
   },
   "outputs": [],
   "source": [
    "%%sql\n",
    "SELECT * FROM borrowings;"
   ]
  },
  {
   "cell_type": "code",
   "execution_count": null,
   "id": "bb03f72e",
   "metadata": {
    "slideshow": {
     "slide_type": "subslide"
    }
   },
   "outputs": [],
   "source": [
    "%%sql\n",
    "SELECT * FROM users;"
   ]
  },
  {
   "cell_type": "code",
   "execution_count": null,
   "id": "69567dc3",
   "metadata": {
    "slideshow": {
     "slide_type": "subslide"
    }
   },
   "outputs": [],
   "source": [
    "%%sql\n",
    "SELECT * FROM fines;"
   ]
  },
  {
   "cell_type": "markdown",
   "id": "2bb659b4",
   "metadata": {
    "slideshow": {
     "slide_type": "subslide"
    }
   },
   "source": [
    "> **Przykład:**\n",
    ">\n",
    "> Łączymy rekordy z tabel `authors` i `titles` w jedną tabelę na podstawie podanego warunku równości `authors.Id` i `titles.Author_ID`."
   ]
  },
  {
   "cell_type": "code",
   "execution_count": null,
   "id": "a870d155",
   "metadata": {
    "slideshow": {
     "slide_type": "subslide"
    }
   },
   "outputs": [],
   "source": [
    "%%sql\n",
    "SELECT * FROM authors JOIN titles ON authors.ID = titles.Author_ID;"
   ]
  },
  {
   "cell_type": "markdown",
   "id": "ec3f1770",
   "metadata": {
    "slideshow": {
     "slide_type": "slide"
    }
   },
   "source": [
    "## Wyszukiwanie książek konkretnego autora"
   ]
  },
  {
   "cell_type": "markdown",
   "id": "32975db6",
   "metadata": {
    "slideshow": {
     "slide_type": "slide"
    }
   },
   "source": [
    "### Ćwiczenie"
   ]
  },
  {
   "cell_type": "markdown",
   "id": "23647e6e",
   "metadata": {
    "slideshow": {
     "slide_type": "fragment"
    }
   },
   "source": [
    "Znajdź nazwisko i tytuły książek napisanych przez autora o identyfikatorze `'3'`."
   ]
  },
  {
   "cell_type": "markdown",
   "id": "23ceaff3",
   "metadata": {
    "slideshow": {
     "slide_type": "slide"
    }
   },
   "source": [
    "### Rozwiązanie"
   ]
  },
  {
   "cell_type": "code",
   "execution_count": null,
   "id": "9d1077a1",
   "metadata": {
    "slideshow": {
     "slide_type": "fragment"
    }
   },
   "outputs": [],
   "source": [
    "%%sql\n",
    "SELECT authors.Surname, titles.Title FROM authors JOIN titles ON authors.ID = titles.Author_ID\n",
    "WHERE titles.Author_ID = '3';"
   ]
  },
  {
   "cell_type": "markdown",
   "id": "c0b2de8d",
   "metadata": {
    "slideshow": {
     "slide_type": "slide"
    }
   },
   "source": [
    "## Wyszukiwanie książek autorów o imieniu na literę `‘S’`"
   ]
  },
  {
   "cell_type": "markdown",
   "id": "5024092a",
   "metadata": {
    "slideshow": {
     "slide_type": "slide"
    }
   },
   "source": [
    "### Ćwiczenie"
   ]
  },
  {
   "cell_type": "markdown",
   "id": "9e906df3",
   "metadata": {
    "slideshow": {
     "slide_type": "fragment"
    }
   },
   "source": [
    "Znajdź imiona, nazwiska i tytuły książek napisanych przez autorów o imieniu rozpoczynającym się na `'S'`."
   ]
  },
  {
   "cell_type": "markdown",
   "id": "795697f8",
   "metadata": {
    "slideshow": {
     "slide_type": "slide"
    }
   },
   "source": [
    "### Rozwiązanie"
   ]
  },
  {
   "cell_type": "code",
   "execution_count": null,
   "id": "2208e608",
   "metadata": {
    "slideshow": {
     "slide_type": "subslide"
    }
   },
   "outputs": [],
   "source": [
    "%%sql\n",
    "SELECT authors.Name, authors.Surname, titles.Title FROM authors JOIN titles\n",
    "ON authors.ID = titles.Author_ID WHERE authors.Name LIKE 'S%';"
   ]
  },
  {
   "cell_type": "markdown",
   "id": "87b28538",
   "metadata": {
    "slideshow": {
     "slide_type": "subslide"
    }
   },
   "source": [
    "**Możliwe jest łączenie tabel z użyciem aliasów**\n",
    "\n",
    "Aliasy znajdują praktyczne zastosowanie w bardziej złożonych zapytaniach np. korzystających ze złączenia tabel czy podzapytania.\n",
    "\n",
    "```sql\n",
    "SELECT tabela1.Kolumna1 FROM Tabela1 AS tab1, tabela2 AS tab2 WHERE tab2.kolumna=wartość;\n",
    "```"
   ]
  },
  {
   "cell_type": "markdown",
   "id": "36ca5f15",
   "metadata": {
    "slideshow": {
     "slide_type": "subslide"
    }
   },
   "source": [
    "> **Przykład:**\n",
    "> \n",
    "> Podajemy id tytułu, nazwisko autora i tytuł autora o ID `1` korzystając z aliasów dla tabel `titles` i `authors`."
   ]
  },
  {
   "cell_type": "code",
   "execution_count": null,
   "id": "4af03cf1",
   "metadata": {
    "slideshow": {
     "slide_type": "fragment"
    }
   },
   "outputs": [],
   "source": [
    "%%sql\n",
    "SELECT t.ID, a.Surname, t.Title FROM authors AS a, titles AS t ON a.ID = t.Author_ID WHERE a.ID = '1';"
   ]
  },
  {
   "cell_type": "markdown",
   "id": "4b5148df",
   "metadata": {
    "slideshow": {
     "slide_type": "slide"
    }
   },
   "source": [
    "## Pod-zapytania"
   ]
  },
  {
   "cell_type": "markdown",
   "id": "831da27c",
   "metadata": {
    "slideshow": {
     "slide_type": "fragment"
    }
   },
   "source": [
    "Tworzenie podzapytania polega na zagnieżdżaniu zapytania w innym zapytaniu.\n",
    "\n",
    "Aby je zagnieździć, wystarczy w miejscu, w którym oczekujemy zwróconej przez podzapytanie wartości, wstawić nawiasy i zapisać pomiędzy nimi zapytanie w takiej samej formie jak zwykłe zapytanie.\n",
    "\n",
    "```sqlite\n",
    "SELECT Kolumna1, ... FROM tabela1\n",
    "WHERE Kolumna1=(SELECT Kolumna2 FROM tabela2);\n",
    "```"
   ]
  },
  {
   "cell_type": "markdown",
   "id": "63ee01b8",
   "metadata": {
    "slideshow": {
     "slide_type": "subslide"
    }
   },
   "source": [
    "> **Przykład:**\n",
    ">\n",
    "> Wybieramy id, imię i nazwisko autora który napisał książkę o tytule `'Solaris'`."
   ]
  },
  {
   "cell_type": "code",
   "execution_count": null,
   "id": "ef508718",
   "metadata": {
    "slideshow": {
     "slide_type": "subslide"
    }
   },
   "outputs": [],
   "source": [
    "%%sql\n",
    "SELECT Author_ID FROM titles WHERE Title = 'Solaris';"
   ]
  },
  {
   "cell_type": "code",
   "execution_count": null,
   "id": "594d58cd",
   "metadata": {
    "slideshow": {
     "slide_type": "subslide"
    }
   },
   "outputs": [],
   "source": [
    "%%sql\n",
    "SELECT ID, Name, Surname FROM authors WHERE ID = '1';"
   ]
  },
  {
   "cell_type": "code",
   "execution_count": null,
   "id": "16f75601",
   "metadata": {
    "scrolled": true,
    "slideshow": {
     "slide_type": "subslide"
    }
   },
   "outputs": [],
   "source": [
    "%%sql\n",
    "SELECT ID, Name, Surname FROM authors WHERE ID = (\n",
    "    SELECT Author_ID FROM titles WHERE Title = 'Solaris'\n",
    ");"
   ]
  },
  {
   "cell_type": "markdown",
   "id": "71070c03",
   "metadata": {
    "slideshow": {
     "slide_type": "slide"
    }
   },
   "source": [
    "## Wyszukiwanie książek Lema za pomocą podzapytania"
   ]
  },
  {
   "cell_type": "markdown",
   "id": "ed61bd24",
   "metadata": {
    "slideshow": {
     "slide_type": "slide"
    }
   },
   "source": [
    "### Ćwiczenie"
   ]
  },
  {
   "cell_type": "markdown",
   "id": "babc9549",
   "metadata": {
    "slideshow": {
     "slide_type": "fragment"
    }
   },
   "source": [
    "Wybierz przy pomocy podzapytania tytuły wszystkich książek Lema."
   ]
  },
  {
   "cell_type": "markdown",
   "id": "83247ccf",
   "metadata": {
    "slideshow": {
     "slide_type": "slide"
    }
   },
   "source": [
    "### Rozwiązanie"
   ]
  },
  {
   "cell_type": "code",
   "execution_count": null,
   "id": "629a144b",
   "metadata": {
    "slideshow": {
     "slide_type": "fragment"
    }
   },
   "outputs": [],
   "source": [
    "%%sql\n",
    "SELECT Title FROM titles WHERE Author_ID IN (\n",
    "    SELECT ID FROM authors WHERE Surname = 'Lem'\n",
    ");"
   ]
  },
  {
   "cell_type": "markdown",
   "id": "78d25cf2",
   "metadata": {
    "slideshow": {
     "slide_type": "subslide"
    }
   },
   "source": [
    "Wynik każdego zapytania `SELECT` można traktować jak kolejną (wirtualną) tabelę. W efekcie możemy wykonywać na takiej tabeli zapytania.\n",
    "\n",
    "* Pod-zapytania w `FROM`\n",
    "* Pod-zapytania w `WHERE`\n",
    "* Pod-zapytania w `SELECT`"
   ]
  },
  {
   "cell_type": "markdown",
   "id": "cf36704d",
   "metadata": {
    "slideshow": {
     "slide_type": "slide"
    }
   },
   "source": [
    "### Podzapytania w `FROM`"
   ]
  },
  {
   "cell_type": "markdown",
   "id": "e1ff05c8",
   "metadata": {
    "slideshow": {
     "slide_type": "subslide"
    }
   },
   "source": [
    "> Przykład\n",
    "> \n",
    "> Załóżmy, że mamy gotowe zapytanie o listę użytkowników biblioteki wraz z liczbą książek pożyczonych przez każdego z nich.\n",
    ">\n",
    "> Na wyniku tego zapytania możemy wykonać kolejne zapytanie, by otrzymać listę użytkowników, którzy pożyczyli więcej niż 10 książek."
   ]
  },
  {
   "cell_type": "code",
   "execution_count": null,
   "id": "1645354a",
   "metadata": {
    "scrolled": true,
    "slideshow": {
     "slide_type": "subslide"
    }
   },
   "outputs": [],
   "source": [
    "%%sql\n",
    "SELECT users.Name, users.Surname, COUNT(borrowings.ID) AS Activity\n",
    "FROM users JOIN borrowings ON users.ID = borrowings.User_ID GROUP BY users.ID;"
   ]
  },
  {
   "cell_type": "code",
   "execution_count": null,
   "id": "215e17a3",
   "metadata": {
    "slideshow": {
     "slide_type": "subslide"
    }
   },
   "outputs": [],
   "source": [
    "%%sql\n",
    "SELECT * FROM\n",
    "(\n",
    "    SELECT users.Name, users.Surname, COUNT(borrowings.ID) AS Activity\n",
    "    FROM users JOIN borrowings ON users.ID = borrowings.User_ID GROUP BY users.ID\n",
    ")\n",
    "WHERE Activity>10;"
   ]
  },
  {
   "cell_type": "markdown",
   "id": "36ffce61",
   "metadata": {
    "slideshow": {
     "slide_type": "slide"
    }
   },
   "source": [
    "### Podzapytania w `WHERE`"
   ]
  },
  {
   "cell_type": "markdown",
   "id": "869428c1",
   "metadata": {
    "slideshow": {
     "slide_type": "subslide"
    }
   },
   "source": [
    "> Przykład\n",
    "> \n",
    "> Zapytania zwracające w wyniku pojedynczą wartość możemy użyć np. w wyrażeniach warunkowych (`WHERE`, `HAVING`). \n",
    "> \n",
    "> Mając zapytanie o średnią liczbę wypożyczeń dokonanych przez użytkownika, możemy napisać zapytanie zwracające listę użytkowników pożyczających więcej książek niż średnia."
   ]
  },
  {
   "cell_type": "code",
   "execution_count": null,
   "id": "17a58a64",
   "metadata": {
    "slideshow": {
     "slide_type": "subslide"
    }
   },
   "outputs": [],
   "source": [
    "%%sql\n",
    "SELECT COUNT(DISTINCT borrowings.ID) / COUNT(DISTINCT borrowings.User_ID) FROM borrowings;"
   ]
  },
  {
   "cell_type": "code",
   "execution_count": null,
   "id": "72a319f4",
   "metadata": {
    "slideshow": {
     "slide_type": "subslide"
    }
   },
   "outputs": [],
   "source": [
    "%%sql\n",
    "SELECT users.Name, users.Surname, COUNT(borrowings.ID) AS Books_borrowed\n",
    "FROM users JOIN borrowings ON users.ID = borrowings.User_ID GROUP BY users.ID\n",
    "HAVING books_borrowed > 8;"
   ]
  },
  {
   "cell_type": "code",
   "execution_count": null,
   "id": "87e5c856",
   "metadata": {
    "slideshow": {
     "slide_type": "subslide"
    }
   },
   "outputs": [],
   "source": [
    "%%sql\n",
    "SELECT users.Name, users.Surname, COUNT(borrowings.ID) AS Books_borrowed\n",
    "FROM users JOIN borrowings  ON users.ID = borrowings.User_ID GROUP BY users.ID\n",
    "HAVING books_borrowed > (\n",
    "    SELECT COUNT(DISTINCT borrowings.ID) / COUNT(DISTINCT borrowings.User_ID) FROM borrowings\n",
    ");"
   ]
  },
  {
   "cell_type": "markdown",
   "id": "f0ebf3e3",
   "metadata": {
    "slideshow": {
     "slide_type": "slide"
    }
   },
   "source": [
    "### Podzapytania w `SELECT`"
   ]
  },
  {
   "cell_type": "markdown",
   "id": "8f271c9d",
   "metadata": {
    "slideshow": {
     "slide_type": "subslide"
    }
   },
   "source": [
    "> **Przykład:**\n",
    ">\n",
    "> Analogicznie do poprzedniego przypadku - jeśli podzapytanie zwraca pojedynczą wartość, możemy je użyć jako jedną z kolumn w głównym zapytaniu.\n",
    ">\n",
    "> Co ważne - w podzapytaniu (w tym przypadku z tabeli `borrowings`) możemy odwołać się do tabeli i pól z zapytania zewnętrznego (`users`)."
   ]
  },
  {
   "cell_type": "code",
   "execution_count": null,
   "id": "14489c34",
   "metadata": {
    "slideshow": {
     "slide_type": "fragment"
    }
   },
   "outputs": [],
   "source": [
    "%%sql\n",
    "SELECT users.Name, users.Surname, \n",
    "(\n",
    "    SELECT COUNT(borrowings.ID) FROM borrowings WHERE borrowings.User_ID = users.ID\n",
    ") \n",
    "AS Books FROM users;"
   ]
  },
  {
   "cell_type": "markdown",
   "id": "7cdaf944",
   "metadata": {
    "slideshow": {
     "slide_type": "slide"
    }
   },
   "source": [
    "### Wydajność"
   ]
  },
  {
   "cell_type": "markdown",
   "id": "5e372560",
   "metadata": {
    "slideshow": {
     "slide_type": "fragment"
    }
   },
   "source": [
    "Nie musimy się martwić o wydajność takich podzapytań - mimo że pozornie liczenie średniej liczby wypożyczeń powinno się wykonywać z osobna dla każdego rekordu użytkownika, baza danych optymalizuje plan zapytania. Jeśli chcemy sprawdzić, jak nasze zapytanie przekłada się na operacje wykonywane w bazie, możemy przed treścią zapytania dodać komendę `EXPLAIN QUERY PLAN` - zapytanie nie zostanie wtedy wykonane, otrzymamy jednak listę kroków, które baza danych chce wykonać."
   ]
  },
  {
   "cell_type": "markdown",
   "id": "c1155f21",
   "metadata": {
    "slideshow": {
     "slide_type": "slide"
    }
   },
   "source": [
    "> **Przykład:**\n",
    "> \n",
    "> Zapytanie łączy tabelę `users` z `borrowings`, grupuje wyniki według użytkownika i filtruje tych, którzy wypożyczyli więcej książek niż średnia liczba wypożyczeń na użytkownika. `EXPLAIN QUERY PLAN` pokazuje, że SQLite wykonuje skanowanie tabeli `users`, a następnie używa **filtra Bloom**, który jest strukturą danych pozwalającą szybko sprawdzić, czy dany element może należeć do zbioru (kosztem rzadkich fałszywych trafień). Dzięki temu liczba sprawdzanych rekordów w `borrowings` jest mniejsza. Dla grupowania SQLite tworzy **tymczasowe B-drzewo**, czyli zbalansowaną strukturę indeksową optymalizującą operacje wyszukiwania i sortowania. Podzapytanie liczące średnią wypożyczeń również korzysta z **tymczasowego B-drzewa**, aby efektywnie przetwarzać unikalne wartości."
   ]
  },
  {
   "cell_type": "code",
   "execution_count": null,
   "id": "1a498028",
   "metadata": {
    "slideshow": {
     "slide_type": "subslide"
    }
   },
   "outputs": [],
   "source": [
    "%%sql\n",
    "EXPLAIN QUERY PLAN \n",
    "SELECT users.Name, users.Surname, COUNT(borrowings.ID) AS Books_borrowed\n",
    "FROM users JOIN borrowings ON users.ID = borrowings.User_ID GROUP BY users.ID\n",
    "HAVING Books_borrowed > (\n",
    "    SELECT COUNT(DISTINCT borrowings.ID) / count(DISTINCT borrowings.User_ID) FROM borrowings\n",
    ");"
   ]
  },
  {
   "cell_type": "markdown",
   "id": "54b416b3",
   "metadata": {
    "slideshow": {
     "slide_type": "slide"
    }
   },
   "source": [
    "## Zadania utrwalające"
   ]
  },
  {
   "cell_type": "markdown",
   "id": "8a4c1ab7",
   "metadata": {
    "slideshow": {
     "slide_type": "slide"
    }
   },
   "source": [
    "[`02c - Zaawansowane operacje w SQL – stringi, daty, aliasy, joins i podzapytania - zadania.md`](https://github.com/miklesz/SQL/blob/master/02_joins.md)"
   ]
  },
  {
   "cell_type": "code",
   "execution_count": null,
   "id": "9c3ec4bd",
   "metadata": {
    "slideshow": {
     "slide_type": "skip"
    }
   },
   "outputs": [],
   "source": []
  }
 ],
 "metadata": {
  "celltoolbar": "Slideshow",
  "kernelspec": {
   "display_name": "Python 3 (ipykernel)",
   "language": "python",
   "name": "python3"
  },
  "language_info": {
   "codemirror_mode": {
    "name": "ipython",
    "version": 3
   },
   "file_extension": ".py",
   "mimetype": "text/x-python",
   "name": "python",
   "nbconvert_exporter": "python",
   "pygments_lexer": "ipython3",
   "version": "3.13.0"
  }
 },
 "nbformat": 4,
 "nbformat_minor": 5
}
