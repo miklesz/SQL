{
 "cells": [
  {
   "cell_type": "markdown",
   "id": "d5f5f87c",
   "metadata": {
    "slideshow": {
     "slide_type": "slide"
    }
   },
   "source": [
    "# Zaawansowane operacje w SQL - stringi, daty, aliasy, joins i podzapytania - ćwiczenia\n",
    "\n",
    "_Mikołaj Leszczuk_"
   ]
  },
  {
   "cell_type": "markdown",
   "id": "d492d2ed",
   "metadata": {
    "slideshow": {
     "slide_type": "slide"
    }
   },
   "source": [
    "## Unikalna lista autorów"
   ]
  },
  {
   "cell_type": "code",
   "execution_count": null,
   "id": "5c8851c2",
   "metadata": {
    "slideshow": {
     "slide_type": "fragment"
    }
   },
   "outputs": [],
   "source": [
    "!cp simple_library_original.db simple_library.db\n",
    "%load_ext sql\n",
    "%sql sqlite:///simple_library.db?mode=rw"
   ]
  },
  {
   "cell_type": "markdown",
   "id": "5acc902e",
   "metadata": {
    "slideshow": {
     "slide_type": "slide"
    }
   },
   "source": [
    "### Ćwiczenie"
   ]
  },
  {
   "cell_type": "markdown",
   "id": "26c85a78",
   "metadata": {
    "slideshow": {
     "slide_type": "fragment"
    }
   },
   "source": [
    "Wyświetl bez powtórzeń imię i nazwisko oddzielone spacją `(' ')`."
   ]
  },
  {
   "cell_type": "markdown",
   "id": "4f062ed1",
   "metadata": {
    "slideshow": {
     "slide_type": "slide"
    }
   },
   "source": [
    "### Rozwiązanie"
   ]
  },
  {
   "cell_type": "code",
   "execution_count": null,
   "id": "8c094fa6",
   "metadata": {
    "slideshow": {
     "slide_type": "fragment"
    }
   },
   "outputs": [],
   "source": [
    "%%sql\n",
    "SELECT DISTINCT Author_name || ' ' || Author_surname FROM simple_library;"
   ]
  },
  {
   "cell_type": "markdown",
   "id": "8d007606",
   "metadata": {
    "slideshow": {
     "slide_type": "slide"
    }
   },
   "source": [
    "## Imię małymi, nazwisko wielkimi literami"
   ]
  },
  {
   "cell_type": "markdown",
   "id": "734ac5eb",
   "metadata": {
    "slideshow": {
     "slide_type": "slide"
    }
   },
   "source": [
    "### Ćwiczenie"
   ]
  },
  {
   "cell_type": "markdown",
   "id": "06c0e56d",
   "metadata": {
    "slideshow": {
     "slide_type": "fragment"
    }
   },
   "source": [
    "Wyświetl bez powtórzeń imię małymi literami i nazwisko dużymi literami."
   ]
  },
  {
   "cell_type": "markdown",
   "id": "3c1149f0",
   "metadata": {
    "slideshow": {
     "slide_type": "slide"
    }
   },
   "source": [
    "### Rozwiązanie"
   ]
  },
  {
   "cell_type": "code",
   "execution_count": null,
   "id": "1f304e70",
   "metadata": {
    "slideshow": {
     "slide_type": "fragment"
    }
   },
   "outputs": [],
   "source": [
    "%%sql\n",
    "SELECT DISTINCT LOWER(author_name), UPPER(author_surname) FROM simple_library;"
   ]
  },
  {
   "cell_type": "markdown",
   "id": "7798c18e",
   "metadata": {
    "slideshow": {
     "slide_type": "slide"
    }
   },
   "source": [
    "## Wyszukiwanie książek dodanych na początku miesiąca"
   ]
  },
  {
   "cell_type": "markdown",
   "id": "4bb9a954",
   "metadata": {
    "slideshow": {
     "slide_type": "slide"
    }
   },
   "source": [
    "### Ćwiczenie"
   ]
  },
  {
   "cell_type": "markdown",
   "id": "575be6ca",
   "metadata": {
    "slideshow": {
     "slide_type": "fragment"
    }
   },
   "source": [
    "Wybierz książki, których dzień dodania należy do przedziału od `01` do `10`."
   ]
  },
  {
   "cell_type": "markdown",
   "id": "f88e7ea3",
   "metadata": {
    "slideshow": {
     "slide_type": "slide"
    }
   },
   "source": [
    "### Rozwiązanie"
   ]
  },
  {
   "cell_type": "code",
   "execution_count": null,
   "id": "a9caa008",
   "metadata": {
    "slideshow": {
     "slide_type": "fragment"
    }
   },
   "outputs": [],
   "source": [
    "%%sql\n",
    "SELECT * FROM simple_library WHERE STRFTIME('%d', Registration_date) BETWEEN '01' AND '10';"
   ]
  },
  {
   "cell_type": "markdown",
   "id": "db7481d5",
   "metadata": {
    "slideshow": {
     "slide_type": "slide"
    }
   },
   "source": [
    "## Oblicz liczbę dni między dwiema ważnymi datami w historii Polski"
   ]
  },
  {
   "cell_type": "markdown",
   "id": "08ec4c27",
   "metadata": {
    "slideshow": {
     "slide_type": "slide"
    }
   },
   "source": [
    "### Ćwiczenie"
   ]
  },
  {
   "cell_type": "markdown",
   "id": "038947a3",
   "metadata": {
    "slideshow": {
     "slide_type": "fragment"
    }
   },
   "source": [
    "Oblicz liczbę dni, które upłynęły między **odzyskaniem niepodległości przez Polskę (11 listopada 1918)** a **wejściem Polski do Unii Europejskiej (1 maja 2004)**.\n",
    "\n",
    "**Podpowiedź:** Aby uzyskać liczbę dni, odejmij w zapytaniu wartość `JULIANDAY()` dla starszej daty od wartości `JULIANDAY()` dla nowszej daty."
   ]
  },
  {
   "cell_type": "markdown",
   "id": "dee75717",
   "metadata": {
    "slideshow": {
     "slide_type": "slide"
    }
   },
   "source": [
    "### Rozwiązanie"
   ]
  },
  {
   "cell_type": "code",
   "execution_count": null,
   "id": "a2eececa",
   "metadata": {
    "slideshow": {
     "slide_type": "fragment"
    }
   },
   "outputs": [],
   "source": [
    "%%sql\n",
    "SELECT JULIANDAY('2004-05-01') - JULIANDAY('1918-11-11');"
   ]
  },
  {
   "cell_type": "markdown",
   "id": "ec3f1770",
   "metadata": {
    "slideshow": {
     "slide_type": "slide"
    }
   },
   "source": [
    "## Wyszukiwanie książek konkretnego autora"
   ]
  },
  {
   "cell_type": "code",
   "execution_count": null,
   "id": "a59443f5",
   "metadata": {
    "slideshow": {
     "slide_type": "fragment"
    }
   },
   "outputs": [],
   "source": [
    "!cp library_original.db library.db\n",
    "%sql sqlite:///library.db?mode=rw"
   ]
  },
  {
   "cell_type": "markdown",
   "id": "32975db6",
   "metadata": {
    "slideshow": {
     "slide_type": "slide"
    }
   },
   "source": [
    "### Ćwiczenie"
   ]
  },
  {
   "cell_type": "markdown",
   "id": "23647e6e",
   "metadata": {
    "slideshow": {
     "slide_type": "fragment"
    }
   },
   "source": [
    "Znajdź nazwisko i tytuły książek napisanych przez autora o identyfikatorze `'3'`."
   ]
  },
  {
   "cell_type": "markdown",
   "id": "23ceaff3",
   "metadata": {
    "slideshow": {
     "slide_type": "slide"
    }
   },
   "source": [
    "### Rozwiązanie"
   ]
  },
  {
   "cell_type": "code",
   "execution_count": null,
   "id": "9d1077a1",
   "metadata": {
    "slideshow": {
     "slide_type": "fragment"
    }
   },
   "outputs": [],
   "source": [
    "%%sql\n",
    "SELECT authors.Surname, titles.Title FROM authors JOIN titles ON authors.ID = titles.Author_ID\n",
    "WHERE titles.Author_ID = '3';"
   ]
  },
  {
   "cell_type": "markdown",
   "id": "c0b2de8d",
   "metadata": {
    "slideshow": {
     "slide_type": "slide"
    }
   },
   "source": [
    "## Wyszukiwanie książek autorów o imieniu na literę `‘S’`"
   ]
  },
  {
   "cell_type": "markdown",
   "id": "5024092a",
   "metadata": {
    "slideshow": {
     "slide_type": "slide"
    }
   },
   "source": [
    "### Ćwiczenie"
   ]
  },
  {
   "cell_type": "markdown",
   "id": "9e906df3",
   "metadata": {
    "slideshow": {
     "slide_type": "fragment"
    }
   },
   "source": [
    "Znajdź imiona, nazwiska i tytuły książek napisanych przez autorów o imieniu rozpoczynającym się na `'S'`."
   ]
  },
  {
   "cell_type": "markdown",
   "id": "795697f8",
   "metadata": {
    "slideshow": {
     "slide_type": "slide"
    }
   },
   "source": [
    "### Rozwiązanie"
   ]
  },
  {
   "cell_type": "code",
   "execution_count": null,
   "id": "2208e608",
   "metadata": {
    "slideshow": {
     "slide_type": "subslide"
    }
   },
   "outputs": [],
   "source": [
    "%%sql\n",
    "SELECT authors.Name, authors.Surname, titles.Title FROM authors JOIN titles\n",
    "ON authors.ID = titles.Author_ID WHERE authors.Name LIKE 'S%';"
   ]
  },
  {
   "cell_type": "markdown",
   "id": "71070c03",
   "metadata": {
    "slideshow": {
     "slide_type": "slide"
    }
   },
   "source": [
    "## Wyszukiwanie książek Lema za pomocą podzapytania"
   ]
  },
  {
   "cell_type": "markdown",
   "id": "ed61bd24",
   "metadata": {
    "slideshow": {
     "slide_type": "slide"
    }
   },
   "source": [
    "### Ćwiczenie"
   ]
  },
  {
   "cell_type": "markdown",
   "id": "babc9549",
   "metadata": {
    "slideshow": {
     "slide_type": "fragment"
    }
   },
   "source": [
    "Wybierz przy pomocy podzapytania tytuły wszystkich książek Lema."
   ]
  },
  {
   "cell_type": "markdown",
   "id": "83247ccf",
   "metadata": {
    "slideshow": {
     "slide_type": "slide"
    }
   },
   "source": [
    "### Rozwiązanie"
   ]
  },
  {
   "cell_type": "code",
   "execution_count": null,
   "id": "629a144b",
   "metadata": {
    "slideshow": {
     "slide_type": "fragment"
    }
   },
   "outputs": [],
   "source": [
    "%%sql\n",
    "SELECT Title FROM titles WHERE Author_ID IN (\n",
    "    SELECT ID FROM authors WHERE Surname = 'Lem'\n",
    ");"
   ]
  },
  {
   "cell_type": "markdown",
   "id": "54b416b3",
   "metadata": {
    "slideshow": {
     "slide_type": "slide"
    }
   },
   "source": [
    "## Zadania utrwalające"
   ]
  },
  {
   "cell_type": "markdown",
   "id": "8a4c1ab7",
   "metadata": {
    "slideshow": {
     "slide_type": "fragment"
    }
   },
   "source": [
    "[`02c - Zaawansowane operacje w SQL – stringi, daty, aliasy, joins i podzapytania - zadania.md`](https://github.com/miklesz/SQL/blob/master/02c%20-%20Zaawansowane%20operacje%20w%20SQL%20–%20stringi%2C%20daty%2C%20aliasy%2C%20joins%20i%20podzapytania%20-%20zadania.md)"
   ]
  },
  {
   "cell_type": "code",
   "execution_count": null,
   "id": "9c3ec4bd",
   "metadata": {
    "slideshow": {
     "slide_type": "skip"
    }
   },
   "outputs": [],
   "source": []
  }
 ],
 "metadata": {
  "celltoolbar": "Slideshow",
  "kernelspec": {
   "display_name": "Python 3 (ipykernel)",
   "language": "python",
   "name": "python3"
  },
  "language_info": {
   "codemirror_mode": {
    "name": "ipython",
    "version": 3
   },
   "file_extension": ".py",
   "mimetype": "text/x-python",
   "name": "python",
   "nbconvert_exporter": "python",
   "pygments_lexer": "ipython3",
   "version": "3.13.0"
  }
 },
 "nbformat": 4,
 "nbformat_minor": 5
}
